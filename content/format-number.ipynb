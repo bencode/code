{
  "metadata": {
    "kernelspec": {
      "name": "javascript",
      "display_name": "JavaScript (Web Worker)",
      "language": "javascript"
    },
    "language_info": {
      "codemirror_mode": {
        "name": "javascript"
      },
      "file_extension": ".js",
      "mimetype": "text/javascript",
      "name": "javascript",
      "nbconvert_exporter": "javascript",
      "pygments_lexer": "javascript",
      "version": "es2017"
    }
  },
  "nbformat_minor": 4,
  "nbformat": 4,
  "cells": [
    {
      "cell_type": "markdown",
      "source": "# 从数字格式化到函数组合",
      "metadata": {}
    },
    {
      "cell_type": "markdown",
      "source": "假设需实现一数字格式化函数\n- 格式上支持百分比，万、十万等后缀；\n- 精度上支持自定义小数位数；\n- 四舍五入、向上向下取整；\n- 千分位分隔；\n- 自定义前后缀。\n\n具体见ts定义。",
      "metadata": {}
    },
    {
      "cell_type": "markdown",
      "source": "## 接口定义\n```ts\nexport type FormatRules = Partial<{\n  format: string\n  precision: number\n  carry: 'floor' | 'ceil' | 'round'\n  thousandsSeparator: boolean\n}>\n\ntype FormatEnum =\n  | 'percent'\n  | 'wan' // 万\n  | 'baiwan'  // 百万\n  | 'qianwan' // 千万\n  | 'yi' // 亿\n\nexport function formatNumber(value: number, opts: FormatRules);\n```",
      "metadata": {}
    },
    {
      "cell_type": "markdown",
      "source": "## format suffix\n\n格式化后会加上合适的后缀。",
      "metadata": {}
    },
    {
      "cell_type": "code",
      "source": "function getFormatSuffix(format) {\n  const map = {\n    percent: '%',\n    wan: '万',\n    baiwan: '百万',\n    qianwan: '千万',\n    yi: '亿',\n  }\n  return map[format]\n}\n\ngetFormatSuffix('percent')",
      "metadata": {
        "trusted": true
      },
      "outputs": [
        {
          "execution_count": 44,
          "output_type": "execute_result",
          "data": {
            "text/plain": "'%'"
          },
          "metadata": {}
        }
      ],
      "execution_count": 58
    },
    {
      "cell_type": "code",
      "source": "getFormatSuffix('yi') // 不好意思，用了中文拼音，有点邪恶。",
      "metadata": {
        "trusted": true
      },
      "outputs": [
        {
          "execution_count": 4,
          "output_type": "execute_result",
          "data": {
            "text/plain": "'亿'"
          },
          "metadata": {}
        }
      ],
      "execution_count": 4
    },
    {
      "cell_type": "markdown",
      "source": "## auto\n\n当 format未指定时，需“推断”出合适的 format, 当然只对上述几个单位有效。",
      "metadata": {}
    },
    {
      "cell_type": "code",
      "source": "function detectFormat(value) {\n  const list = [\n    [1_0000_0000, 'yi'],\n    [1000_0000, 'qianwan'],\n    [100_0000, 'baiwan'],\n    [1_0000, 'wan'],\n  ]\n  const item = list.find(pair => value >= pair[0])\n  return item ? item[1] : undefined\n}",
      "metadata": {
        "trusted": true
      },
      "outputs": [
        {
          "execution_count": 5,
          "output_type": "execute_result",
          "data": {},
          "metadata": {}
        }
      ],
      "execution_count": 5
    },
    {
      "cell_type": "code",
      "source": "detectFormat(123456789)",
      "metadata": {
        "trusted": true
      },
      "outputs": [
        {
          "execution_count": 6,
          "output_type": "execute_result",
          "data": {
            "text/plain": "'yi'"
          },
          "metadata": {}
        }
      ],
      "execution_count": 6
    },
    {
      "cell_type": "code",
      "source": "detectFormat(98765)",
      "metadata": {
        "trusted": true
      },
      "outputs": [
        {
          "execution_count": 10,
          "output_type": "execute_result",
          "data": {
            "text/plain": "'wan'"
          },
          "metadata": {}
        }
      ],
      "execution_count": 11
    },
    {
      "cell_type": "code",
      "source": "detectFormat(123)",
      "metadata": {
        "trusted": true
      },
      "outputs": [
        {
          "execution_count": 9,
          "output_type": "execute_result",
          "data": {},
          "metadata": {}
        }
      ],
      "execution_count": 10
    },
    {
      "cell_type": "markdown",
      "source": "## 千分位\n\n我觉得正则表达式的版本会比循环版本好。",
      "metadata": {}
    },
    {
      "cell_type": "code",
      "source": "function formatWithThousandsSeparator(num/*:string*/) {\n  const [integerPart, decimalPart] = num.split('.')\n  const formattedInteger = integerPart.replace(/\\B(?=(\\d{3})+(?!\\d))/g, ',')\n  return decimalPart ? `${formattedInteger}.${decimalPart}` : formattedInteger\n}",
      "metadata": {
        "trusted": true
      },
      "outputs": [
        {
          "execution_count": 15,
          "output_type": "execute_result",
          "data": {},
          "metadata": {}
        }
      ],
      "execution_count": 18
    },
    {
      "cell_type": "code",
      "source": "formatWithThousandsSeparator('123456789')",
      "metadata": {
        "trusted": true
      },
      "outputs": [
        {
          "execution_count": 16,
          "output_type": "execute_result",
          "data": {
            "text/plain": "'123,456,789'"
          },
          "metadata": {}
        }
      ],
      "execution_count": 19
    },
    {
      "cell_type": "markdown",
      "source": "这个正则表达式是GPT帮我写的，我对正则表达式的环视语法不大熟悉：（。",
      "metadata": {}
    },
    {
      "cell_type": "markdown",
      "source": "## 舍入\n四舍五入和上下取整直接使用Number提供的函数，\n注意的是，这个方法只对整数操作， 而我们要求中的舍入是针对小数位数的。",
      "metadata": {}
    },
    {
      "cell_type": "code",
      "source": "function getCarryValue(value, type) {\n  if (type === 'floor') {\n    return Math.floor(value)\n  }\n  if (type === 'ceil') {\n    return Math.ceil(value)\n  }\n  return Math.round(value)\n}",
      "metadata": {
        "trusted": true
      },
      "outputs": [
        {
          "execution_count": 17,
          "output_type": "execute_result",
          "data": {},
          "metadata": {}
        }
      ],
      "execution_count": 22
    },
    {
      "cell_type": "markdown",
      "source": "## 格式化缩放\n\n准备了一些工具方法后，进入正题，首先根据格式要求对数据缩放。",
      "metadata": {}
    },
    {
      "cell_type": "code",
      "source": "function getScaledValue(value, format) {\n  const shift = getFormatShift(format)\n  const next = shift !== 0 ? value * 10 ** shift : value\n  return next\n}\n\nfunction getFormatShift(format) {\n  const map = {\n    percent: 2,\n    // 万\n    wan: -4,\n    // 百万\n    baiwan: -6,\n    // 千万\n    qianwan: -7,\n    // 亿\n    yi: -8,\n  }\n  return format ? map[format] ?? 0 : 0\n}",
      "metadata": {
        "trusted": true
      },
      "outputs": [
        {
          "execution_count": 20,
          "output_type": "execute_result",
          "data": {},
          "metadata": {}
        }
      ],
      "execution_count": 30
    },
    {
      "cell_type": "code",
      "source": "getScaledValue(0.785, 'percent')",
      "metadata": {
        "trusted": true
      },
      "outputs": [
        {
          "execution_count": 45,
          "output_type": "execute_result",
          "data": {
            "text/plain": "78.5"
          },
          "metadata": {}
        }
      ],
      "execution_count": 59
    },
    {
      "cell_type": "code",
      "source": "getScaledValue(12345, 'wan')",
      "metadata": {
        "trusted": true
      },
      "outputs": [
        {
          "execution_count": 46,
          "output_type": "execute_result",
          "data": {
            "text/plain": "1.2345"
          },
          "metadata": {}
        }
      ],
      "execution_count": 60
    },
    {
      "cell_type": "markdown",
      "source": "## 保留有效小数位数\n\n用到上述定义的舍入函数： `getCarryValue()`",
      "metadata": {}
    },
    {
      "cell_type": "code",
      "source": "function getPrecisionValue(value, precision, type) {\n  const scale = 10 ** precision\n  const next = getCarryValue(value * scale, type)\n  return next / scale\n}\n",
      "metadata": {
        "trusted": true
      },
      "outputs": [
        {
          "execution_count": 23,
          "output_type": "execute_result",
          "data": {},
          "metadata": {}
        }
      ],
      "execution_count": 34
    },
    {
      "cell_type": "code",
      "source": "getPrecisionValue(123.123, 2, 'round')",
      "metadata": {
        "trusted": true
      },
      "outputs": [
        {
          "execution_count": 25,
          "output_type": "execute_result",
          "data": {
            "text/plain": "123.12"
          },
          "metadata": {}
        }
      ],
      "execution_count": 36
    },
    {
      "cell_type": "code",
      "source": "getPrecisionValue(123.125, 2, 'round')",
      "metadata": {
        "trusted": true,
        "scrolled": true
      },
      "outputs": [
        {
          "execution_count": 52,
          "output_type": "execute_result",
          "data": {
            "text/plain": "123.13"
          },
          "metadata": {}
        }
      ],
      "execution_count": 66
    },
    {
      "cell_type": "markdown",
      "source": "## 浮点数精度",
      "metadata": {}
    },
    {
      "cell_type": "code",
      "source": "0.1 + 0.2",
      "metadata": {
        "trusted": true
      },
      "outputs": [
        {
          "execution_count": 53,
          "output_type": "execute_result",
          "data": {
            "text/plain": "0.30000000000000004"
          },
          "metadata": {}
        }
      ],
      "execution_count": 67
    },
    {
      "cell_type": "markdown",
      "source": "由于JS对浮点数计算的精度问题，结合当前的应用场景，使用round来避免以上问题。",
      "metadata": {}
    },
    {
      "cell_type": "code",
      "source": "function round(value) {\n  const scale = 10 ** 8\n  return Math.round(value * scale) / scale\n}",
      "metadata": {
        "trusted": true
      },
      "outputs": [
        {
          "execution_count": 57,
          "output_type": "execute_result",
          "data": {},
          "metadata": {}
        }
      ],
      "execution_count": 72
    },
    {
      "cell_type": "code",
      "source": "round(0.1 + 0.2)",
      "metadata": {
        "trusted": true
      },
      "outputs": [
        {
          "execution_count": 34,
          "output_type": "execute_result",
          "data": {
            "text/plain": "0.3"
          },
          "metadata": {}
        }
      ],
      "execution_count": 46
    },
    {
      "cell_type": "markdown",
      "source": "## 整合起来\n\n原料都准备好了，现在是时候整合起来了。",
      "metadata": {}
    },
    {
      "cell_type": "code",
      "source": "function formatNumber(value, opts = {}) {\n  const format = opts.format === 'auto' ? detectFormat(value) : opts.format\n  const precision = opts.precision ?? -1\n  const next = getScaledValue(value, format)\n  const result = precision >= 0 ? getPrecisionValue(next, precision, opts.carry) : next\n  const str = toString(result, precision, format, opts)\n  return str\n}",
      "metadata": {
        "trusted": true
      },
      "outputs": [
        {
          "execution_count": 61,
          "output_type": "execute_result",
          "data": {},
          "metadata": {}
        }
      ],
      "execution_count": 77
    },
    {
      "cell_type": "markdown",
      "source": "最后的 `toString` 用于格式化\n\n```ts\nexport type FormatRules = Partial<{\n  format: string\n  precision: number\n  carry: 'floor' | 'ceil' | 'round'\n  thousandsSeparator: boolean\n}>\n```",
      "metadata": {}
    },
    {
      "cell_type": "code",
      "source": "function toString(num, precision, format, opts) {\n  const value = precision >= 0 ? num.toFixed(precision) : `${round(num)}` // <-- 注意第二个分支\n  const next = opts.thousandsSeparator ? formatWithThousandsSeparator(value) : value\n  const formatSuffix = format ? getFormatSuffix(format) : ''\n  return `${next}${formatSuffix}`\n}",
      "metadata": {
        "trusted": true
      },
      "outputs": [
        {
          "execution_count": 97,
          "output_type": "execute_result",
          "data": {},
          "metadata": {}
        }
      ],
      "execution_count": 114
    },
    {
      "cell_type": "code",
      "source": "formatNumber(1234512345.6789, { format: 'wan', precision: 2, carry: 'round', thousandsSeparator: true })",
      "metadata": {
        "trusted": true
      },
      "outputs": [
        {
          "execution_count": 63,
          "output_type": "execute_result",
          "data": {
            "text/plain": "'123,451.23万'"
          },
          "metadata": {}
        }
      ],
      "execution_count": 79
    },
    {
      "cell_type": "markdown",
      "source": "## 默认精度\n\n当包含精度参数(precision）时，toFixed会在内部帮我们处理好浮点数的精度问题；  \n否则我们需要自己这里， 这是上面 `${round(num)}` 的作用。",
      "metadata": {}
    },
    {
      "cell_type": "code",
      "source": "0.2+0.7",
      "metadata": {
        "trusted": true,
        "tags": [],
        "editable": true,
        "slideshow": {
          "slide_type": ""
        }
      },
      "outputs": [
        {
          "execution_count": 92,
          "output_type": "execute_result",
          "data": {
            "text/plain": "0.8999999999999999"
          },
          "metadata": {}
        }
      ],
      "execution_count": 108
    },
    {
      "cell_type": "code",
      "source": "(0.2+0.7) * 234",
      "metadata": {
        "trusted": true
      },
      "outputs": [
        {
          "execution_count": 93,
          "output_type": "execute_result",
          "data": {
            "text/plain": "210.59999999999997"
          },
          "metadata": {}
        }
      ],
      "execution_count": 109
    },
    {
      "cell_type": "code",
      "source": "formatNumber((0.2+0.7) * 234)",
      "metadata": {
        "trusted": true
      },
      "outputs": [
        {
          "execution_count": 94,
          "output_type": "execute_result",
          "data": {
            "text/plain": "'210.6'"
          },
          "metadata": {}
        }
      ],
      "execution_count": 110
    },
    {
      "cell_type": "code",
      "source": "",
      "metadata": {
        "trusted": true
      },
      "outputs": [],
      "execution_count": null
    },
    {
      "cell_type": "code",
      "source": "",
      "metadata": {
        "trusted": true
      },
      "outputs": [],
      "execution_count": null
    }
  ]
}