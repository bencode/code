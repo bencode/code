{
  "metadata": {
    "kernelspec": {
      "name": "javascript",
      "display_name": "JavaScript (Web Worker)",
      "language": "javascript"
    },
    "language_info": {
      "codemirror_mode": {
        "name": "javascript"
      },
      "file_extension": ".js",
      "mimetype": "text/javascript",
      "name": "javascript",
      "nbconvert_exporter": "javascript",
      "pygments_lexer": "javascript",
      "version": "es2017"
    }
  },
  "nbformat_minor": 4,
  "nbformat": 4,
  "cells": [
    {
      "cell_type": "markdown",
      "source": "# From a Number Formatting Example to Function Composition",
      "metadata": {}
    },
    {
      "cell_type": "markdown",
      "source": "Suppose we need to implement a number formatting function with the following requirements:\n\n- Format options including percentage and suffixes like `wan`, `yi`, etc.\n- Configurable decimal precision\n- Rounding methods: round, ceiling, and floor\n- Thousands separator\n- Custom prefixes and suffixes\n\nSee the TypeScript definition for details.",
      "metadata": {}
    },
    {
      "cell_type": "markdown",
      "source": "## Number Formatting",
      "metadata": {}
    },
    {
      "cell_type": "markdown",
      "source": "### Interface Definition\n\nPlease excuse that this example is in a Chinese context\n\n```ts\nexport type FormatRules = Partial<{\n  format: string\n  precision: number\n  carry: 'floor' | 'ceil' | 'round'\n  thousandsSeparator: boolean\n}>\n\ntype FormatEnum =\n  | 'percent'\n  | 'wan'     // 10k (Chinese: 万)\n  | 'baiwan'  // 1M (Chinese: 百万)\n  | 'qianwan' // 10M (Chinese: 千万)\n  | 'yi'      // 100M (Chinese: 亿)\n\nexport function formatNumber(value: number, opts: FormatRules);\n```",
      "metadata": {
        "jp-MarkdownHeadingCollapsed": true
      }
    },
    {
      "cell_type": "markdown",
      "source": "### format suffix\n\nSuitable suffixes will be added after formatting",
      "metadata": {}
    },
    {
      "cell_type": "code",
      "source": "function getFormatSuffix(format) {\n  const map = {\n    percent: '%',\n    wan: '万',\n    baiwan: '百万',\n    qianwan: '千万',\n    yi: '亿',\n  }\n  return map[format]\n}\n\ngetFormatSuffix('percent')",
      "metadata": {
        "trusted": true
      },
      "outputs": [
        {
          "execution_count": 1,
          "output_type": "execute_result",
          "data": {
            "text/plain": "'%'"
          },
          "metadata": {}
        }
      ],
      "execution_count": 1
    },
    {
      "cell_type": "code",
      "source": "getFormatSuffix('yi') // Sorry for using Chinese pinyin, it's a bit evil.",
      "metadata": {
        "trusted": true
      },
      "outputs": [
        {
          "execution_count": 2,
          "output_type": "execute_result",
          "data": {
            "text/plain": "'亿'"
          },
          "metadata": {}
        }
      ],
      "execution_count": 2
    },
    {
      "cell_type": "markdown",
      "source": "### auto\n\nWhen format is not specified, we need to \"infer\" an appropriate format - of course, this only applies to the units mentioned above.",
      "metadata": {}
    },
    {
      "cell_type": "code",
      "source": "function detectFormat(value) {\n  const list = [\n    [1_0000_0000, 'yi'],\n    [1000_0000, 'qianwan'],\n    [100_0000, 'baiwan'],\n    [1_0000, 'wan'],\n  ]\n  const item = list.find(pair => value >= pair[0])\n  return item ? item[1] : undefined\n}",
      "metadata": {
        "trusted": true
      },
      "outputs": [
        {
          "execution_count": 3,
          "output_type": "execute_result",
          "data": {},
          "metadata": {}
        }
      ],
      "execution_count": 3
    },
    {
      "cell_type": "code",
      "source": "detectFormat(123456789)",
      "metadata": {
        "trusted": true
      },
      "outputs": [
        {
          "execution_count": 4,
          "output_type": "execute_result",
          "data": {
            "text/plain": "'yi'"
          },
          "metadata": {}
        }
      ],
      "execution_count": 4
    },
    {
      "cell_type": "code",
      "source": "detectFormat(98765)",
      "metadata": {
        "trusted": true
      },
      "outputs": [
        {
          "execution_count": 5,
          "output_type": "execute_result",
          "data": {
            "text/plain": "'wan'"
          },
          "metadata": {}
        }
      ],
      "execution_count": 5
    },
    {
      "cell_type": "code",
      "source": "detectFormat(123)",
      "metadata": {
        "trusted": true
      },
      "outputs": [
        {
          "execution_count": 6,
          "output_type": "execute_result",
          "data": {},
          "metadata": {}
        }
      ],
      "execution_count": 6
    },
    {
      "cell_type": "markdown",
      "source": "### Thousands Separator\n\nA regex-based solution would be more elegant than a loop-based one",
      "metadata": {}
    },
    {
      "cell_type": "code",
      "source": "function formatWithThousandsSeparator(num/*:string*/) {\n  const [integerPart, decimalPart] = num.split('.')\n  const formattedInteger = integerPart.replace(/\\B(?=(\\d{3})+(?!\\d))/g, ',')\n  return decimalPart ? `${formattedInteger}.${decimalPart}` : formattedInteger\n}",
      "metadata": {
        "trusted": true
      },
      "outputs": [
        {
          "execution_count": 7,
          "output_type": "execute_result",
          "data": {},
          "metadata": {}
        }
      ],
      "execution_count": 7
    },
    {
      "cell_type": "code",
      "source": "formatWithThousandsSeparator('123456789')",
      "metadata": {
        "trusted": true
      },
      "outputs": [
        {
          "execution_count": 8,
          "output_type": "execute_result",
          "data": {
            "text/plain": "'123,456,789'"
          },
          "metadata": {}
        }
      ],
      "execution_count": 8
    },
    {
      "cell_type": "markdown",
      "source": "Note: Credit to GPT for this regex - lookbehind/lookahead syntax isn't my strong suit 😅",
      "metadata": {}
    },
    {
      "cell_type": "markdown",
      "source": "### Rounding\n\nWhile we can use Number's built-in functions for rounding and floor/ceiling operations,\nnote that these methods only work with integers, whereas our requirement is to round to specific decimal places.",
      "metadata": {}
    },
    {
      "cell_type": "code",
      "source": "function getCarryValue(value, type) {\n  if (type === 'floor') {\n    return Math.floor(value)\n  }\n  if (type === 'ceil') {\n    return Math.ceil(value)\n  }\n  return Math.round(value)\n}",
      "metadata": {
        "trusted": true
      },
      "outputs": [
        {
          "execution_count": 9,
          "output_type": "execute_result",
          "data": {},
          "metadata": {}
        }
      ],
      "execution_count": 9
    },
    {
      "cell_type": "markdown",
      "source": "### Format Scaling\n\nNow that we have our utility methods ready, let's focus on the core task: scaling data based on format specifications.",
      "metadata": {}
    },
    {
      "cell_type": "code",
      "source": "function getScaledValue(value, format) {\n  const shift = getFormatShift(format)\n  const next = shift !== 0 ? value * 10 ** shift : value\n  return next\n}\n\nfunction getFormatShift(format) {\n  const map = {\n    percent: 2,\n    // 万\n    wan: -4,\n    // 百万\n    baiwan: -6,\n    // 千万\n    qianwan: -7,\n    // 亿\n    yi: -8,\n  }\n  return format ? map[format] ?? 0 : 0\n}",
      "metadata": {
        "trusted": true
      },
      "outputs": [
        {
          "execution_count": 10,
          "output_type": "execute_result",
          "data": {},
          "metadata": {}
        }
      ],
      "execution_count": 10
    },
    {
      "cell_type": "code",
      "source": "getScaledValue(0.785, 'percent')",
      "metadata": {
        "trusted": true
      },
      "outputs": [
        {
          "execution_count": 11,
          "output_type": "execute_result",
          "data": {
            "text/plain": "78.5"
          },
          "metadata": {}
        }
      ],
      "execution_count": 11
    },
    {
      "cell_type": "code",
      "source": "getScaledValue(12345, 'wan')",
      "metadata": {
        "trusted": true
      },
      "outputs": [
        {
          "execution_count": 12,
          "output_type": "execute_result",
          "data": {
            "text/plain": "1.2345"
          },
          "metadata": {}
        }
      ],
      "execution_count": 12
    },
    {
      "cell_type": "markdown",
      "source": "### Handle Decimal Precision\n\nUsing the rounding function defined earlier `getCarryValue()`",
      "metadata": {}
    },
    {
      "cell_type": "code",
      "source": "function getPrecisionValue(value, precision, type) {\n  const scale = 10 ** precision\n  const next = getCarryValue(value * scale, type)\n  return next / scale\n}",
      "metadata": {
        "trusted": true
      },
      "outputs": [
        {
          "execution_count": 13,
          "output_type": "execute_result",
          "data": {},
          "metadata": {}
        }
      ],
      "execution_count": 13
    },
    {
      "cell_type": "code",
      "source": "getPrecisionValue(123.123, 2, 'round')",
      "metadata": {
        "trusted": true
      },
      "outputs": [
        {
          "execution_count": 14,
          "output_type": "execute_result",
          "data": {
            "text/plain": "123.12"
          },
          "metadata": {}
        }
      ],
      "execution_count": 14
    },
    {
      "cell_type": "code",
      "source": "getPrecisionValue(123.125, 2, 'round')",
      "metadata": {
        "trusted": true,
        "scrolled": true
      },
      "outputs": [
        {
          "execution_count": 15,
          "output_type": "execute_result",
          "data": {
            "text/plain": "123.13"
          },
          "metadata": {}
        }
      ],
      "execution_count": 15
    },
    {
      "cell_type": "markdown",
      "source": "### Floating-Point Precision",
      "metadata": {}
    },
    {
      "cell_type": "code",
      "source": "0.1 + 0.2",
      "metadata": {
        "trusted": true
      },
      "outputs": [
        {
          "execution_count": 16,
          "output_type": "execute_result",
          "data": {
            "text/plain": "0.30000000000000004"
          },
          "metadata": {}
        }
      ],
      "execution_count": 16
    },
    {
      "cell_type": "markdown",
      "source": "Due to JavaScript's floating-point precision issues, and considering our current use case, we'll use round to avoid these problems.",
      "metadata": {}
    },
    {
      "cell_type": "code",
      "source": "function round(value) {\n  const scale = 10 ** 8\n  return Math.round(value * scale) / scale\n}",
      "metadata": {
        "trusted": true
      },
      "outputs": [
        {
          "execution_count": 17,
          "output_type": "execute_result",
          "data": {},
          "metadata": {}
        }
      ],
      "execution_count": 17
    },
    {
      "cell_type": "code",
      "source": "round(0.1 + 0.2)",
      "metadata": {
        "trusted": true
      },
      "outputs": [
        {
          "execution_count": 18,
          "output_type": "execute_result",
          "data": {
            "text/plain": "0.3"
          },
          "metadata": {}
        }
      ],
      "execution_count": 18
    },
    {
      "cell_type": "markdown",
      "source": "### Putting It All Together\n\nWith all components prepared, it's time to bring everything together.",
      "metadata": {}
    },
    {
      "cell_type": "code",
      "source": "function formatNumber(value, opts = {}) {\n  const format = opts.format === 'auto' ? detectFormat(value) : opts.format\n  const precision = opts.precision ?? -1\n  const next = getScaledValue(value, format)\n  const result = precision >= 0 ? getPrecisionValue(next, precision, opts.carry) : next\n  const str = toString(result, precision, format, opts)\n  return str\n}",
      "metadata": {
        "trusted": true
      },
      "outputs": [
        {
          "execution_count": 19,
          "output_type": "execute_result",
          "data": {},
          "metadata": {}
        }
      ],
      "execution_count": 19
    },
    {
      "cell_type": "markdown",
      "source": "Finally, `toString` takes care of the formatting\n\n```ts\nexport type FormatRules = Partial<{\n  format: string\n  precision: number\n  carry: 'floor' | 'ceil' | 'round'\n  thousandsSeparator: boolean\n}>\n```",
      "metadata": {}
    },
    {
      "cell_type": "code",
      "source": "function toString(num, precision, format, opts) {\n  const value = precision >= 0 ? num.toFixed(precision) : `${round(num)}` // <-- 注意第二个分支\n  const next = opts.thousandsSeparator ? formatWithThousandsSeparator(value) : value\n  const formatSuffix = format ? getFormatSuffix(format) : ''\n  return `${next}${formatSuffix}`\n}",
      "metadata": {
        "trusted": true
      },
      "outputs": [
        {
          "execution_count": 20,
          "output_type": "execute_result",
          "data": {},
          "metadata": {}
        }
      ],
      "execution_count": 20
    },
    {
      "cell_type": "code",
      "source": "formatNumber(1234512345.6789, { format: 'wan', precision: 2, carry: 'round', thousandsSeparator: true })",
      "metadata": {
        "trusted": true
      },
      "outputs": [
        {
          "execution_count": 21,
          "output_type": "execute_result",
          "data": {
            "text/plain": "'123,451.23万'"
          },
          "metadata": {}
        }
      ],
      "execution_count": 21
    },
    {
      "cell_type": "markdown",
      "source": "### Default Precision\n\nWhen a precision parameter is provided, toFixed handles floating-point precision issues internally;  \notherwise, we need to handle it ourselves - this is why we use `${round(num)}` above.",
      "metadata": {}
    },
    {
      "cell_type": "code",
      "source": "0.2 + 0.7",
      "metadata": {
        "trusted": true,
        "tags": [],
        "editable": true,
        "slideshow": {
          "slide_type": ""
        }
      },
      "outputs": [
        {
          "execution_count": 22,
          "output_type": "execute_result",
          "data": {
            "text/plain": "0.8999999999999999"
          },
          "metadata": {}
        }
      ],
      "execution_count": 22
    },
    {
      "cell_type": "code",
      "source": "(0.2 + 0.7) * 234",
      "metadata": {
        "trusted": true
      },
      "outputs": [
        {
          "execution_count": 23,
          "output_type": "execute_result",
          "data": {
            "text/plain": "210.59999999999997"
          },
          "metadata": {}
        }
      ],
      "execution_count": 23
    },
    {
      "cell_type": "code",
      "source": "formatNumber((0.2 + 0.7) * 234)",
      "metadata": {
        "trusted": true
      },
      "outputs": [
        {
          "execution_count": 24,
          "output_type": "execute_result",
          "data": {
            "text/plain": "'210.6'"
          },
          "metadata": {}
        }
      ],
      "execution_count": 24
    },
    {
      "cell_type": "markdown",
      "source": "## Function Composition\n\nUsing function composition to refactor this scenario may feel a bit contrived, but being deliberate helps with practice.",
      "metadata": {}
    },
    {
      "cell_type": "markdown",
      "source": "(Continued...)",
      "metadata": {}
    },
    {
      "cell_type": "code",
      "source": "",
      "metadata": {
        "trusted": true
      },
      "outputs": [
        {
          "execution_count": 39,
          "output_type": "execute_result",
          "data": {
            "text/plain": "1"
          },
          "metadata": {}
        }
      ],
      "execution_count": 55
    }
  ]
}
