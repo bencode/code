{
  "metadata": {
    "kernelspec": {
      "name": "javascript",
      "display_name": "JavaScript (Web Worker)",
      "language": "javascript"
    },
    "language_info": {
      "codemirror_mode": {
        "name": "javascript"
      },
      "file_extension": ".js",
      "mimetype": "text/javascript",
      "name": "javascript",
      "nbconvert_exporter": "javascript",
      "pygments_lexer": "javascript",
      "version": "es2017"
    }
  },
  "nbformat_minor": 4,
  "nbformat": 4,
  "cells": [
    {
      "cell_type": "markdown",
      "source": "# Functional Programming Style and Streams",
      "metadata": {}
    },
    {
      "cell_type": "markdown",
      "source": "## Prime Number Check\n\nAn unoptimized naive algorithm.",
      "metadata": {}
    },
    {
      "cell_type": "code",
      "source": "function isPrime(n) {\n  if (n < 2) {\n    return false;\n  }\n\n  // 最简单的优化是对n开个根号\n  for (let i = 2; i < n; i++) {\n    if (n % i === 0) {\n      return false;\n    }\n  }\n  return true;\n}",
      "metadata": {
        "trusted": true
      },
      "outputs": [
        {
          "execution_count": 1,
          "output_type": "execute_result",
          "data": {},
          "metadata": {}
        }
      ],
      "execution_count": 1
    },
    {
      "cell_type": "code",
      "source": "isPrime(2)",
      "metadata": {
        "trusted": true
      },
      "outputs": [
        {
          "execution_count": 2,
          "output_type": "execute_result",
          "data": {
            "text/plain": "true"
          },
          "metadata": {}
        }
      ],
      "execution_count": 2
    },
    {
      "cell_type": "code",
      "source": "isPrime(11)",
      "metadata": {
        "trusted": true
      },
      "outputs": [
        {
          "execution_count": 3,
          "output_type": "execute_result",
          "data": {
            "text/plain": "true"
          },
          "metadata": {}
        }
      ],
      "execution_count": 3
    },
    {
      "cell_type": "code",
      "source": "isPrime(2**13 - 1)",
      "metadata": {
        "trusted": true
      },
      "outputs": [
        {
          "execution_count": 4,
          "output_type": "execute_result",
          "data": {
            "text/plain": "true"
          },
          "metadata": {}
        }
      ],
      "execution_count": 4
    },
    {
      "cell_type": "code",
      "source": "isPrime(2**11-1)",
      "metadata": {
        "trusted": true
      },
      "outputs": [
        {
          "execution_count": 5,
          "output_type": "execute_result",
          "data": {
            "text/plain": "false"
          },
          "metadata": {}
        }
      ],
      "execution_count": 5
    },
    {
      "cell_type": "markdown",
      "source": "先用命令式风格实现两片代码。",
      "metadata": {}
    },
    {
      "cell_type": "markdown",
      "source": "## Sum of All Primes Under 100",
      "metadata": {}
    },
    {
      "cell_type": "code",
      "source": "let s = 0;\nconst n = 1000;\nfor (let i = 1; i <= n; i++) {\n  if (isPrime(i)) {\n    s += i;\n  }\n}\ns",
      "metadata": {
        "trusted": true
      },
      "outputs": [
        {
          "execution_count": 6,
          "output_type": "execute_result",
          "data": {
            "text/plain": "76127"
          },
          "metadata": {}
        }
      ],
      "execution_count": 6
    },
    {
      "cell_type": "markdown",
      "source": "## Find Three Prime Numbers Greater Than 1000",
      "metadata": {}
    },
    {
      "cell_type": "code",
      "source": "const list = [];\nlet start = 1000;\nwhile (list.length < 3) {\n  if (isPrime(start)) {\n    list.push(start);\n  }\n  start++;\n}\n\nlist",
      "metadata": {
        "trusted": true
      },
      "outputs": [
        {
          "execution_count": 7,
          "output_type": "execute_result",
          "data": {
            "text/plain": "[ 1009, 1013, 1019 ]"
          },
          "metadata": {}
        }
      ],
      "execution_count": 7
    },
    {
      "cell_type": "markdown",
      "source": "Let's look at how to express these problems using functional programming.",
      "metadata": {}
    },
    {
      "cell_type": "markdown",
      "source": "## Functional Programming Utilities",
      "metadata": {}
    },
    {
      "cell_type": "code",
      "source": "function filter(f, ls) {\n return ls.filter(f)\n}\n\nfunction range(n) {\n  return [...Array(n).keys()]\n}\n\nfunction sum(ls) {\n  return ls.reduce((a, b) => a + b, 0)\n}",
      "metadata": {
        "trusted": true
      },
      "outputs": [
        {
          "execution_count": 8,
          "output_type": "execute_result",
          "data": {},
          "metadata": {}
        }
      ],
      "execution_count": 8
    },
    {
      "cell_type": "markdown",
      "source": "## Calculate the Sum of All Primes Below 1000",
      "metadata": {}
    },
    {
      "cell_type": "code",
      "source": "sum(filter(isPrime, range(1000)))",
      "metadata": {
        "trusted": true
      },
      "outputs": [
        {
          "execution_count": 9,
          "output_type": "execute_result",
          "data": {
            "text/plain": "76127"
          },
          "metadata": {}
        }
      ],
      "execution_count": 9
    },
    {
      "cell_type": "code",
      "source": "sum(filter(isPrime, range(2000)))",
      "metadata": {
        "trusted": true
      },
      "outputs": [
        {
          "execution_count": 10,
          "output_type": "execute_result",
          "data": {
            "text/plain": "277050"
          },
          "metadata": {}
        }
      ],
      "execution_count": 10
    },
    {
      "cell_type": "markdown",
      "source": "How about applying this to multiple numbers? As usual, we need a function to wrap this logic.",
      "metadata": {}
    },
    {
      "cell_type": "markdown",
      "source": "## Again",
      "metadata": {}
    },
    {
      "cell_type": "code",
      "source": "const filter = f => ls => ls.filter(f)\nconst filterPrime = filter(isPrime)\nconst sumOfPrime = x => sum(filterPrime(x))\n\nsumOfPrime(range(1000))\nsumOfPrime(range(2000))",
      "metadata": {
        "trusted": true
      },
      "outputs": [
        {
          "execution_count": 11,
          "output_type": "execute_result",
          "data": {
            "text/plain": "277050"
          },
          "metadata": {}
        }
      ],
      "execution_count": 11
    },
    {
      "cell_type": "markdown",
      "source": "## compose\n\nUsing `compose` to make it more explicit",
      "metadata": {}
    },
    {
      "cell_type": "code",
      "source": "const filter = f => ls => ls.filter(f)\nconst compose = (f, g) => x => f(g(x))\n\nconst sumOfPrime = compose(  // 函数的组合\n  sum,                 // 2. 求和\n  filter(isPrime),     // 1. 过滤出素数\n)\n\nsumOfPrime(range(1000))",
      "metadata": {
        "trusted": true
      },
      "outputs": [
        {
          "execution_count": 12,
          "output_type": "execute_result",
          "data": {
            "text/plain": "76127"
          },
          "metadata": {}
        }
      ],
      "execution_count": 12
    },
    {
      "cell_type": "markdown",
      "source": "compose is right-associative, so the execution flow above is: filter first, then sum.\n\nThink of it as data flowing from right to left.\n\n```\noutput <<-- sum <<-- filter(isPrimce) <<-- input\n```",
      "metadata": {}
    },
    {
      "cell_type": "markdown",
      "source": "Notice that when using compose with the curried form of filter, the data argument disappears - this is called pointfree style, but that's another story.",
      "metadata": {}
    },
    {
      "cell_type": "markdown",
      "source": "Let's move on to the second problem first.",
      "metadata": {}
    },
    {
      "cell_type": "markdown",
      "source": "## Find Three Prime Numbers Greater Than 1000\n\nHow can we solve this functionally?",
      "metadata": {}
    },
    {
      "cell_type": "markdown",
      "source": "Let's begin with a simple version, like this:",
      "metadata": {}
    },
    {
      "cell_type": "code",
      "source": "// take(3, filter(isPrime, range(1000, 2000)))",
      "metadata": {
        "trusted": true
      },
      "outputs": [
        {
          "execution_count": 13,
          "output_type": "execute_result",
          "data": {},
          "metadata": {}
        }
      ],
      "execution_count": 13
    },
    {
      "cell_type": "markdown",
      "source": "Let's extend the previous `range` function",
      "metadata": {}
    },
    {
      "cell_type": "code",
      "source": "function range([start, end]) {\n  return Array(end - start).fill(0).map((_, i) => start + i)\n}",
      "metadata": {
        "trusted": true
      },
      "outputs": [
        {
          "execution_count": 14,
          "output_type": "execute_result",
          "data": {},
          "metadata": {}
        }
      ],
      "execution_count": 14
    },
    {
      "cell_type": "code",
      "source": "range([1, 5])",
      "metadata": {
        "trusted": true
      },
      "outputs": [
        {
          "execution_count": 15,
          "output_type": "execute_result",
          "data": {
            "text/plain": "[ 1, 2, 3, 4 ]"
          },
          "metadata": {}
        }
      ],
      "execution_count": 15
    },
    {
      "cell_type": "markdown",
      "source": "`take` is used to get the first elements from a list.",
      "metadata": {}
    },
    {
      "cell_type": "code",
      "source": "function take(n, list) {\n  return list.slice(0, n)\n}",
      "metadata": {
        "trusted": true
      },
      "outputs": [
        {
          "execution_count": 16,
          "output_type": "execute_result",
          "data": {},
          "metadata": {}
        }
      ],
      "execution_count": 16
    },
    {
      "cell_type": "code",
      "source": "take(3, filter(isPrime, range([1000, 2000])))",
      "metadata": {
        "trusted": true
      },
      "outputs": [
        {
          "execution_count": 17,
          "output_type": "execute_result",
          "data": {
            "text/plain": "[ 1009, 1013, 1019 ]"
          },
          "metadata": {}
        }
      ],
      "execution_count": 17
    },
    {
      "cell_type": "markdown",
      "source": "## Problems\n\nThe above implementation has two issues:\n\n- If we need 100 prime numbers greater than 1000, we don't know how large to set the upper bound of the range;\n- Although we only need 3 numbers, it actually finds all prime numbers between 1000~2000, performing unnecessary calculations.\n\nHow can we express this in a functional style while also achieving lazy evaluation?\nThis \"having our cake and eating it too\" is very important.",
      "metadata": {}
    },
    {
      "cell_type": "markdown",
      "source": "Come to think of it, we need a \"chain-like\" structure where each element is \"lazy\" - this structure is called Stream.",
      "metadata": {}
    },
    {
      "cell_type": "markdown",
      "source": "## Natural Numbers\n\nLet's begin exploring this structure with natural numbers, which start from 0 in modern set theory-based mathematics.",
      "metadata": {}
    },
    {
      "cell_type": "code",
      "source": "function N(n = 0) {\n  return { value: n, next: () => N(n + 1) }\n}",
      "metadata": {
        "trusted": true
      },
      "outputs": [
        {
          "execution_count": 18,
          "output_type": "execute_result",
          "data": {},
          "metadata": {}
        }
      ],
      "execution_count": 18
    },
    {
      "cell_type": "code",
      "source": "N()",
      "metadata": {
        "trusted": true
      },
      "outputs": [
        {
          "execution_count": 19,
          "output_type": "execute_result",
          "data": {
            "text/plain": "{ value: 0, next: [Function: next] }"
          },
          "metadata": {}
        }
      ],
      "execution_count": 19
    },
    {
      "cell_type": "code",
      "source": "let o = N()\nfor (let i = 0; i < 10; i++) {\n  console.log(o.value)\n  o = o.next()\n}",
      "metadata": {
        "trusted": true
      },
      "outputs": [
        {
          "name": "stdout",
          "text": "0\n1\n2\n3\n4\n5\n6\n7\n8\n9\n",
          "output_type": "stream"
        },
        {
          "execution_count": 20,
          "output_type": "execute_result",
          "data": {
            "text/plain": "{ value: 10, next: [Function: next] }"
          },
          "metadata": {}
        }
      ],
      "execution_count": 20
    },
    {
      "cell_type": "markdown",
      "source": "Notice that it is immutable and pure.",
      "metadata": {}
    },
    {
      "cell_type": "markdown",
      "source": "### Refactoring\n\nNote that the constructor (N) and next are actually the same thing, just from a different perspective.",
      "metadata": {}
    },
    {
      "cell_type": "code",
      "source": "const N = (n = 0) => {\n  return { value: n, next: () => N(n + 1) }\n}\n\nlet cur = N\nfor (let i = 0; i < 10; i++) {\n  const iter = cur()  // 实例化元素， 即取次前调用。\n    \n  console.log(iter.value)\n    \n  cur = iter.next // 链式操作\n}",
      "metadata": {
        "trusted": true
      },
      "outputs": [
        {
          "name": "stdout",
          "text": "0\n1\n2\n3\n4\n5\n6\n7\n8\n9\n",
          "output_type": "stream"
        },
        {
          "execution_count": 21,
          "output_type": "execute_result",
          "data": {
            "text/plain": "[Function: next]"
          },
          "metadata": {}
        }
      ],
      "execution_count": 21
    },
    {
      "cell_type": "markdown",
      "source": "## Stream \n\nThe above structure can be described in types as\n\n```ts\ntype Stream<T> = () => StreamItem<T>\ntype StreamItem<T> = {\n  value: T\n  next: Stream<T>\n}\n```\n\nNext, we'll implement some operations on this structure.",
      "metadata": {}
    },
    {
      "cell_type": "markdown",
      "source": "### take",
      "metadata": {}
    },
    {
      "cell_type": "code",
      "source": "// Number, Stream<T> -> [T]\n\nfunction take(n, st) {\n  const list = []\n  let cur = st\n  for (let i = 0; i < n && cur; i++) {\n    const iter = cur()\n    list.push(iter.value)\n    cur = iter.next\n  }\n  return list\n}",
      "metadata": {
        "trusted": true
      },
      "outputs": [
        {
          "execution_count": 22,
          "output_type": "execute_result",
          "data": {},
          "metadata": {}
        }
      ],
      "execution_count": 22
    },
    {
      "cell_type": "code",
      "source": "take(7, N)",
      "metadata": {
        "trusted": true
      },
      "outputs": [
        {
          "execution_count": 23,
          "output_type": "execute_result",
          "data": {
            "text/plain": "[ 0, 1, 2, 3, 4, 5, 6 ]"
          },
          "metadata": {}
        }
      ],
      "execution_count": 23
    },
    {
      "cell_type": "markdown",
      "source": "### filter",
      "metadata": {}
    },
    {
      "cell_type": "code",
      "source": "function filter(f, st) {\n  return () => {\n    const iter = st()\n    const next = iter.next ? filter(f, iter.next) : undefined\n    if (f(iter.value)) {\n      return { value: iter.value, next }\n    }\n    return next ? next() : undefined\n  }\n}",
      "metadata": {
        "trusted": true
      },
      "outputs": [
        {
          "execution_count": 24,
          "output_type": "execute_result",
          "data": {},
          "metadata": {}
        }
      ],
      "execution_count": 24
    },
    {
      "cell_type": "markdown",
      "source": "## Take the First 15 Even Numbers",
      "metadata": {}
    },
    {
      "cell_type": "code",
      "source": "const N = (n = 0) => {\n  return { value: n, next: () => N(n + 1) }\n}\n\ntake(15, filter(v => v % 2 === 0, N))",
      "metadata": {
        "trusted": true
      },
      "outputs": [
        {
          "execution_count": 25,
          "output_type": "execute_result",
          "data": {
            "text/plain": "[ 0, 2, 4, 6, 8, 10, 12, 14, 16, 18, 20, 22, 24, 26, 28 ]"
          },
          "metadata": {}
        }
      ],
      "execution_count": 25
    },
    {
      "cell_type": "markdown",
      "source": "It feels like time is being folded. Now let's look at prime.",
      "metadata": {}
    },
    {
      "cell_type": "markdown",
      "source": "### Take the First 10 Primes",
      "metadata": {}
    },
    {
      "cell_type": "code",
      "source": "take(10, filter(isPrime, N))",
      "metadata": {
        "trusted": true
      },
      "outputs": [
        {
          "execution_count": 26,
          "output_type": "execute_result",
          "data": {
            "text/plain": "[ 2, 3, 5, 7, 11, 13, 17, 19, 23, 29 ]"
          },
          "metadata": {}
        }
      ],
      "execution_count": 26
    },
    {
      "cell_type": "markdown",
      "source": "## Take the First Three Primes Above 1000",
      "metadata": {}
    },
    {
      "cell_type": "code",
      "source": "take(3, filter(v => v > 1000 && isPrime(v), N))",
      "metadata": {
        "trusted": true
      },
      "outputs": [
        {
          "execution_count": 27,
          "output_type": "execute_result",
          "data": {
            "text/plain": "[ 1009, 1013, 1019 ]"
          },
          "metadata": {}
        }
      ],
      "execution_count": 27
    },
    {
      "cell_type": "markdown",
      "source": "How to Find All Prime Numbers Between 1000 and 2000?",
      "metadata": {}
    },
    {
      "cell_type": "markdown",
      "source": "## Range\n\nWe need a stream that represents a Range.",
      "metadata": {}
    },
    {
      "cell_type": "code",
      "source": "function Range([a, b]) {\n  const iter = value => () => {\n    const next = value + 1 < b ? iter(value + 1) : undefined\n    return { value, next }\n  }\n  return iter(a)\n}",
      "metadata": {
        "trusted": true
      },
      "outputs": [
        {
          "execution_count": 28,
          "output_type": "execute_result",
          "data": {},
          "metadata": {}
        }
      ],
      "execution_count": 28
    },
    {
      "cell_type": "code",
      "source": "take(10000, filter(isPrime, Range([1000, 2000])))",
      "metadata": {
        "trusted": true
      },
      "outputs": [
        {
          "execution_count": 29,
          "output_type": "execute_result",
          "data": {
            "text/plain": "[ 1009, 1013, 1019, 1021, 1031, 1033, 1039, 1049, 1051, 1061, 1063, 1069, 1087, 1091, 1093, 1097, 1103, 1109, 1117, 1123, 1129, 1151, 1153, 1163, 1171, 1181, 1187, 1193, 1201, 1213, 1217, 1223, 1229, 1231, 1237, 1249, 1259, 1277, 1279, 1283, 1289, 1291, 1297, 1301, 1303, 1307, 1319, 1321, 1327, 1361, 1367, 1373, 1381, 1399, 1409, 1423, 1427, 1429, 1433, 1439, 1447, 1451, 1453, 1459, 1471, 1481, 1483, 1487, 1489, 1493, 1499, 1511, 1523, 1531, 1543, 1549, 1553, 1559, 1567, 1571, 1579, 1583, 1597, 1601, 1607, 1609, 1613, 1619, 1621, 1627, 1637, 1657, 1663, 1667, 1669, 1693, 1697, 1699, 1709, 1721, 1723, 1733, 1741, 1747, 1753, 1759, 1777, 1783, 1787, 1789, 1801, 1811, 1823, 1831, 1847, 1861, 1867, 1871, 1873, 1877, 1879, 1889, 1901, 1907, 1913, 1931, 1933, 1949, 1951, 1973, 1979, 1987, 1993, 1997, 1999 ]"
          },
          "metadata": {}
        }
      ],
      "execution_count": 29
    },
    {
      "cell_type": "markdown",
      "source": "## Map\n\n`map` for Stream",
      "metadata": {}
    },
    {
      "cell_type": "code",
      "source": "function map(f, st) {\n  return () => {\n    const iter = st()\n    const value = f(iter.value)\n    const next = iter.next ? map(f, iter.next) : undefined\n    return { value, next }\n  }\n}",
      "metadata": {
        "trusted": true
      },
      "outputs": [
        {
          "execution_count": 30,
          "output_type": "execute_result",
          "data": {},
          "metadata": {}
        }
      ],
      "execution_count": 30
    },
    {
      "cell_type": "code",
      "source": "// 偶数\nconst _2N = map(x => x * 2, N)\n\ntake(10, _2N)",
      "metadata": {
        "trusted": true
      },
      "outputs": [
        {
          "execution_count": 31,
          "output_type": "execute_result",
          "data": {
            "text/plain": "[ 0, 2, 4, 6, 8, 10, 12, 14, 16, 18 ]"
          },
          "metadata": {}
        }
      ],
      "execution_count": 31
    }
  ]
}
