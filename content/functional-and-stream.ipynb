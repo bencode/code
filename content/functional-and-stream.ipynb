{
  "metadata": {
    "kernelspec": {
      "name": "javascript",
      "display_name": "JavaScript (Web Worker)",
      "language": "javascript"
    },
    "language_info": {
      "codemirror_mode": {
        "name": "javascript"
      },
      "file_extension": ".js",
      "mimetype": "text/javascript",
      "name": "javascript",
      "nbconvert_exporter": "javascript",
      "pygments_lexer": "javascript",
      "version": "es2017"
    }
  },
  "nbformat_minor": 4,
  "nbformat": 4,
  "cells": [
    {
      "cell_type": "markdown",
      "source": "# 函数式编程风格和流",
      "metadata": {}
    },
    {
      "cell_type": "markdown",
      "source": "## 求素数\n\n一个没有优化的朴素算法。",
      "metadata": {}
    },
    {
      "cell_type": "code",
      "source": "function isPrime(n) {\n  if (n < 2) {\n    return false;\n  }\n\n  // 最简单的优化是对n开个根号\n  for (let i = 2; i < n; i++) {\n    if (n % i === 0) {\n      return false;\n    }\n  }\n  return true;\n}",
      "metadata": {
        "trusted": true
      },
      "outputs": [
        {
          "execution_count": 103,
          "output_type": "execute_result",
          "data": {},
          "metadata": {}
        }
      ],
      "execution_count": 121
    },
    {
      "cell_type": "code",
      "source": "isPrime(2)",
      "metadata": {
        "trusted": true
      },
      "outputs": [
        {
          "execution_count": 104,
          "output_type": "execute_result",
          "data": {
            "text/plain": "true"
          },
          "metadata": {}
        }
      ],
      "execution_count": 122
    },
    {
      "cell_type": "code",
      "source": "isPrime(11)",
      "metadata": {
        "trusted": true
      },
      "outputs": [
        {
          "execution_count": 105,
          "output_type": "execute_result",
          "data": {
            "text/plain": "true"
          },
          "metadata": {}
        }
      ],
      "execution_count": 123
    },
    {
      "cell_type": "code",
      "source": "isPrime(2**13 - 1)",
      "metadata": {
        "trusted": true
      },
      "outputs": [
        {
          "execution_count": 106,
          "output_type": "execute_result",
          "data": {
            "text/plain": "true"
          },
          "metadata": {}
        }
      ],
      "execution_count": 124
    },
    {
      "cell_type": "code",
      "source": "isPrime(2**11-1)",
      "metadata": {
        "trusted": true
      },
      "outputs": [
        {
          "execution_count": 107,
          "output_type": "execute_result",
          "data": {
            "text/plain": "false"
          },
          "metadata": {}
        }
      ],
      "execution_count": 125
    },
    {
      "cell_type": "markdown",
      "source": "先用命令式风格实现两片代码。",
      "metadata": {}
    },
    {
      "cell_type": "markdown",
      "source": "## 计算1000内所有素数的和",
      "metadata": {}
    },
    {
      "cell_type": "code",
      "source": "let s = 0;\nconst n = 1000;\nfor (let i = 1; i <= n; i++) {\n  if (isPrime(i)) {\n    s += i;\n  }\n}\ns",
      "metadata": {
        "trusted": true
      },
      "outputs": [
        {
          "execution_count": 108,
          "output_type": "execute_result",
          "data": {
            "text/plain": "76127"
          },
          "metadata": {}
        }
      ],
      "execution_count": 126
    },
    {
      "cell_type": "markdown",
      "source": "## 找出比1000大的3个素数",
      "metadata": {}
    },
    {
      "cell_type": "code",
      "source": "const list = [];\nlet start = 1000;\nwhile (list.length < 3) {\n  if (isPrime(start)) {\n    list.push(start);\n  }\n  start++;\n}\n\nlist",
      "metadata": {
        "trusted": true
      },
      "outputs": [
        {
          "execution_count": 109,
          "output_type": "execute_result",
          "data": {
            "text/plain": "[ 1009, 1013, 1019 ]"
          },
          "metadata": {}
        }
      ],
      "execution_count": 127
    },
    {
      "cell_type": "markdown",
      "source": "现在看函数式编程如何表达上述问题。",
      "metadata": {}
    },
    {
      "cell_type": "markdown",
      "source": "## 函数式工具",
      "metadata": {}
    },
    {
      "cell_type": "code",
      "source": "function filter(f, ls) {\n return ls.filter(f)\n}\n\nfunction range(n) {\n  return [...Array(n).keys()]\n}\n\nfunction sum(ls) {\n  return ls.reduce((a, b) => a + b, 0)\n}",
      "metadata": {
        "trusted": true
      },
      "outputs": [
        {
          "execution_count": 110,
          "output_type": "execute_result",
          "data": {},
          "metadata": {}
        }
      ],
      "execution_count": 128
    },
    {
      "cell_type": "markdown",
      "source": "## 计算1000内所有素数和",
      "metadata": {}
    },
    {
      "cell_type": "code",
      "source": "sum(filter(isPrime, range(1000)))",
      "metadata": {
        "trusted": true
      },
      "outputs": [
        {
          "execution_count": 111,
          "output_type": "execute_result",
          "data": {
            "text/plain": "76127"
          },
          "metadata": {}
        }
      ],
      "execution_count": 129
    },
    {
      "cell_type": "code",
      "source": "sum(filter(isPrime, range(2000)))",
      "metadata": {
        "trusted": true
      },
      "outputs": [
        {
          "execution_count": 112,
          "output_type": "execute_result",
          "data": {
            "text/plain": "277050"
          },
          "metadata": {}
        }
      ],
      "execution_count": 130
    },
    {
      "cell_type": "markdown",
      "source": "如果要应用于更多的数字呢？按惯例我们需要定义一个函数来封装上述逻辑。",
      "metadata": {}
    },
    {
      "cell_type": "markdown",
      "source": "## 再来一遍",
      "metadata": {}
    },
    {
      "cell_type": "code",
      "source": "const filter = f => ls => ls.filter(f)\nconst filterPrime = filter(isPrime)\nconst sumOfPrime = x => sum(filterPrime(x))\n\nsumOfPrime(range(1000))\nsumOfPrime(range(2000))",
      "metadata": {
        "trusted": true
      },
      "outputs": [
        {
          "execution_count": 113,
          "output_type": "execute_result",
          "data": {
            "text/plain": "277050"
          },
          "metadata": {}
        }
      ],
      "execution_count": 131
    },
    {
      "cell_type": "markdown",
      "source": "## compose\n\n使用函数组合(compose)让上述意图更明确。",
      "metadata": {}
    },
    {
      "cell_type": "code",
      "source": "const filter = f => ls => ls.filter(f)\nconst compose = (f, g) => x => f(g(x))\n\nconst sumOfPrime = compose(  // 函数的组合\n  sum,                 // 2. 求和\n  filter(isPrime),     // 1. 过滤出素数\n)\n\nsumOfPrime(range(1000))",
      "metadata": {
        "trusted": true
      },
      "outputs": [
        {
          "execution_count": 114,
          "output_type": "execute_result",
          "data": {
            "text/plain": "76127"
          },
          "metadata": {}
        }
      ],
      "execution_count": 132
    },
    {
      "cell_type": "markdown",
      "source": "compose是右结合的，所以上述执行流程是：先过滤再求和。\n\n想像成数据从右边流入，从左边流出。\n\n```\noutput <<-- sum <<-- filter(isPrimce) <<-- input\n```",
      "metadata": {}
    },
    {
      "cell_type": "markdown",
      "source": "注意到compose配合curry形式的filter使用时， 数据(data) 消失了， 这叫pointfree, 这是另一个故事。",
      "metadata": {}
    },
    {
      "cell_type": "markdown",
      "source": "我们还是先看第二个问题。",
      "metadata": {}
    },
    {
      "cell_type": "markdown",
      "source": "## 找出比1000大的3个素数\n\n如何使用函数式风格来编写？",
      "metadata": {}
    },
    {
      "cell_type": "markdown",
      "source": "计划先实现较一个拙略的版本，像这样：",
      "metadata": {}
    },
    {
      "cell_type": "code",
      "source": "// take(3, filter(isPrime, range(1000, 2000)))",
      "metadata": {
        "trusted": true
      },
      "outputs": [
        {
          "execution_count": 115,
          "output_type": "execute_result",
          "data": {},
          "metadata": {}
        }
      ],
      "execution_count": 133
    },
    {
      "cell_type": "markdown",
      "source": "扩展之前的range，以支持区间。",
      "metadata": {}
    },
    {
      "cell_type": "code",
      "source": "function range([start, end]) {\n  return Array(end - start).fill(0).map((_, i) => start + i)\n}",
      "metadata": {
        "trusted": true
      },
      "outputs": [
        {
          "execution_count": 116,
          "output_type": "execute_result",
          "data": {},
          "metadata": {}
        }
      ],
      "execution_count": 134
    },
    {
      "cell_type": "code",
      "source": "range([1, 5])",
      "metadata": {
        "trusted": true
      },
      "outputs": [
        {
          "execution_count": 117,
          "output_type": "execute_result",
          "data": {
            "text/plain": "[ 1, 2, 3, 4 ]"
          },
          "metadata": {}
        }
      ],
      "execution_count": 135
    },
    {
      "cell_type": "markdown",
      "source": "take用于取列表的头部元素。",
      "metadata": {}
    },
    {
      "cell_type": "code",
      "source": "function take(n, list) {\n  return list.slice(0, n)\n}",
      "metadata": {
        "trusted": true
      },
      "outputs": [
        {
          "execution_count": 118,
          "output_type": "execute_result",
          "data": {},
          "metadata": {}
        }
      ],
      "execution_count": 136
    },
    {
      "cell_type": "code",
      "source": "take(3, filter(isPrime, range([1000, 2000])))",
      "metadata": {
        "trusted": true
      },
      "outputs": [
        {
          "execution_count": 119,
          "output_type": "execute_result",
          "data": {
            "text/plain": "[ 1009, 1013, 1019 ]"
          },
          "metadata": {}
        }
      ],
      "execution_count": 137
    },
    {
      "cell_type": "markdown",
      "source": "## 问题\n\n上述实现有两个问题：\n\n- 如果要求>1000的100个素数，range的右区间不知道定多少好;\n- 虽然结果只取3个数字，但实际执行时，把 1000~2000 内的所有素数都给找出来了，进行了不必要的计算。\n\n那有什么办法即能用函数式风格表达，又能够按需执行呢？ \n\n即要又要是非常重要的。\n",
      "metadata": {}
    },
    {
      "cell_type": "markdown",
      "source": "想来，我们需要一种 “链”一般的结构，链上的每个元素是\"lazy\"的，这种结构就是流（Stream)",
      "metadata": {}
    },
    {
      "cell_type": "markdown",
      "source": "## 自然数\n\n我们从自然数开始探索这种结构，在基于集合论的现代数学中，它从0开始。",
      "metadata": {}
    },
    {
      "cell_type": "code",
      "source": "function N(n = 0) {\n  return { value: n, next: () => N(n + 1) }\n}",
      "metadata": {
        "trusted": true
      },
      "outputs": [
        {
          "execution_count": 120,
          "output_type": "execute_result",
          "data": {},
          "metadata": {}
        }
      ],
      "execution_count": 138
    },
    {
      "cell_type": "code",
      "source": "N()",
      "metadata": {
        "trusted": true
      },
      "outputs": [
        {
          "execution_count": 121,
          "output_type": "execute_result",
          "data": {
            "text/plain": "{ value: 0, next: [Function: next] }"
          },
          "metadata": {}
        }
      ],
      "execution_count": 139
    },
    {
      "cell_type": "code",
      "source": "let o = N()\nfor (let i = 0; i < 10; i++) {\n  console.log(o.value)\n  o = o.next()\n}",
      "metadata": {
        "trusted": true
      },
      "outputs": [
        {
          "name": "stdout",
          "text": "0\n1\n2\n3\n4\n5\n6\n7\n8\n9\n",
          "output_type": "stream"
        },
        {
          "execution_count": 122,
          "output_type": "execute_result",
          "data": {
            "text/plain": "{ value: 10, next: [Function: next] }"
          },
          "metadata": {}
        }
      ],
      "execution_count": 140
    },
    {
      "cell_type": "markdown",
      "source": "注意到它是immutable和pure的。",
      "metadata": {}
    },
    {
      "cell_type": "markdown",
      "source": "### 改写一下\n\n注意到 构造器(N) 和 next其实是一个东西，换一种视角。",
      "metadata": {}
    },
    {
      "cell_type": "code",
      "source": "const N = (n = 0) => {\n  return { value: n, next: () => N(n + 1) }\n}\n\nlet cur = N\nfor (let i = 0; i < 10; i++) {\n  const iter = cur()  // 实例化元素， 即取次前调用。\n    \n  console.log(iter.value)\n    \n  cur = iter.next // 链式操作\n}",
      "metadata": {
        "trusted": true
      },
      "outputs": [
        {
          "name": "stdout",
          "text": "0\n1\n2\n3\n4\n5\n6\n7\n8\n9\n",
          "output_type": "stream"
        },
        {
          "execution_count": 123,
          "output_type": "execute_result",
          "data": {
            "text/plain": "[Function: next]"
          },
          "metadata": {}
        }
      ],
      "execution_count": 141
    },
    {
      "cell_type": "markdown",
      "source": "## Stream \n\n上述结构用类型描述就是\n\n```ts\ntype Stream<T> = () => StreamItem<T>\ntype StreamItem<T> = {\n  value: T\n  next: Stream<T>\n}\n```\n\n接下来我们在此结构上定义一些操作。",
      "metadata": {}
    },
    {
      "cell_type": "markdown",
      "source": "### take",
      "metadata": {}
    },
    {
      "cell_type": "code",
      "source": "// Number, Stream<T> -> [T]\n\nfunction take(n, st) {\n  const list = []\n  let cur = st\n  for (let i = 0; i < n && cur; i++) {\n    const iter = cur()\n    list.push(iter.value)\n    cur = iter.next\n  }\n  return list\n}",
      "metadata": {
        "trusted": true
      },
      "outputs": [
        {
          "execution_count": 124,
          "output_type": "execute_result",
          "data": {},
          "metadata": {}
        }
      ],
      "execution_count": 142
    },
    {
      "cell_type": "code",
      "source": "take(7, N)",
      "metadata": {
        "trusted": true
      },
      "outputs": [
        {
          "execution_count": 125,
          "output_type": "execute_result",
          "data": {
            "text/plain": "[ 0, 1, 2, 3, 4, 5, 6 ]"
          },
          "metadata": {}
        }
      ],
      "execution_count": 143
    },
    {
      "cell_type": "markdown",
      "source": "### 过滤",
      "metadata": {}
    },
    {
      "cell_type": "code",
      "source": "function filter(f, st) {\n  return () => {\n    const iter = st()\n    const next = iter.next ? filter(f, iter.next) : undefined\n    if (f(iter.value)) {\n      return { value: iter.value, next }\n    }\n    return next ? next() : undefined\n  }\n}",
      "metadata": {
        "trusted": true
      },
      "outputs": [
        {
          "execution_count": 133,
          "output_type": "execute_result",
          "data": {},
          "metadata": {}
        }
      ],
      "execution_count": 151
    },
    {
      "cell_type": "markdown",
      "source": "## 取出前15个偶数",
      "metadata": {}
    },
    {
      "cell_type": "code",
      "source": "const N = (n = 0) => {\n  return { value: n, next: () => N(n + 1) }\n}\n\ntake(15, filter(v => v % 2 === 0, N))",
      "metadata": {
        "trusted": true
      },
      "outputs": [
        {
          "execution_count": 127,
          "output_type": "execute_result",
          "data": {
            "text/plain": "[ 0, 2, 4, 6, 8, 10, 12, 14, 16, 18, 20, 22, 24, 26, 28 ]"
          },
          "metadata": {}
        }
      ],
      "execution_count": 145
    },
    {
      "cell_type": "markdown",
      "source": "有种时间被折叠的感觉， 现在我们看看prime。",
      "metadata": {}
    },
    {
      "cell_type": "markdown",
      "source": "### 取出前10个素数",
      "metadata": {}
    },
    {
      "cell_type": "code",
      "source": "take(10, filter(isPrime, N))",
      "metadata": {
        "trusted": true
      },
      "outputs": [
        {
          "execution_count": 128,
          "output_type": "execute_result",
          "data": {
            "text/plain": "[ 2, 3, 5, 7, 11, 13, 17, 19, 23, 29 ]"
          },
          "metadata": {}
        }
      ],
      "execution_count": 146
    },
    {
      "cell_type": "markdown",
      "source": "## 取出大于1000的3个素数",
      "metadata": {}
    },
    {
      "cell_type": "code",
      "source": "take(3, filter(v => v > 1000 && isPrime(v), N))",
      "metadata": {
        "trusted": true
      },
      "outputs": [
        {
          "execution_count": 129,
          "output_type": "execute_result",
          "data": {
            "text/plain": "[ 1009, 1013, 1019 ]"
          },
          "metadata": {}
        }
      ],
      "execution_count": 147
    },
    {
      "cell_type": "markdown",
      "source": "如何求1000到2000内的所有素数",
      "metadata": {}
    },
    {
      "cell_type": "markdown",
      "source": "## Range\n\n\n需要一个表示Range的流。",
      "metadata": {}
    },
    {
      "cell_type": "code",
      "source": "function Range([a, b]) {\n  const iter = value => () => {\n    const next = value + 1 < b ? iter(value + 1) : undefined\n    return { value, next }\n  }\n  return iter(a)\n}",
      "metadata": {
        "trusted": true
      },
      "outputs": [
        {
          "execution_count": 130,
          "output_type": "execute_result",
          "data": {},
          "metadata": {}
        }
      ],
      "execution_count": 148
    },
    {
      "cell_type": "code",
      "source": "take(10000, filter(isPrime, Range([1000, 2000])))",
      "metadata": {
        "trusted": true
      },
      "outputs": [
        {
          "execution_count": 132,
          "output_type": "execute_result",
          "data": {
            "text/plain": "[ 1009, 1013, 1019, 1021, 1031, 1033, 1039, 1049, 1051, 1061, 1063, 1069, 1087, 1091, 1093, 1097, 1103, 1109, 1117, 1123, 1129, 1151, 1153, 1163, 1171, 1181, 1187, 1193, 1201, 1213, 1217, 1223, 1229, 1231, 1237, 1249, 1259, 1277, 1279, 1283, 1289, 1291, 1297, 1301, 1303, 1307, 1319, 1321, 1327, 1361, 1367, 1373, 1381, 1399, 1409, 1423, 1427, 1429, 1433, 1439, 1447, 1451, 1453, 1459, 1471, 1481, 1483, 1487, 1489, 1493, 1499, 1511, 1523, 1531, 1543, 1549, 1553, 1559, 1567, 1571, 1579, 1583, 1597, 1601, 1607, 1609, 1613, 1619, 1621, 1627, 1637, 1657, 1663, 1667, 1669, 1693, 1697, 1699, 1709, 1721, 1723, 1733, 1741, 1747, 1753, 1759, 1777, 1783, 1787, 1789, 1801, 1811, 1823, 1831, 1847, 1861, 1867, 1871, 1873, 1877, 1879, 1889, 1901, 1907, 1913, 1931, 1933, 1949, 1951, 1973, 1979, 1987, 1993, 1997, 1999 ]"
          },
          "metadata": {}
        }
      ],
      "execution_count": 150
    },
    {
      "cell_type": "markdown",
      "source": "## 映射（map)\n\n实现流版本的map",
      "metadata": {}
    },
    {
      "cell_type": "code",
      "source": "function map(f, st) {\n  return () => {\n    const iter = st()\n    const value = f(iter.value)\n    const next = iter.next ? map(f, iter.next) : undefined\n    return { value, next }\n  }\n}",
      "metadata": {
        "trusted": true
      },
      "outputs": [
        {
          "execution_count": 134,
          "output_type": "execute_result",
          "data": {},
          "metadata": {}
        }
      ],
      "execution_count": 152
    },
    {
      "cell_type": "code",
      "source": "// 偶数\nconst _2N = map(x => x * 2, N)\n\ntake(10, _2N)",
      "metadata": {
        "trusted": true
      },
      "outputs": [
        {
          "execution_count": 137,
          "output_type": "execute_result",
          "data": {
            "text/plain": "[ 0, 2, 4, 6, 8, 10, 12, 14, 16, 18 ]"
          },
          "metadata": {}
        }
      ],
      "execution_count": 155
    },
    {
      "cell_type": "code",
      "source": "// ",
      "metadata": {
        "trusted": true
      },
      "outputs": [],
      "execution_count": null
    }
  ]
}