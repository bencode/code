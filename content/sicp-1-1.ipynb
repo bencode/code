{
  "metadata": {
    "kernelspec": {
      "name": "scheme",
      "display_name": "scheme",
      "language": "scheme"
    },
    "language_info": {
      "codemirror_mode": {
        "name": "scheme"
      },
      "file_extension": ".scm",
      "mimetype": "text/x-scheme",
      "name": "scheme",
      "version": "10.2.0",
      "pygments_lexer": "scheme"
    }
  },
  "nbformat_minor": 4,
  "nbformat": 4,
  "cells": [
    {
      "cell_type": "markdown",
      "source": "# SICP中的编程技艺 1.1",
      "metadata": {}
    },
    {
      "cell_type": "markdown",
      "source": "**提示**： 选中代码单元格，Ctrl+Enter 运行",
      "metadata": {}
    },
    {
      "cell_type": "markdown",
      "source": "这是一本神书，它塑造我当前的编程风格。",
      "metadata": {}
    },
    {
      "cell_type": "markdown",
      "source": "这本书使用了一门古老但极其先进的编程语言 `Lisp`，它诞生于1958年。\n\n- [为什么Lisp语言如此先进？](https://www.ruanyifeng.com/blog/2010/10/why_lisp_is_superior.html)",
      "metadata": {}
    },
    {
      "cell_type": "markdown",
      "source": "Lisp演化到现在，形成了一个家族， SICP使用的是 `Scheme` 编程语言。\n\n目前NoteBook中使用的是 [ChezScheme](https://github.com/cisco/ChezScheme), 配合 [jupyterlite-scheme-kernel](https://github.com/bencode/jupyterlite-scheme-kernel) 。",
      "metadata": {}
    },
    {
      "cell_type": "markdown",
      "source": "# 编程的元素\n\n[1.1  The Elements of Programming](https://mitp-content-server.mit.edu/books/content/sectbyfn/books_pres_0/6515/sicp.zip/full-text/book/book-Z-H-10.html)",
      "metadata": {}
    },
    {
      "cell_type": "code",
      "source": ";; 数字\n2024",
      "metadata": {
        "trusted": true
      },
      "outputs": [
        {
          "execution_count": 36,
          "output_type": "execute_result",
          "data": {
            "text/plain": "2024"
          },
          "metadata": {}
        }
      ],
      "execution_count": 36
    },
    {
      "cell_type": "code",
      "source": ";; 字符串\n\n\"Hello Scheme\"",
      "metadata": {
        "trusted": true
      },
      "outputs": [
        {
          "execution_count": 37,
          "output_type": "execute_result",
          "data": {
            "text/plain": "\"Hello Scheme\""
          },
          "metadata": {}
        }
      ],
      "execution_count": 37
    },
    {
      "cell_type": "code",
      "source": "(+ 137 349)",
      "metadata": {
        "trusted": true
      },
      "outputs": [
        {
          "execution_count": 1,
          "output_type": "execute_result",
          "data": {
            "text/plain": "486"
          },
          "metadata": {}
        }
      ],
      "execution_count": 1
    },
    {
      "cell_type": "markdown",
      "source": "咋一看有点奇怪: 运算符在前面（前缀表示法），而几乎所有其他语言对运算符都采用中缀表示法： `137 + 349`，这和我们的教科书一致。\n\n如果把 `+` 看作函数的话， 可以表达成： `add(127, 349)`\n\n这在 `Lisp` 中就是 `(add 127 349)`， 如果函数名可以为符号的话， 不仿写成 `(+ 137 349)`",
      "metadata": {}
    },
    {
      "cell_type": "code",
      "source": ";; 额外的好处，可支持多个参数。\n(+ 1 2 3 4 5)",
      "metadata": {
        "trusted": true
      },
      "outputs": [
        {
          "execution_count": 1,
          "output_type": "execute_result",
          "data": {
            "text/plain": "15"
          },
          "metadata": {}
        }
      ],
      "execution_count": 1
    },
    {
      "cell_type": "markdown",
      "source": "是不是比 `1 + 2 + 3 + 4 + 5` 要方便些？",
      "metadata": {}
    },
    {
      "cell_type": "markdown",
      "source": "## S表达式",
      "metadata": {}
    },
    {
      "cell_type": "markdown",
      "source": "如何看待这样的表达式呢？\n\n```scheme\n(+ 1 2 3)\n```\n\n可以看作一棵树， 其中第0个元素为树根，其他元素为叶子。\n\n```scheme\n  +           ;; 函数名\n1 2 3         ;; 参数\n```",
      "metadata": {}
    },
    {
      "cell_type": "code",
      "source": "(+ (* 3\n      (+ (* 2 4)\n         (+ 3 5)))\n   (+ (- 10 7)\n      6))",
      "metadata": {
        "trusted": true
      },
      "outputs": [
        {
          "execution_count": 2,
          "output_type": "execute_result",
          "data": {
            "text/plain": "57"
          },
          "metadata": {}
        }
      ],
      "execution_count": 2
    },
    {
      "cell_type": "markdown",
      "source": "## 命名",
      "metadata": {}
    },
    {
      "cell_type": "code",
      "source": "(define pi 3.1415926)",
      "metadata": {
        "trusted": true
      },
      "outputs": [
        {
          "execution_count": 3,
          "output_type": "execute_result",
          "data": {
            "text/plain": "#<void>"
          },
          "metadata": {}
        }
      ],
      "execution_count": 3
    },
    {
      "cell_type": "code",
      "source": "pi",
      "metadata": {
        "trusted": true
      },
      "outputs": [
        {
          "execution_count": 4,
          "output_type": "execute_result",
          "data": {
            "text/plain": "3.1415926"
          },
          "metadata": {}
        }
      ],
      "execution_count": 4
    },
    {
      "cell_type": "code",
      "source": "(define r 2) ;; 定义 r = 2",
      "metadata": {
        "trusted": true
      },
      "outputs": [
        {
          "execution_count": 5,
          "output_type": "execute_result",
          "data": {
            "text/plain": "#<void>"
          },
          "metadata": {}
        }
      ],
      "execution_count": 5
    },
    {
      "cell_type": "code",
      "source": "(* 2 pi r)  ;; 2 * pi * r",
      "metadata": {
        "trusted": true
      },
      "outputs": [
        {
          "execution_count": 6,
          "output_type": "execute_result",
          "data": {
            "text/plain": "12.5663704"
          },
          "metadata": {}
        }
      ],
      "execution_count": 6
    },
    {
      "cell_type": "markdown",
      "source": "## 函数",
      "metadata": {}
    },
    {
      "cell_type": "markdown",
      "source": "用 `lambda` 定义函数",
      "metadata": {}
    },
    {
      "cell_type": "code",
      "source": "(define area\n  (lambda (x)      ;; 定义一个函数\n    (* 2 pi x)))",
      "metadata": {
        "trusted": true
      },
      "outputs": [
        {
          "execution_count": 7,
          "output_type": "execute_result",
          "data": {
            "text/plain": "#<void>"
          },
          "metadata": {}
        }
      ],
      "execution_count": 7
    },
    {
      "cell_type": "code",
      "source": "(area 10)",
      "metadata": {
        "trusted": true
      },
      "outputs": [
        {
          "execution_count": 8,
          "output_type": "execute_result",
          "data": {
            "text/plain": "62.831852"
          },
          "metadata": {}
        }
      ],
      "execution_count": 8
    },
    {
      "cell_type": "markdown",
      "source": "对比 javascript 的语法\n\n```js\nconst pi = 3.14\nconst area = (x) => 2 * pi * x\n```",
      "metadata": {}
    },
    {
      "cell_type": "markdown",
      "source": "而 Javascript的最初灵感正是来源于 `Scheme` （一种Lisp)。 [History of Javascript](https://en.wikipedia.org/wiki/JavaScript#History)，如果同时熟悉两者的话，会发现它们很像。",
      "metadata": {}
    },
    {
      "cell_type": "markdown",
      "source": "上述是一个组合表达式\n\n```scheme\n(define area ...)\n```",
      "metadata": {}
    },
    {
      "cell_type": "code",
      "source": "(lambda (x) (* x x))",
      "metadata": {
        "trusted": true
      },
      "outputs": [
        {
          "execution_count": 9,
          "output_type": "execute_result",
          "data": {
            "text/plain": "#<procedure>"
          },
          "metadata": {}
        }
      ],
      "execution_count": 9
    },
    {
      "cell_type": "markdown",
      "source": "可直接调用",
      "metadata": {}
    },
    {
      "cell_type": "code",
      "source": "((lambda (x) (* x x)) 10)",
      "metadata": {
        "trusted": true
      },
      "outputs": [
        {
          "execution_count": 10,
          "output_type": "execute_result",
          "data": {
            "text/plain": "100"
          },
          "metadata": {}
        }
      ],
      "execution_count": 10
    },
    {
      "cell_type": "code",
      "source": "(\n (lambda (x) (* x x))  ; 函数定义\n 10  ; 调用参数\n)",
      "metadata": {
        "trusted": true
      },
      "outputs": [
        {
          "execution_count": 11,
          "output_type": "execute_result",
          "data": {
            "text/plain": "100"
          },
          "metadata": {}
        }
      ],
      "execution_count": 11
    },
    {
      "cell_type": "markdown",
      "source": "### 函数定义语法糖",
      "metadata": {}
    },
    {
      "cell_type": "code",
      "source": "(define (square x)\n  (* x x))",
      "metadata": {
        "trusted": true
      },
      "outputs": [
        {
          "execution_count": 12,
          "output_type": "execute_result",
          "data": {
            "text/plain": "#<void>"
          },
          "metadata": {}
        }
      ],
      "execution_count": 12
    },
    {
      "cell_type": "code",
      "source": "(square 10)",
      "metadata": {
        "trusted": true
      },
      "outputs": [
        {
          "execution_count": 13,
          "output_type": "execute_result",
          "data": {
            "text/plain": "100"
          },
          "metadata": {}
        }
      ],
      "execution_count": 13
    },
    {
      "cell_type": "code",
      "source": "(square (square 3))",
      "metadata": {
        "trusted": true
      },
      "outputs": [
        {
          "execution_count": 14,
          "output_type": "execute_result",
          "data": {
            "text/plain": "81"
          },
          "metadata": {}
        }
      ],
      "execution_count": 14
    },
    {
      "cell_type": "markdown",
      "source": "多个参数也可以",
      "metadata": {}
    },
    {
      "cell_type": "code",
      "source": "(define (sum a b)\n  (+ a b))\n\n(sum 1 2)",
      "metadata": {
        "trusted": true
      },
      "outputs": [
        {
          "execution_count": 15,
          "output_type": "execute_result",
          "data": {
            "text/plain": "3"
          },
          "metadata": {}
        }
      ],
      "execution_count": 15
    },
    {
      "cell_type": "markdown",
      "source": "参数可以是函数",
      "metadata": {}
    },
    {
      "cell_type": "code",
      "source": "(define (double f x)\n  (+ (f x) (f x)))\n\n(double square 5)",
      "metadata": {
        "trusted": true
      },
      "outputs": [
        {
          "execution_count": 16,
          "output_type": "execute_result",
          "data": {
            "text/plain": "50"
          },
          "metadata": {}
        }
      ],
      "execution_count": 16
    },
    {
      "cell_type": "markdown",
      "source": "返回值可以是函数",
      "metadata": {}
    },
    {
      "cell_type": "code",
      "source": "(define (add x)\n  (lambda (y)\n    (+ x y)))",
      "metadata": {
        "trusted": true
      },
      "outputs": [
        {
          "execution_count": 17,
          "output_type": "execute_result",
          "data": {
            "text/plain": "#<void>"
          },
          "metadata": {}
        }
      ],
      "execution_count": 17
    },
    {
      "cell_type": "code",
      "source": "(define add7 (add 7))\n(add7 8)",
      "metadata": {
        "trusted": true
      },
      "outputs": [
        {
          "execution_count": 18,
          "output_type": "execute_result",
          "data": {
            "text/plain": "15"
          },
          "metadata": {}
        }
      ],
      "execution_count": 18
    },
    {
      "cell_type": "code",
      "source": "((add 7) 8)",
      "metadata": {
        "trusted": true
      },
      "outputs": [
        {
          "execution_count": 19,
          "output_type": "execute_result",
          "data": {
            "text/plain": "15"
          },
          "metadata": {}
        }
      ],
      "execution_count": 19
    },
    {
      "cell_type": "markdown",
      "source": "    这本书不经常使用这种替代语法。尽管它更简短，但它往往掩盖了一个事实，即过程并不像在许多其他语言中那样与变量或名称紧密相关。这种语法常常有些贬义地被称为“defun”语法，用于 define ，这是 Lisp 语言提供的 defun 形式，其中过程与它们的名称更紧密相关。\n    ——— 《The Scheme Programming Language》 \n\n[Section 2.6. Top-Level Definitions](https://www.scheme.com/tspl4/start.html#./start:h6)",
      "metadata": {}
    },
    {
      "cell_type": "markdown",
      "source": "### 应用序 (applicative order)",
      "metadata": {}
    },
    {
      "cell_type": "code",
      "source": "(define (sum-of-square x y)\n  (+ (square x) (square y)))",
      "metadata": {
        "trusted": true
      },
      "outputs": [
        {
          "execution_count": 20,
          "output_type": "execute_result",
          "data": {
            "text/plain": "#<void>"
          },
          "metadata": {}
        }
      ],
      "execution_count": 20
    },
    {
      "cell_type": "code",
      "source": "(sum-of-square 3 4)",
      "metadata": {
        "trusted": true
      },
      "outputs": [
        {
          "execution_count": 21,
          "output_type": "execute_result",
          "data": {
            "text/plain": "25"
          },
          "metadata": {}
        }
      ],
      "execution_count": 21
    },
    {
      "cell_type": "code",
      "source": "(trace square)",
      "metadata": {
        "trusted": true
      },
      "outputs": [
        {
          "execution_count": 22,
          "output_type": "execute_result",
          "data": {
            "text/plain": "(square)"
          },
          "metadata": {}
        }
      ],
      "execution_count": 22
    },
    {
      "cell_type": "code",
      "source": "(sum-of-square 3 4)",
      "metadata": {
        "trusted": true
      },
      "outputs": [
        {
          "name": "stdout",
          "text": "|(square 3)\n|9\n|(square 4)\n|16\n",
          "output_type": "stream"
        },
        {
          "execution_count": 23,
          "output_type": "execute_result",
          "data": {
            "text/plain": "25"
          },
          "metadata": {}
        }
      ],
      "execution_count": 23
    },
    {
      "cell_type": "code",
      "source": "(untrace square)",
      "metadata": {
        "trusted": true
      },
      "outputs": [
        {
          "execution_count": 24,
          "output_type": "execute_result",
          "data": {
            "text/plain": "(square)"
          },
          "metadata": {}
        }
      ],
      "execution_count": 24
    },
    {
      "cell_type": "code",
      "source": "(trace square)",
      "metadata": {
        "trusted": true
      },
      "outputs": [
        {
          "execution_count": 25,
          "output_type": "execute_result",
          "data": {
            "text/plain": "(square)"
          },
          "metadata": {}
        }
      ],
      "execution_count": 25
    },
    {
      "cell_type": "code",
      "source": "(trace +)",
      "metadata": {
        "trusted": true
      },
      "outputs": [
        {
          "ename": "Evaluation Error",
          "evalue": "trace: redefining +; existing references will not be traced",
          "traceback": [],
          "output_type": "error"
        }
      ],
      "execution_count": 26
    },
    {
      "cell_type": "code",
      "source": "(trace *)",
      "metadata": {
        "trusted": true
      },
      "outputs": [
        {
          "ename": "Evaluation Error",
          "evalue": "trace: redefining *; existing references will not be traced",
          "traceback": [],
          "output_type": "error"
        }
      ],
      "execution_count": 27
    },
    {
      "cell_type": "code",
      "source": "(sum-of-square (+ 5 1) (* 5 2))",
      "metadata": {
        "trusted": true
      },
      "outputs": [
        {
          "name": "stdout",
          "text": "|(+ 5 1)\n|6\n|(* 5 2)\n|10\n|(square 6)\n|36\n|(square 10)\n|100\n",
          "output_type": "stream"
        },
        {
          "execution_count": 28,
          "output_type": "execute_result",
          "data": {
            "text/plain": "136"
          },
          "metadata": {}
        }
      ],
      "execution_count": 28
    },
    {
      "cell_type": "markdown",
      "source": "调用时，参数先应用， 这种调用序叫做 **应用序**， 对应于普通的函数调用。",
      "metadata": {}
    },
    {
      "cell_type": "code",
      "source": "(untrace +)",
      "metadata": {
        "trusted": true
      },
      "outputs": [
        {
          "execution_count": 29,
          "output_type": "execute_result",
          "data": {
            "text/plain": "()"
          },
          "metadata": {}
        }
      ],
      "execution_count": 29
    },
    {
      "cell_type": "code",
      "source": "(untrace *)",
      "metadata": {
        "trusted": true
      },
      "outputs": [
        {
          "execution_count": 30,
          "output_type": "execute_result",
          "data": {
            "text/plain": "()"
          },
          "metadata": {}
        }
      ],
      "execution_count": 30
    },
    {
      "cell_type": "markdown",
      "source": "### 条件和分支",
      "metadata": {}
    },
    {
      "cell_type": "markdown",
      "source": "求绝对值",
      "metadata": {}
    },
    {
      "cell_type": "code",
      "source": "(define (abs x)\n  (if (< x 0)\n      (- x)\n      x))",
      "metadata": {
        "trusted": true
      },
      "outputs": [
        {
          "execution_count": 31,
          "output_type": "execute_result",
          "data": {
            "text/plain": "#<void>"
          },
          "metadata": {}
        }
      ],
      "execution_count": 31
    },
    {
      "cell_type": "code",
      "source": "(abs 10)",
      "metadata": {
        "trusted": true
      },
      "outputs": [
        {
          "execution_count": 32,
          "output_type": "execute_result",
          "data": {
            "text/plain": "10"
          },
          "metadata": {}
        }
      ],
      "execution_count": 32
    },
    {
      "cell_type": "code",
      "source": "(abs -2)",
      "metadata": {
        "trusted": true
      },
      "outputs": [
        {
          "execution_count": 33,
          "output_type": "execute_result",
          "data": {
            "text/plain": "2"
          },
          "metadata": {}
        }
      ],
      "execution_count": 33
    },
    {
      "cell_type": "markdown",
      "source": "### 正则序（normal order)",
      "metadata": {}
    },
    {
      "cell_type": "code",
      "source": "(define (add x y)\n  (+ x y))",
      "metadata": {
        "trusted": true
      },
      "outputs": [
        {
          "execution_count": 34,
          "output_type": "execute_result",
          "data": {
            "text/plain": "#<void>"
          },
          "metadata": {}
        }
      ],
      "execution_count": 34
    },
    {
      "cell_type": "code",
      "source": "(trace add)",
      "metadata": {
        "trusted": true
      },
      "outputs": [
        {
          "execution_count": 35,
          "output_type": "execute_result",
          "data": {
            "text/plain": "(add)"
          },
          "metadata": {}
        }
      ],
      "execution_count": 35
    },
    {
      "cell_type": "code",
      "source": "(define x 10)",
      "metadata": {
        "trusted": true
      },
      "outputs": [
        {
          "execution_count": 36,
          "output_type": "execute_result",
          "data": {
            "text/plain": "#<void>"
          },
          "metadata": {}
        }
      ],
      "execution_count": 36
    },
    {
      "cell_type": "code",
      "source": "(if (< x 0)\n    (add x 2)\n    (add x 3))  ;; else",
      "metadata": {
        "trusted": true
      },
      "outputs": [
        {
          "name": "stdout",
          "text": "|(add 10 3)\n|(+ 10 3)\n|13\n",
          "output_type": "stream"
        },
        {
          "execution_count": 37,
          "output_type": "execute_result",
          "data": {
            "text/plain": "13"
          },
          "metadata": {}
        }
      ],
      "execution_count": 37
    },
    {
      "cell_type": "markdown",
      "source": "可以看到 `if` 只执行了else分支的表达式， 它和函数的调用时， 这种序叫 **正则序**。",
      "metadata": {}
    },
    {
      "cell_type": "code",
      "source": "(define (unless test expr)\n  (if (not test) expr))",
      "metadata": {
        "trusted": true
      },
      "outputs": [
        {
          "execution_count": 1,
          "output_type": "execute_result",
          "data": {
            "text/plain": "#<void>"
          },
          "metadata": {}
        }
      ],
      "execution_count": 1
    },
    {
      "cell_type": "code",
      "source": "(unless (< 1 2)\n  (begin\n   (display \"hello\")\n   (newline)))",
      "metadata": {
        "trusted": true
      },
      "outputs": [
        {
          "name": "stdout",
          "text": "hello\n",
          "output_type": "stream"
        },
        {
          "execution_count": 2,
          "output_type": "execute_result",
          "data": {
            "text/plain": "#<void>"
          },
          "metadata": {}
        }
      ],
      "execution_count": 2
    },
    {
      "cell_type": "markdown",
      "source": "因为函数中的表达式会在先应用，上述的 `unless` 无法预期工作。",
      "metadata": {}
    },
    {
      "cell_type": "code",
      "source": "(define-syntax unless\n  (syntax-rules ()\n    ((unless test expr)\n     (if (not test) expr))))",
      "metadata": {
        "trusted": true
      },
      "outputs": [
        {
          "execution_count": 3,
          "output_type": "execute_result",
          "data": {
            "text/plain": "#<void>"
          },
          "metadata": {}
        }
      ],
      "execution_count": 3
    },
    {
      "cell_type": "code",
      "source": "(unless (< 1 2)\n  (begin\n   (display \"hello\")\n   (newline)))",
      "metadata": {
        "trusted": true
      },
      "outputs": [
        {
          "execution_count": 4,
          "output_type": "execute_result",
          "data": {
            "text/plain": "#<void>"
          },
          "metadata": {}
        }
      ],
      "execution_count": 4
    },
    {
      "cell_type": "code",
      "source": "(unless (< 2 1)\n  (begin\n   (display \"hello\")\n   (newline)))",
      "metadata": {
        "trusted": true
      },
      "outputs": [
        {
          "name": "stdout",
          "text": "hello\n",
          "output_type": "stream"
        },
        {
          "execution_count": 5,
          "output_type": "execute_result",
          "data": {
            "text/plain": "#<void>"
          },
          "metadata": {}
        }
      ],
      "execution_count": 5
    },
    {
      "cell_type": "markdown",
      "source": "## 练习: 计算平方根",
      "metadata": {}
    },
    {
      "cell_type": "markdown",
      "source": "如何计算 $ \\sqrt 2 $ ?",
      "metadata": {}
    },
    {
      "cell_type": "code",
      "source": "(define n 2)",
      "metadata": {
        "trusted": true
      },
      "outputs": [
        {
          "execution_count": 6,
          "output_type": "execute_result",
          "data": {
            "text/plain": "#<void>"
          },
          "metadata": {}
        }
      ],
      "execution_count": 6
    },
    {
      "cell_type": "code",
      "source": "; 随便猜 1\n(define x 1)",
      "metadata": {
        "trusted": true
      },
      "outputs": [
        {
          "execution_count": 7,
          "output_type": "execute_result",
          "data": {
            "text/plain": "#<void>"
          },
          "metadata": {}
        }
      ],
      "execution_count": 7
    },
    {
      "cell_type": "code",
      "source": "n",
      "metadata": {
        "trusted": true
      },
      "outputs": [
        {
          "execution_count": 8,
          "output_type": "execute_result",
          "data": {
            "text/plain": "2"
          },
          "metadata": {}
        }
      ],
      "execution_count": 8
    },
    {
      "cell_type": "code",
      "source": "x",
      "metadata": {
        "trusted": true
      },
      "outputs": [
        {
          "execution_count": 9,
          "output_type": "execute_result",
          "data": {
            "text/plain": "1"
          },
          "metadata": {}
        }
      ],
      "execution_count": 9
    },
    {
      "cell_type": "code",
      "source": "; 计算 (x + n / x) / 2\n\n(/\n (+ x\n    (/ n x))\n 2)",
      "metadata": {
        "trusted": true
      },
      "outputs": [
        {
          "execution_count": 10,
          "output_type": "execute_result",
          "data": {
            "text/plain": "3/2"
          },
          "metadata": {}
        }
      ],
      "execution_count": 10
    },
    {
      "cell_type": "markdown",
      "source": "还能表示分数：）",
      "metadata": {}
    },
    {
      "cell_type": "code",
      "source": ";; 不断上述计算\n\n(define n 2.0)\n(define x 1.0)\n(define x\n  (/\n     (+ x\n        (/ n x))\n     2))",
      "metadata": {
        "trusted": true
      },
      "outputs": [
        {
          "execution_count": 11,
          "output_type": "execute_result",
          "data": {
            "text/plain": "#<void>"
          },
          "metadata": {}
        }
      ],
      "execution_count": 11
    },
    {
      "cell_type": "code",
      "source": "x",
      "metadata": {
        "trusted": true
      },
      "outputs": [
        {
          "execution_count": 12,
          "output_type": "execute_result",
          "data": {
            "text/plain": "1.5"
          },
          "metadata": {}
        }
      ],
      "execution_count": 12
    },
    {
      "cell_type": "code",
      "source": "(untrace +)",
      "metadata": {
        "trusted": true
      },
      "outputs": [
        {
          "execution_count": 13,
          "output_type": "execute_result",
          "data": {
            "text/plain": "()"
          },
          "metadata": {}
        }
      ],
      "execution_count": 13
    },
    {
      "cell_type": "code",
      "source": "(define x\n  (/\n     (+ x\n        (/ n x))\n     2))\n\n;; 多按几次 Ctrl+Enter",
      "metadata": {
        "trusted": true
      },
      "outputs": [
        {
          "execution_count": 21,
          "output_type": "execute_result",
          "data": {
            "text/plain": "#<void>"
          },
          "metadata": {}
        }
      ],
      "execution_count": 21
    },
    {
      "cell_type": "code",
      "source": "x",
      "metadata": {
        "trusted": true
      },
      "outputs": [
        {
          "execution_count": 22,
          "output_type": "execute_result",
          "data": {
            "text/plain": "1.414213562373095"
          },
          "metadata": {}
        }
      ],
      "execution_count": 22
    },
    {
      "cell_type": "markdown",
      "source": "## 迭代和循环",
      "metadata": {}
    },
    {
      "cell_type": "markdown",
      "source": "将上述表达式定义成函数",
      "metadata": {}
    },
    {
      "cell_type": "code",
      "source": "(define (improve x n)\n  (/\n    (+ x\n       (/ n x))\n   2))",
      "metadata": {
        "trusted": true
      },
      "outputs": [
        {
          "execution_count": 23,
          "output_type": "execute_result",
          "data": {
            "text/plain": "#<void>"
          },
          "metadata": {}
        }
      ],
      "execution_count": 23
    },
    {
      "cell_type": "markdown",
      "source": "关键的点来了，如何定义循环呢？",
      "metadata": {}
    },
    {
      "cell_type": "code",
      "source": "(define (sqrt-iter x n)\n  (if (good-enough? x n) ; 足够好\n      x\n      (sqrt-iter (improve x n)\n                 n)))",
      "metadata": {
        "trusted": true
      },
      "outputs": [
        {
          "execution_count": 24,
          "output_type": "execute_result",
          "data": {
            "text/plain": "#<void>"
          },
          "metadata": {}
        }
      ],
      "execution_count": 24
    },
    {
      "cell_type": "code",
      "source": ";; 定义足够好\n(define (good-enough? x n)\n  (< (abs (- (* x x) n)) 0.0001))",
      "metadata": {
        "trusted": true
      },
      "outputs": [
        {
          "execution_count": 25,
          "output_type": "execute_result",
          "data": {
            "text/plain": "#<void>"
          },
          "metadata": {}
        }
      ],
      "execution_count": 25
    },
    {
      "cell_type": "code",
      "source": "(good-enough? 1.414213 2)",
      "metadata": {
        "trusted": true
      },
      "outputs": [
        {
          "execution_count": 26,
          "output_type": "execute_result",
          "data": {
            "text/plain": "#t"
          },
          "metadata": {}
        }
      ],
      "execution_count": 26
    },
    {
      "cell_type": "code",
      "source": "(sqrt-iter 1.0 2.0)",
      "metadata": {
        "trusted": true
      },
      "outputs": [
        {
          "execution_count": 27,
          "output_type": "execute_result",
          "data": {
            "text/plain": "1.4142156862745097"
          },
          "metadata": {}
        }
      ],
      "execution_count": 27
    },
    {
      "cell_type": "markdown",
      "source": "定义出函数",
      "metadata": {}
    },
    {
      "cell_type": "code",
      "source": "(define (my-sqrt x)\n  (sqrt-iter 1.0 x))",
      "metadata": {
        "trusted": true
      },
      "outputs": [
        {
          "execution_count": 28,
          "output_type": "execute_result",
          "data": {
            "text/plain": "#<void>"
          },
          "metadata": {}
        }
      ],
      "execution_count": 28
    },
    {
      "cell_type": "code",
      "source": "(my-sqrt 2.0)",
      "metadata": {
        "trusted": true
      },
      "outputs": [
        {
          "execution_count": 29,
          "output_type": "execute_result",
          "data": {
            "text/plain": "1.4142156862745097"
          },
          "metadata": {}
        }
      ],
      "execution_count": 29
    },
    {
      "cell_type": "markdown",
      "source": "看一下调用形状",
      "metadata": {}
    },
    {
      "cell_type": "code",
      "source": "(trace sqrt-iter)",
      "metadata": {
        "trusted": true
      },
      "outputs": [
        {
          "execution_count": 30,
          "output_type": "execute_result",
          "data": {
            "text/plain": "(sqrt-iter)"
          },
          "metadata": {}
        }
      ],
      "execution_count": 30
    },
    {
      "cell_type": "code",
      "source": "(my-sqrt 2.0)",
      "metadata": {
        "trusted": true
      },
      "outputs": [
        {
          "name": "stdout",
          "text": "|(sqrt-iter 1.0 2.0)\n|(sqrt-iter 1.5 2.0)\n|(sqrt-iter 1.4166666666666665 2.0)\n|(sqrt-iter 1.4142156862745097 2.0)\n|1.4142156862745097\n",
          "output_type": "stream"
        },
        {
          "execution_count": 31,
          "output_type": "execute_result",
          "data": {
            "text/plain": "1.4142156862745097"
          },
          "metadata": {}
        }
      ],
      "execution_count": 31
    },
    {
      "cell_type": "markdown",
      "source": "## 块结构",
      "metadata": {}
    },
    {
      "cell_type": "markdown",
      "source": "嵌套的 define 具有块级作用域",
      "metadata": {}
    },
    {
      "cell_type": "code",
      "source": "(define (area x)\n  (define pi 3.14)\n  (define (square x) (* x x))\n  (* pi (square x)))",
      "metadata": {
        "trusted": true
      },
      "outputs": [
        {
          "execution_count": 2,
          "output_type": "execute_result",
          "data": {
            "text/plain": "#<void>"
          },
          "metadata": {}
        }
      ],
      "execution_count": 2
    },
    {
      "cell_type": "code",
      "source": "(area 10)",
      "metadata": {
        "trusted": true
      },
      "outputs": [
        {
          "execution_count": 3,
          "output_type": "execute_result",
          "data": {
            "text/plain": "314.0"
          },
          "metadata": {}
        }
      ],
      "execution_count": 3
    },
    {
      "cell_type": "code",
      "source": "pi",
      "metadata": {
        "trusted": true
      },
      "outputs": [
        {
          "ename": "Evaluation Error",
          "evalue": "variable pi is not bound",
          "traceback": [],
          "output_type": "error"
        }
      ],
      "execution_count": 4
    },
    {
      "cell_type": "markdown",
      "source": "将上述求平方根的函数整合起来",
      "metadata": {}
    },
    {
      "cell_type": "code",
      "source": "(define (mysqrt x)\n  (define (sqrt-iter x n)\n    (if (good-enough? x n)\n        x\n        (sqrt-iter (improve x n)\n                   n)))\n  \n  (define (good-enough? x n)\n    (< (abs (- (* x x) n)) 0.0000001))\n\n  (define (abs x)\n    (if (< x 0) (- x) x))\n\n  (define (improve x n)\n    (/ (+ x (/ n x)) 2))\n\n  (sqrt-iter 1.0 x))",
      "metadata": {
        "trusted": true
      },
      "outputs": [
        {
          "execution_count": 32,
          "output_type": "execute_result",
          "data": {
            "text/plain": "#<void>"
          },
          "metadata": {}
        }
      ],
      "execution_count": 32
    },
    {
      "cell_type": "code",
      "source": "(mysqrt 2.0)",
      "metadata": {
        "trusted": true
      },
      "outputs": [
        {
          "execution_count": 33,
          "output_type": "execute_result",
          "data": {
            "text/plain": "1.4142135623746899"
          },
          "metadata": {}
        }
      ],
      "execution_count": 33
    },
    {
      "cell_type": "markdown",
      "source": "## 牛顿弦切法",
      "metadata": {}
    },
    {
      "cell_type": "markdown",
      "source": "上述的迭代式：`(x + n / x) / 2` 是怎么来的呢？  \n我们写成 $ x_2 = (x_1 + n / x_1) / 2$\n\n- $n$ 计算 $sqrt(n)$\n- $x_1$ 当前迭代的值\n- $x_2$ 下一迭代的值",
      "metadata": {}
    },
    {
      "cell_type": "markdown",
      "source": "流程大致如下\n\n$x=\\sqrt n$   \n\n$x^2=n$\n\n$x^2-n=0$\n\n$y=x^2-n$\n\n即抛物线 $y=x^2-n$ 与x轴的交点就是解。\n\n\n",
      "metadata": {}
    },
    {
      "cell_type": "code",
      "source": "%%html\n\n<iframe src=\"https://www.desmos.com/calculator/xsncxuys1e?embed\" width=\"500\" height=\"500\" style=\"border: 1px solid #ccc\" frameborder=0></iframe>",
      "metadata": {
        "trusted": true
      },
      "outputs": [
        {
          "execution_count": 34,
          "output_type": "execute_result",
          "data": {
            "text/html": "\n<iframe src=\"https://www.desmos.com/calculator/xsncxuys1e?embed\" width=\"500\" height=\"500\" style=\"border: 1px solid #ccc\" frameborder=0></iframe>"
          },
          "metadata": {}
        }
      ],
      "execution_count": 34
    },
    {
      "cell_type": "markdown",
      "source": "$x_1$ 就是本次迭代的值\n\n$x_2$ 就是下一次迭代的值\n\n点 $x_1$ 为: $(x1, x1^2 - n)$\n\n过 $x_1$ 切线的斜率为: $2x_1$\n\n直接方程为: $ y - (x_1^2 - n) = 2x_1(x - x_1) $\n\n令 $y=0$ 解得: $ x = (x_1 + n / x_1) / 2 $\n",
      "metadata": {}
    },
    {
      "cell_type": "code",
      "source": "",
      "metadata": {
        "trusted": true
      },
      "outputs": [],
      "execution_count": null
    }
  ]
}