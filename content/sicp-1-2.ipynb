{
  "metadata": {
    "kernelspec": {
      "name": "scheme",
      "display_name": "scheme",
      "language": "scheme"
    },
    "language_info": {
      "codemirror_mode": {
        "name": "scheme"
      },
      "file_extension": ".scm",
      "mimetype": "text/x-scheme",
      "name": "scheme",
      "version": "10.2.0",
      "pygments_lexer": "scheme"
    }
  },
  "nbformat_minor": 4,
  "nbformat": 4,
  "cells": [
    {
      "cell_type": "markdown",
      "source": "# SICP中的编程技艺 1.2",
      "metadata": {}
    },
    {
      "cell_type": "markdown",
      "source": "# 程序及其生成的过程\n\n[1.2 Procedures and the Processes They Generate](https://mitp-content-server.mit.edu/books/content/sectbyfn/books_pres_0/6515/sicp.zip/full-text/book/book-Z-H-11.html#%_sec_1.2)",
      "metadata": {}
    },
    {
      "cell_type": "markdown",
      "source": "## 线性递归和迭代",
      "metadata": {}
    },
    {
      "cell_type": "markdown",
      "source": "### 计算阶乘",
      "metadata": {}
    },
    {
      "cell_type": "markdown",
      "source": "$n! = 1 \\times 2 \\times 3 \\times \\cdot \\cdot \\cdot n$\n\n或者\n\n$n! =\n\\begin{cases} \n1 & \\text{if } n = 0, \\\\\nn \\cdot (n-1)! & \\text{if } n > 0.\n\\end{cases}$",
      "metadata": {}
    },
    {
      "cell_type": "markdown",
      "source": "我们先用递归式表达",
      "metadata": {}
    },
    {
      "cell_type": "code",
      "source": "(define (factorial n)\n  (if (= n 0)\n      1\n      (* n (factorial (- n 1)))))",
      "metadata": {
        "trusted": true
      },
      "outputs": [
        {
          "execution_count": 1,
          "output_type": "execute_result",
          "data": {
            "text/plain": "#<void>"
          },
          "metadata": {}
        }
      ],
      "execution_count": 1
    },
    {
      "cell_type": "code",
      "source": "(factorial 6)",
      "metadata": {
        "trusted": true
      },
      "outputs": [
        {
          "execution_count": 2,
          "output_type": "execute_result",
          "data": {
            "text/plain": "720"
          },
          "metadata": {}
        }
      ],
      "execution_count": 2
    },
    {
      "cell_type": "markdown",
      "source": "形式基本上和数学公式对应。",
      "metadata": {}
    },
    {
      "cell_type": "code",
      "source": "(trace factorial)\n(factorial 6)",
      "metadata": {
        "trusted": true
      },
      "outputs": [
        {
          "name": "stdout",
          "text": "|(factorial 6)\n| (factorial 5)\n| |(factorial 4)\n| | (factorial 3)\n| | |(factorial 2)\n| | | (factorial 1)\n| | | 1\n| | |2\n| | 6\n| |24\n| 120\n|720\n",
          "output_type": "stream"
        },
        {
          "execution_count": 4,
          "output_type": "execute_result",
          "data": {
            "text/plain": "720"
          },
          "metadata": {}
        }
      ],
      "execution_count": 4
    },
    {
      "cell_type": "markdown",
      "source": "程序的执行是有\"形状\"的，这是线性递归的形状。",
      "metadata": {}
    },
    {
      "cell_type": "markdown",
      "source": "再看如何迭代，在有 `for` 语言的程序中，这非常容易：\n\n```js\nfunction factorial(n) {\n  let product = 1\n  for (let i = 1; i <= n; i++) {\n    product *= i\n  }\n  return product\n}\n```\n\n那如何使用函数表达迭代呢？ 有个模式， 就是把 累计值 `product`，和循环中用到的变量统统定义成函数参数。",
      "metadata": {}
    },
    {
      "cell_type": "code",
      "source": "(define (fact-iter product i n)  ;; 累计值, 循环变量， 循环结束变量\n  (if (> i n)\n      product\n      (fact-iter (* product i)    ;; product *= i\n                 (+ i 1)          ;; i++\n                 n)))",
      "metadata": {
        "trusted": true
      },
      "outputs": [
        {
          "execution_count": 6,
          "output_type": "execute_result",
          "data": {
            "text/plain": "#<void>"
          },
          "metadata": {}
        }
      ],
      "execution_count": 6
    },
    {
      "cell_type": "code",
      "source": "(fact-iter 1 1 6)",
      "metadata": {
        "trusted": true
      },
      "outputs": [
        {
          "execution_count": 8,
          "output_type": "execute_result",
          "data": {
            "text/plain": "720"
          },
          "metadata": {}
        }
      ],
      "execution_count": 8
    },
    {
      "cell_type": "markdown",
      "source": "记住这个模板，它就是 for 的函数式版本，这和我们刚学编程时，第一次\"背\" `for (int i = 0; i< n; i++)` 没有什么本质区别，只是此刻我们忘记了当时的愚钝。",
      "metadata": {}
    },
    {
      "cell_type": "markdown",
      "source": "使用块作用域所它整合起来",
      "metadata": {}
    },
    {
      "cell_type": "code",
      "source": "(define (factorial n)\n  (define (factorial-iter product i n)\n    (if (> i n)\n        product\n        (factorial-iter (* product i)\n                        (+ i 1)\n                        n)))\n  (factorial-iter 1 1 n))",
      "metadata": {
        "trusted": true
      },
      "outputs": [
        {
          "execution_count": 9,
          "output_type": "execute_result",
          "data": {
            "text/plain": "#<void>"
          },
          "metadata": {}
        }
      ],
      "execution_count": 9
    },
    {
      "cell_type": "code",
      "source": "(factorial 8)",
      "metadata": {
        "trusted": true
      },
      "outputs": [
        {
          "execution_count": 10,
          "output_type": "execute_result",
          "data": {
            "text/plain": "40320"
          },
          "metadata": {}
        }
      ],
      "execution_count": 10
    },
    {
      "cell_type": "code",
      "source": "(trace factorial)",
      "metadata": {
        "trusted": true
      },
      "outputs": [
        {
          "execution_count": 13,
          "output_type": "execute_result",
          "data": {
            "text/plain": "(factorial)"
          },
          "metadata": {}
        }
      ],
      "execution_count": 13
    },
    {
      "cell_type": "code",
      "source": "(factorial 8)",
      "metadata": {
        "trusted": true
      },
      "outputs": [
        {
          "name": "stdout",
          "text": "|(factorial 8)\n|40320\n",
          "output_type": "stream"
        },
        {
          "execution_count": 14,
          "output_type": "execute_result",
          "data": {
            "text/plain": "40320"
          },
          "metadata": {}
        }
      ],
      "execution_count": 14
    },
    {
      "cell_type": "markdown",
      "source": "需要 trace 一下执行流程",
      "metadata": {}
    },
    {
      "cell_type": "code",
      "source": "(define (factorial n)\n  (trace-define (factorial-iter product i n)  ;; 使用 trace-define 定义\n    (if (> i n)\n        product\n        (factorial-iter (* product i)\n                        (+ i 1)\n                        n)))\n  (factorial-iter 1 1 n))",
      "metadata": {
        "trusted": true
      },
      "outputs": [
        {
          "execution_count": 15,
          "output_type": "execute_result",
          "data": {
            "text/plain": "#<void>"
          },
          "metadata": {}
        }
      ],
      "execution_count": 15
    },
    {
      "cell_type": "code",
      "source": "(factorial 8)",
      "metadata": {
        "trusted": true
      },
      "outputs": [
        {
          "name": "stdout",
          "text": "|(factorial-iter 1 1 8)\n|(factorial-iter 1 2 8)\n|(factorial-iter 2 3 8)\n|(factorial-iter 6 4 8)\n|(factorial-iter 24 5 8)\n|(factorial-iter 120 6 8)\n|(factorial-iter 720 7 8)\n|(factorial-iter 5040 8 8)\n|(factorial-iter 40320 9 8)\n|40320\n",
          "output_type": "stream"
        },
        {
          "execution_count": 16,
          "output_type": "execute_result",
          "data": {
            "text/plain": "40320"
          },
          "metadata": {}
        }
      ],
      "execution_count": 16
    },
    {
      "cell_type": "markdown",
      "source": "这是迭代的形态。",
      "metadata": {}
    },
    {
      "cell_type": "markdown",
      "source": "对于当前程序，看到有2个变量在弯化，最后一个变量不变，因此可以简化。",
      "metadata": {}
    },
    {
      "cell_type": "code",
      "source": "(define (factorial n)\n  (define (factorial-iter product i)\n    (if (> i n)  ;; 利用块作用域，能取到外层 n\n        product\n        (factorial-iter (* product i)\n                        (+ i 1))))\n  (factorial-iter 1 1))",
      "metadata": {
        "trusted": true
      },
      "outputs": [
        {
          "execution_count": 1,
          "output_type": "execute_result",
          "data": {
            "text/plain": "#<void>"
          },
          "metadata": {}
        }
      ],
      "execution_count": 1
    },
    {
      "cell_type": "code",
      "source": "(factorial 8)",
      "metadata": {
        "trusted": true
      },
      "outputs": [
        {
          "execution_count": 2,
          "output_type": "execute_result",
          "data": {
            "text/plain": "40320"
          },
          "metadata": {}
        }
      ],
      "execution_count": 2
    },
    {
      "cell_type": "markdown",
      "source": "factorial-iter函数调用了自身，所以应该是递归的，但是执行流程确是迭代的，所以我们要区分 **递归程序和递归过程**； \n\n程序可以使用递归的方式编写，在`Scheme`中经常如此，得益于尾递归的，执行过程是迭代的，不会消耗栈空间。",
      "metadata": {}
    },
    {
      "cell_type": "markdown",
      "source": "    在这一点上，熟悉其他提供特殊迭代构造的语言的读者，例如 while 或 for 循环，可能会想知道 Scheme 中是否需要类似的构造。这样的构造是不必要的；在 Scheme 中，迭代通过递归表达得更清晰和简洁。递归更为通用，并且消除了许多其他语言的迭代构造所需的变量赋值，从而产生更可靠且更易于遵循的代码。有些递归本质上就是迭代，并且作为迭代执行；第 3.2 节对此有更多的讨论。然而，通常没有必要做出区分。相反，应该集中精力编写清晰、简洁和正确的程序。\n        —— 《The Scheme Programming Language》\n\n[Section 2.8. Simple Recursion](https://www.scheme.com/tspl4/start.html#./start:h8)",
      "metadata": {}
    },
    {
      "cell_type": "markdown",
      "source": "## 尾递归",
      "metadata": {}
    },
    {
      "cell_type": "markdown",
      "source": "求列表长度",
      "metadata": {}
    },
    {
      "cell_type": "code",
      "source": "(define length\n  (lambda (ls)\n    (if (null? ls)\n        0\n        (+ (length (cdr ls)) 1))))",
      "metadata": {
        "trusted": true
      },
      "outputs": [
        {
          "execution_count": 2,
          "output_type": "execute_result",
          "data": {
            "text/plain": "#<void>"
          },
          "metadata": {}
        }
      ],
      "execution_count": 2
    },
    {
      "cell_type": "code",
      "source": "(length '(1 2 3 4))",
      "metadata": {
        "trusted": true
      },
      "outputs": [
        {
          "execution_count": 4,
          "output_type": "execute_result",
          "data": {
            "text/plain": "4"
          },
          "metadata": {}
        }
      ],
      "execution_count": 4
    },
    {
      "cell_type": "code",
      "source": "(trace length)",
      "metadata": {
        "trusted": true
      },
      "outputs": [
        {
          "execution_count": 5,
          "output_type": "execute_result",
          "data": {
            "text/plain": "(length)"
          },
          "metadata": {}
        }
      ],
      "execution_count": 5
    },
    {
      "cell_type": "code",
      "source": "(length '(1 2 3 4))",
      "metadata": {
        "trusted": true
      },
      "outputs": [
        {
          "name": "stdout",
          "text": "|(length (1 2 3 4))\n| (length (2 3 4))\n| |(length (3 4))\n| | (length (4))\n| | |(length ())\n| | |0\n| | 1\n| |2\n| 3\n|4\n",
          "output_type": "stream"
        },
        {
          "execution_count": 6,
          "output_type": "execute_result",
          "data": {
            "text/plain": "4"
          },
          "metadata": {}
        }
      ],
      "execution_count": 6
    },
    {
      "cell_type": "markdown",
      "source": "按上述方法改写",
      "metadata": {}
    },
    {
      "cell_type": "markdown",
      "source": "### 书中的例子",
      "metadata": {}
    },
    {
      "cell_type": "code",
      "source": "inc",
      "metadata": {
        "trusted": true
      },
      "outputs": [
        {
          "ename": "Evaluation Error",
          "evalue": "variable inc is not bound",
          "traceback": [],
          "output_type": "error"
        }
      ],
      "execution_count": 1
    },
    {
      "cell_type": "code",
      "source": "(define (inc x) (+ x 1))",
      "metadata": {
        "trusted": true
      },
      "outputs": [
        {
          "execution_count": 2,
          "output_type": "execute_result",
          "data": {
            "text/plain": "#<void>"
          },
          "metadata": {}
        }
      ],
      "execution_count": 2
    },
    {
      "cell_type": "code",
      "source": "(inc 1)",
      "metadata": {
        "trusted": true
      },
      "outputs": [
        {
          "execution_count": 3,
          "output_type": "execute_result",
          "data": {
            "text/plain": "2"
          },
          "metadata": {}
        }
      ],
      "execution_count": 3
    },
    {
      "cell_type": "code",
      "source": "(define (dec x) (- x 1))",
      "metadata": {
        "trusted": true
      },
      "outputs": [
        {
          "execution_count": 9,
          "output_type": "execute_result",
          "data": {
            "text/plain": "#<void>"
          },
          "metadata": {}
        }
      ],
      "execution_count": 9
    },
    {
      "cell_type": "code",
      "source": "(dec 10)",
      "metadata": {
        "trusted": true
      },
      "outputs": [
        {
          "execution_count": 10,
          "output_type": "execute_result",
          "data": {
            "text/plain": "9"
          },
          "metadata": {}
        }
      ],
      "execution_count": 10
    },
    {
      "cell_type": "markdown",
      "source": "来自于书中的例子，第一次接触时，感觉以这种方式思考加法，有趣。",
      "metadata": {}
    },
    {
      "cell_type": "code",
      "source": "(define (add a b )\n  (if (= a 0)\n      b\n      (inc (add (dec a) b))))",
      "metadata": {
        "trusted": true
      },
      "outputs": [
        {
          "execution_count": 18,
          "output_type": "execute_result",
          "data": {
            "text/plain": "#<void>"
          },
          "metadata": {}
        }
      ],
      "execution_count": 18
    },
    {
      "cell_type": "code",
      "source": "(add 5 6)",
      "metadata": {
        "trusted": true
      },
      "outputs": [
        {
          "execution_count": 19,
          "output_type": "execute_result",
          "data": {
            "text/plain": "11"
          },
          "metadata": {}
        }
      ],
      "execution_count": 19
    },
    {
      "cell_type": "code",
      "source": "(trace add)",
      "metadata": {
        "trusted": true
      },
      "outputs": [
        {
          "execution_count": 20,
          "output_type": "execute_result",
          "data": {
            "text/plain": "(add)"
          },
          "metadata": {}
        }
      ],
      "execution_count": 20
    },
    {
      "cell_type": "code",
      "source": "(add  5 6)",
      "metadata": {
        "trusted": true
      },
      "outputs": [
        {
          "name": "stdout",
          "text": "|(add 5 6)\n| (add 4 6)\n| |(add 3 6)\n| | (add 2 6)\n| | |(add 1 6)\n| | | (add 0 6)\n| | | 6\n| | |7\n| | 8\n| |9\n| 10\n|11\n",
          "output_type": "stream"
        },
        {
          "execution_count": 21,
          "output_type": "execute_result",
          "data": {
            "text/plain": "11"
          },
          "metadata": {}
        }
      ],
      "execution_count": 21
    },
    {
      "cell_type": "code",
      "source": "(define (add a b)\n  (if (= a 0)\n      b\n      (add (dec a) (inc b)))) ; 这句不同。",
      "metadata": {
        "trusted": true
      },
      "outputs": [
        {
          "execution_count": 26,
          "output_type": "execute_result",
          "data": {
            "text/plain": "#<void>"
          },
          "metadata": {}
        }
      ],
      "execution_count": 26
    },
    {
      "cell_type": "code",
      "source": "(add 5 6)",
      "metadata": {
        "trusted": true
      },
      "outputs": [
        {
          "execution_count": 23,
          "output_type": "execute_result",
          "data": {
            "text/plain": "11"
          },
          "metadata": {}
        }
      ],
      "execution_count": 23
    },
    {
      "cell_type": "code",
      "source": "(trace add)",
      "metadata": {
        "trusted": true
      },
      "outputs": [
        {
          "execution_count": 24,
          "output_type": "execute_result",
          "data": {
            "text/plain": "(add)"
          },
          "metadata": {}
        }
      ],
      "execution_count": 24
    },
    {
      "cell_type": "code",
      "source": "(add 5 6)",
      "metadata": {
        "trusted": true
      },
      "outputs": [
        {
          "name": "stdout",
          "text": "|(add 5 6)\n|(add 4 7)\n|(add 3 8)\n|(add 2 9)\n|(add 1 10)\n|(add 0 11)\n|11\n",
          "output_type": "stream"
        },
        {
          "execution_count": 25,
          "output_type": "execute_result",
          "data": {
            "text/plain": "11"
          },
          "metadata": {}
        }
      ],
      "execution_count": 25
    },
    {
      "cell_type": "markdown",
      "source": "## 斐波那契数列",
      "metadata": {}
    },
    {
      "cell_type": "markdown",
      "source": "```scheme\n0 1 1 2 3 5 8 13\n```",
      "metadata": {}
    },
    {
      "cell_type": "markdown",
      "source": "每个值都是前两个值之和。",
      "metadata": {}
    },
    {
      "cell_type": "code",
      "source": "(define (fib n)\n  (if (= n 0) 0\n      (if (= n 1) 1\n          (+\n            (fib (- n 2))\n            (fib (- n 1))))))",
      "metadata": {
        "trusted": true
      },
      "outputs": [
        {
          "execution_count": 4,
          "output_type": "execute_result",
          "data": {
            "text/plain": "#<void>"
          },
          "metadata": {}
        }
      ],
      "execution_count": 4
    },
    {
      "cell_type": "code",
      "source": "(fib 7)",
      "metadata": {
        "trusted": true
      },
      "outputs": [
        {
          "execution_count": 5,
          "output_type": "execute_result",
          "data": {
            "text/plain": "13"
          },
          "metadata": {}
        }
      ],
      "execution_count": 5
    },
    {
      "cell_type": "markdown",
      "source": "多个 if 可以用 cond 简化",
      "metadata": {}
    },
    {
      "cell_type": "code",
      "source": "(define (fib n)\n  (cond ((= n 0) 0)\n        ((= n 1) 1)\n        (else\n         (+\n          (fib (- n 2))\n          (fib (- n 1))))))",
      "metadata": {
        "trusted": true
      },
      "outputs": [
        {
          "execution_count": 8,
          "output_type": "execute_result",
          "data": {
            "text/plain": "#<void>"
          },
          "metadata": {}
        }
      ],
      "execution_count": 8
    },
    {
      "cell_type": "code",
      "source": "(fib 8)",
      "metadata": {
        "trusted": true
      },
      "outputs": [
        {
          "execution_count": 9,
          "output_type": "execute_result",
          "data": {
            "text/plain": "21"
          },
          "metadata": {}
        }
      ],
      "execution_count": 9
    },
    {
      "cell_type": "markdown",
      "source": "`cond` 会被转成 `if` 实现",
      "metadata": {}
    },
    {
      "cell_type": "code",
      "source": "(expand '(cond ((= 0 0) 0)\n               ((= n 1) 1)\n               (else\n                'some_thing_else)))",
      "metadata": {
        "trusted": true
      },
      "outputs": [
        {
          "execution_count": 11,
          "output_type": "execute_result",
          "data": {
            "text/plain": "(if (($primitive 2 =) 0 0) 0 (if (($primitive 2 =) n 1) 1 (quote some_thing_else)))"
          },
          "metadata": {}
        }
      ],
      "execution_count": 11
    },
    {
      "cell_type": "markdown",
      "source": "回到本小节主题，递归。",
      "metadata": {}
    },
    {
      "cell_type": "code",
      "source": "(trace fib)",
      "metadata": {
        "trusted": true
      },
      "outputs": [
        {
          "execution_count": 12,
          "output_type": "execute_result",
          "data": {
            "text/plain": "(fib)"
          },
          "metadata": {}
        }
      ],
      "execution_count": 12
    },
    {
      "cell_type": "code",
      "source": "(fib 5)",
      "metadata": {
        "trusted": true
      },
      "outputs": [
        {
          "name": "stdout",
          "text": "|(fib 5)\n| (fib 3)\n| |(fib 1)\n| |1\n| |(fib 2)\n| | (fib 0)\n| | 0\n| | (fib 1)\n| | 1\n| |1\n| 2\n| (fib 4)\n| |(fib 2)\n| | (fib 0)\n| | 0\n| | (fib 1)\n| | 1\n| |1\n| |(fib 3)\n| | (fib 1)\n| | 1\n| | (fib 2)\n| | |(fib 0)\n| | |0\n| | |(fib 1)\n| | |1\n| | 1\n| |2\n| 3\n|5\n",
          "output_type": "stream"
        },
        {
          "execution_count": 14,
          "output_type": "execute_result",
          "data": {
            "text/plain": "5"
          },
          "metadata": {}
        }
      ],
      "execution_count": 14
    },
    {
      "cell_type": "markdown",
      "source": "可以看到，这个递归的图就不是线性性的，它是指数级复杂度的。\n\nfibs序列为:\n\n```scheme\n1 1 2 3 5 8 13 ... fibs(n)\n```\n\n它应该比\n\n```scheme\n1 2 4 8 16 32 ... 2^n\n```\n\n要小。\n\n它应该比\n\n```scheme\n1 1 2 2 4 4 8 8 16 2^(n/2) ;;每一项都是前前项的2倍。\n```\n\n要大。\n\n$ 2^{n/2} = \\sqrt2^{n}$\n\n所以\n\n$ \\sqrt2^{n} < fibs(n) < 2^{n} $",
      "metadata": {}
    },
    {
      "cell_type": "markdown",
      "source": "## 通项\n\n这一步其实和编程关系不大，只是为了把题稍微解完整。",
      "metadata": {}
    },
    {
      "cell_type": "markdown",
      "source": "$ F(n) = F(n - 2) + F(n - 1) $\n\n令 $ F(n) = r^{n} $\n\n$ r^{n} = r^{n - 2} + r^{n - 1} $ 两边除以 $ r^{n - 2} $ 得\n\n$ r^{2} = 1 + r $ 解得\n\n$ r1 = (1 + \\sqrt5) / 2 $  \n\n$ r2 = (1 - \\sqrt5) / 2 $\n\n为了方便表示，令 $ u = r1, v = r2 $\n\n通解为：\n\n$ F(n) = Au^n + Bv^n $\n\n$ F(0) = 0 $\n\n$ F(1) = 1 $\n\n代入得\n\n$ A + B = 0 $\n\n$ Au + Bv = 1 $\n\n解得\n\n$ A = 1 / \\sqrt5 = 1 / \\sqrt5 $\n\n$ B = - (1 / \\sqrt5) $\n\n得到结果：\n\n$ F(n) = \\frac {u^{n} - v^{n}} {\\sqrt5} $\n\n其中\n\n$ u = \\frac{1 + \\sqrt5} {2} $\n\n$ v = \\frac{1 - \\sqrt5} {2} $",
      "metadata": {}
    },
    {
      "cell_type": "markdown",
      "source": "$ v \\approx -0.6 $, 当n比较大时， $ v^{n} $ 很接近于0 是个负数。\n\n因此可以使用 $ F(n) = (\\frac{1+\\sqrt5}{2})^{n} / \\sqrt5 $ 画图\n\n$ \\frac{1+\\sqrt5}{2} \\approx 1.62  $",
      "metadata": {}
    },
    {
      "cell_type": "code",
      "source": "%%html\n\n<iframe src=\"https://www.desmos.com/calculator/0s3z6rnas9?embed\" width=\"500\" height=\"500\" style=\"border: 1px solid #ccc\" frameborder=0></iframe>",
      "metadata": {
        "trusted": true
      },
      "outputs": [
        {
          "execution_count": 1,
          "output_type": "execute_result",
          "data": {
            "text/html": "\n<iframe src=\"https://www.desmos.com/calculator/0s3z6rnas9?embed\" width=\"500\" height=\"500\" style=\"border: 1px solid #ccc\" frameborder=0></iframe>"
          },
          "metadata": {}
        }
      ],
      "execution_count": 1
    },
    {
      "cell_type": "markdown",
      "source": "[查看图表](https://www.desmos.com/calculator/631zig72ba)\n\n其中\n\n- 红线为 $ y=2^{n} $\n- 绿线为 $ fib(n) \\approx \\sqrt5 \\times 1.62^{n} $ \n- 蓝色为 $y=\\sqrt2^{n} \\approx 1.414^{n} $",
      "metadata": {}
    },
    {
      "cell_type": "code",
      "source": "",
      "metadata": {
        "trusted": true
      },
      "outputs": [],
      "execution_count": null
    }
  ]
}