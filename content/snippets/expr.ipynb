{
  "metadata": {
    "kernelspec": {
      "name": "javascript",
      "display_name": "JavaScript (Web Worker)",
      "language": "javascript"
    },
    "language_info": {
      "codemirror_mode": {
        "name": "javascript"
      },
      "file_extension": ".js",
      "mimetype": "text/javascript",
      "name": "javascript",
      "nbconvert_exporter": "javascript",
      "pygments_lexer": "javascript",
      "version": "es2017"
    }
  },
  "nbformat_minor": 4,
  "nbformat": 4,
  "cells": [
    {
      "cell_type": "code",
      "source": "const ANY = args => ctx => {\n  const opts = ctx.responses.flatMap(res => res.options ?? [])\n  return args.some(v => opts.includes(v))\n}\n\nconst Fns = { ANY }\n\nfunction evaludate(condition, ctx) {\n  const [name, ...args] = condition\n  const fn = Fns[name]\n  return fn ? fn(...args)(ctx) : true\n}\n",
      "metadata": {
        "trusted": true
      },
      "outputs": [
        {
          "execution_count": 5,
          "output_type": "execute_result",
          "data": {},
          "metadata": {}
        }
      ],
      "execution_count": 8
    },
    {
      "cell_type": "code",
      "source": "// 输入结构\nconst ctx = {\n  responses: [\n    {\n      options: [1]\n    }\n  ]\n}\n\nevaludate(['ANY', [1]], ctx)",
      "metadata": {
        "trusted": true
      },
      "outputs": [
        {
          "execution_count": 7,
          "output_type": "execute_result",
          "data": {
            "text/plain": "true"
          },
          "metadata": {}
        }
      ],
      "execution_count": 10
    },
    {
      "cell_type": "code",
      "source": "",
      "metadata": {
        "trusted": true
      },
      "outputs": [],
      "execution_count": null
    }
  ]
}