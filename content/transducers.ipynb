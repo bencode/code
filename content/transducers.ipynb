{
  "metadata": {
    "kernelspec": {
      "name": "javascript",
      "display_name": "JavaScript (Web Worker)",
      "language": "javascript"
    },
    "language_info": {
      "codemirror_mode": {
        "name": "javascript"
      },
      "file_extension": ".js",
      "mimetype": "text/javascript",
      "name": "javascript",
      "nbconvert_exporter": "javascript",
      "pygments_lexer": "javascript",
      "version": "es2017"
    }
  },
  "nbformat_minor": 4,
  "nbformat": 4,
  "cells": [
    {
      "cell_type": "markdown",
      "source": "# Transducer: 一种强大的函数组合模式",
      "metadata": {}
    },
    {
      "cell_type": "markdown",
      "source": "## map / filter",
      "metadata": {}
    },
    {
      "cell_type": "markdown",
      "source": "map的语义是\"映射\"，即对集合中所有的元素都执行一次变换。",
      "metadata": {}
    },
    {
      "cell_type": "code",
      "source": "const list = [1, 2, 3, 4, 5]\n\nlist.map(x => x + 1)",
      "metadata": {
        "trusted": true
      },
      "outputs": [
        {
          "execution_count": 17,
          "output_type": "execute_result",
          "data": {
            "text/plain": "[ 2, 3, 4, 5, 6 ]"
          },
          "metadata": {}
        }
      ],
      "execution_count": 22
    },
    {
      "cell_type": "code",
      "source": "function map(f, xs) {\n  const ret = []\n  for (let i = 0; i < xs.length; i++) {\n    ret.push(f(xs[i]))\n  }\n  return ret\n}",
      "metadata": {
        "trusted": true
      },
      "outputs": [
        {
          "execution_count": 18,
          "output_type": "execute_result",
          "data": {},
          "metadata": {}
        }
      ],
      "execution_count": 23
    },
    {
      "cell_type": "code",
      "source": "map(x => x + 1, [1, 2, 3, 4, 5])",
      "metadata": {
        "trusted": true
      },
      "outputs": [
        {
          "execution_count": 19,
          "output_type": "execute_result",
          "data": {
            "text/plain": "[ 2, 3, 4, 5, 6 ]"
          },
          "metadata": {}
        }
      ],
      "execution_count": 24
    },
    {
      "cell_type": "markdown",
      "source": "上述有意地使用for语句实现，以比较清晰地表达出：map的实现依赖于集合类型。\n\n- 顺利执行\n- 即时求值的，不是lazy的。\n\n再看 `filter`：",
      "metadata": {}
    },
    {
      "cell_type": "code",
      "source": "function filter(f, xs) {\n  const ret = []\n  for (let i = 0; i < xs.length; i++) {\n    if (f(xs[i])) {\n      ret.push(xs[i])\n    }\n  }\n  return ret\n}",
      "metadata": {
        "trusted": true
      },
      "outputs": [
        {
          "execution_count": 64,
          "output_type": "execute_result",
          "data": {},
          "metadata": {}
        }
      ],
      "execution_count": 80
    },
    {
      "cell_type": "code",
      "source": "var range = n => [...Array(n).keys()]\nfilter(x => x % 2 === 1, range(10))",
      "metadata": {
        "trusted": true
      },
      "outputs": [
        {
          "execution_count": 41,
          "output_type": "execute_result",
          "data": {
            "text/plain": "[ 1, 3, 5, 7, 9 ]"
          },
          "metadata": {}
        }
      ],
      "execution_count": 50
    },
    {
      "cell_type": "markdown",
      "source": "同样，filter 的实现也依赖于具体的集合类型，当前实现是要求 `xs` 是一个数组。\n\n那如何让 map支持多种数据类型呢？ 比如 `Set`、`Map` 或者自定义数据类型。\n\n有一种常规的方式：是依赖于集合的接口（协议）。\n\n不同的语言有不同的实现，`JS`在这方面的原生支持比较弱， 不过也可行：\n\n- 使用 `Symbol.iterator` 迭代。\n- 使用 `Object#constractor` 来获得构造函数。\n\n那如何抽象地支持不同数据类型的 `push` 呢？ \n\n仿造`ramdajs`库，可依赖于自定义的 `@@transducer/step` 函数。",
      "metadata": {}
    },
    {
      "cell_type": "code",
      "source": "function map(f, xs) {\n  const ret = new xs.constructor()  // 1. 构造\n  for (const x of xs) { // 2. 迭代\n    ret['@@transducer/step'](f(x))  // 3. 收集\n  }\n  return ret\n}",
      "metadata": {
        "trusted": true
      },
      "outputs": [
        {
          "execution_count": 65,
          "output_type": "execute_result",
          "data": {},
          "metadata": {}
        }
      ],
      "execution_count": 81
    },
    {
      "cell_type": "code",
      "source": "Array.prototype['@@transducer/step'] = Array.prototype.push",
      "metadata": {
        "trusted": true
      },
      "outputs": [
        {
          "execution_count": 66,
          "output_type": "execute_result",
          "data": {
            "text/plain": "[Function: push]"
          },
          "metadata": {}
        }
      ],
      "execution_count": 82
    },
    {
      "cell_type": "code",
      "source": "map(x => x + 1, [1, 2, 3, 4, 5])",
      "metadata": {
        "trusted": true
      },
      "outputs": [
        {
          "execution_count": 67,
          "output_type": "execute_result",
          "data": {
            "text/plain": "[ 2, 3, 4, 5, 6 ]"
          },
          "metadata": {}
        }
      ],
      "execution_count": 83
    },
    {
      "cell_type": "code",
      "source": "Set.prototype['@@transducer/step'] = Set.prototype.add",
      "metadata": {
        "trusted": true
      },
      "outputs": [
        {
          "execution_count": 68,
          "output_type": "execute_result",
          "data": {
            "text/plain": "[Function: add]"
          },
          "metadata": {}
        }
      ],
      "execution_count": 84
    },
    {
      "cell_type": "code",
      "source": "map(x => x + 1, new Set([1, 2, 3, 4, 5]))",
      "metadata": {
        "trusted": true
      },
      "outputs": [
        {
          "execution_count": 69,
          "output_type": "execute_result",
          "data": {
            "text/plain": "Set (5) {2, 3, 4, 5, 6}"
          },
          "metadata": {}
        }
      ],
      "execution_count": 85
    },
    {
      "cell_type": "markdown",
      "source": "使用这种方式，我们就可以实现较轴象版本的 `map`, `filter` 等函数，\n\n关键是将\n\n- 构造\n- 迭代\n- 收集\n\n三个操作代理给具体的集合类。",
      "metadata": {}
    },
    {
      "cell_type": "code",
      "source": "function filter(f, xs) {\n  const ret = new xs.constructor()\n  for (const x of xs) {\n    if (f(x)) {\n      ret['@@transducer/step'](x)\n    }\n  }\n  return ret\n}",
      "metadata": {
        "trusted": true
      },
      "outputs": [
        {
          "execution_count": 40,
          "output_type": "execute_result",
          "data": {},
          "metadata": {}
        }
      ],
      "execution_count": 49
    },
    {
      "cell_type": "code",
      "source": "filter(x => x % 2 === 1, range(10))",
      "metadata": {
        "trusted": true
      },
      "outputs": [
        {
          "execution_count": 42,
          "output_type": "execute_result",
          "data": {
            "text/plain": "[ 1, 3, 5, 7, 9 ]"
          },
          "metadata": {}
        }
      ],
      "execution_count": 51
    },
    {
      "cell_type": "code",
      "source": "filter(x => x > 3, new Set(range(10)))",
      "metadata": {
        "trusted": true
      },
      "outputs": [
        {
          "execution_count": 43,
          "output_type": "execute_result",
          "data": {
            "text/plain": "Set (6) {4, 5, 6, 7, 8, 9}"
          },
          "metadata": {}
        }
      ],
      "execution_count": 52
    },
    {
      "cell_type": "markdown",
      "source": "## compose",
      "metadata": {}
    },
    {
      "cell_type": "markdown",
      "source": "上述 `map` 和 `filter` 在组合使用时，会带来一些问题。",
      "metadata": {}
    },
    {
      "cell_type": "code",
      "source": "range(10)\n  .map(x => x + 1)\n  .filter(x => x % 2 === 1)\n  .slice(0, 3)",
      "metadata": {
        "trusted": true
      },
      "outputs": [
        {
          "execution_count": 46,
          "output_type": "execute_result",
          "data": {
            "text/plain": "[ 1, 3, 5 ]"
          },
          "metadata": {}
        }
      ],
      "execution_count": 55
    },
    {
      "cell_type": "markdown",
      "source": "虽然只用到其中的5个元素，但是会遍历集合中的全部元素。\n\n每一个步骤，都会产生一个中间集合对象。",
      "metadata": {}
    },
    {
      "cell_type": "markdown",
      "source": "我们用`compose` 再实现一遍这个逻辑",
      "metadata": {}
    },
    {
      "cell_type": "code",
      "source": "function compose(...fns) {\n  return fns.reduceRight((acc, fn) => x => fn(acc(x)), x => x)\n}",
      "metadata": {
        "trusted": true
      },
      "outputs": [
        {
          "execution_count": 57,
          "output_type": "execute_result",
          "data": {},
          "metadata": {}
        }
      ],
      "execution_count": 72
    },
    {
      "cell_type": "markdown",
      "source": "为了能组合，将map、filter等函数实现成curry形式",
      "metadata": {}
    },
    {
      "cell_type": "code",
      "source": "function curry(f) {\n  return (...args) => data => f(...args, data)\n}",
      "metadata": {
        "trusted": true
      },
      "outputs": [
        {
          "execution_count": 58,
          "output_type": "execute_result",
          "data": {},
          "metadata": {}
        }
      ],
      "execution_count": 73
    },
    {
      "cell_type": "code",
      "source": "var rmap = curry(map)\nvar rfilter = curry(filter)\n\nfunction take(n, xs) {\n  const ret = new xs.constructor()\n  for (const x of xs) {\n    if (n <= 0) {\n      break\n    }\n    n--\n    ret['@@transducer/step'](x)\n  }\n  return ret\n}\nvar rtake = curry(take)",
      "metadata": {
        "trusted": true
      },
      "outputs": [
        {
          "execution_count": 70,
          "output_type": "execute_result",
          "data": {},
          "metadata": {}
        }
      ],
      "execution_count": 86
    },
    {
      "cell_type": "code",
      "source": "take(3, range(10))",
      "metadata": {
        "trusted": true
      },
      "outputs": [
        {
          "execution_count": 71,
          "output_type": "execute_result",
          "data": {
            "text/plain": "[ 0, 1, 2 ]"
          },
          "metadata": {}
        }
      ],
      "execution_count": 87
    },
    {
      "cell_type": "code",
      "source": "take(4, new Set(range(10)))",
      "metadata": {
        "trusted": true
      },
      "outputs": [
        {
          "execution_count": 72,
          "output_type": "execute_result",
          "data": {
            "text/plain": "Set (4) {0, 1, 2, 3}"
          },
          "metadata": {}
        }
      ],
      "execution_count": 88
    },
    {
      "cell_type": "code",
      "source": "const takeFirst3Odd = compose(\n  rtake(3),\n  rfilter(x => x % 2 === 1),\n  rmap(x => x + 1)\n)\n\ntakeFirst3Odd(range(10))",
      "metadata": {
        "trusted": true
      },
      "outputs": [
        {
          "execution_count": 73,
          "output_type": "execute_result",
          "data": {
            "text/plain": "[ 1, 3, 5 ]"
          },
          "metadata": {}
        }
      ],
      "execution_count": 89
    },
    {
      "cell_type": "markdown",
      "source": "到目前为止，我们的实现在表达上是清晰简洁的，在运行时上是浪费的。",
      "metadata": {}
    },
    {
      "cell_type": "markdown",
      "source": "## 函数的形状",
      "metadata": {}
    },
    {
      "cell_type": "markdown",
      "source": "### Transformer",
      "metadata": {}
    },
    {
      "cell_type": "markdown",
      "source": "`curry` 版本的 `map` 函数 是这样的：\n\n```ts\nconst map = f => xs => ...\n```\n\n即 `map(x => ...)` 返回一个单参数的函数。\n\n```ts\ntype Transformer = (xs: T) => R\n```\n\n单参数的函数可组合。\n\n具体来说是，这些函数的入参是”数据“，出参是处理后的数据， 函数就是数据转换器(Transformer)。\n\n```ts\ndata ->> map(...) ->> filter(...) ->> reduce(...) -> result\n```",
      "metadata": {}
    },
    {
      "cell_type": "code",
      "source": "function pipe(...fns) {\n  return x => fns.reduce((ac, f) => f(ac), x)\n}",
      "metadata": {
        "trusted": true
      },
      "outputs": [
        {
          "execution_count": 79,
          "output_type": "execute_result",
          "data": {},
          "metadata": {}
        }
      ],
      "execution_count": 101
    },
    {
      "cell_type": "code",
      "source": "const reduce = (f, init) => xs => xs.reduce(f, init)\n\nconst f = pipe(\n  rmap(x => x + 1),\n  rfilter(x => x % 2 === 1),\n  rtake(5),\n  reduce((a, b) => a + b, 0)\n)\n\nf(range(100))",
      "metadata": {
        "trusted": true
      },
      "outputs": [
        {
          "execution_count": 80,
          "output_type": "execute_result",
          "data": {
            "text/plain": "25"
          },
          "metadata": {}
        }
      ],
      "execution_count": 102
    },
    {
      "cell_type": "markdown",
      "source": "`Transformer` 是一个单参数函数，方便函数组合。\n\n```ts\ntype Transformer = (x: T) => T\n```",
      "metadata": {}
    },
    {
      "cell_type": "markdown",
      "source": "### Reducer\n\nreducer是一个双参数的函数，可用于表达更复杂的逻辑。\n\n```ts\ntype Reducer = (ac: R, x: T) => R\n```",
      "metadata": {}
    },
    {
      "cell_type": "markdown",
      "source": "#### sum",
      "metadata": {}
    },
    {
      "cell_type": "code",
      "source": "// add is an reducer\nconst add = (a, b) => a + b\nconst sum = xs => xs.reduce(add, 0)\n\nsum(range(11))",
      "metadata": {
        "trusted": true
      },
      "outputs": [
        {
          "execution_count": 83,
          "output_type": "execute_result",
          "data": {
            "text/plain": "55"
          },
          "metadata": {}
        }
      ],
      "execution_count": 106
    },
    {
      "cell_type": "markdown",
      "source": "#### map",
      "metadata": {}
    },
    {
      "cell_type": "code",
      "source": "function concat(list, x) {\n  list.push(x)\n  return list\n}",
      "metadata": {
        "trusted": true
      },
      "outputs": [
        {
          "execution_count": 87,
          "output_type": "execute_result",
          "data": {},
          "metadata": {}
        }
      ],
      "execution_count": 116
    },
    {
      "cell_type": "code",
      "source": "const map = f => xs => xs.reduce((ac, x) => concat(ac, f(x)), [])\n\nmap(x => x * 2)(range(10))",
      "metadata": {
        "trusted": true
      },
      "outputs": [
        {
          "execution_count": 88,
          "output_type": "execute_result",
          "data": {
            "text/plain": "[ 0, 2, 4, 6, 8, 10, 12, 14, 16, 18 ]"
          },
          "metadata": {}
        }
      ],
      "execution_count": 117
    },
    {
      "cell_type": "markdown",
      "source": "#### filter",
      "metadata": {}
    },
    {
      "cell_type": "code",
      "source": "const filter = f => xs => xs.reduce((ac, x) => f(x) ? concat(ac, x) : ac, [])\n\nfilter(x => x > 3 && x < 10)(range(20))",
      "metadata": {
        "trusted": true
      },
      "outputs": [
        {
          "execution_count": 90,
          "output_type": "execute_result",
          "data": {
            "text/plain": "[ 4, 5, 6, 7, 8, 9 ]"
          },
          "metadata": {}
        }
      ],
      "execution_count": 119
    },
    {
      "cell_type": "markdown",
      "source": "#### take\n\n如何实现`take`？, 这需要`reduce`有类似于`break`的功能。",
      "metadata": {}
    },
    {
      "cell_type": "code",
      "source": "function reduced(x) {\n  return x && x['@@transducer/reduced'] ? x : { '@@transducer/reduced': true, '@@transducer/value': x }\n}\n\nfunction reduce(f, init) {\n  return xs => {\n    let ac = init\n    for (const x of xs) {\n      const r = f(ac, x)\n      if (r && r['@@transducer/reduced']) {\n        return r['@@transducer/value']\n      }\n      ac = r\n    }\n    return ac\n  }\n}",
      "metadata": {
        "trusted": true
      },
      "outputs": [
        {
          "execution_count": 93,
          "output_type": "execute_result",
          "data": {},
          "metadata": {}
        }
      ],
      "execution_count": 123
    },
    {
      "cell_type": "code",
      "source": "function take(n) {\n  return xs => {\n    let i = 0\n    return reduce((ac, x) => {\n      if (i === n) {\n        return reduced(ac)\n      }\n      i++\n      return concat(ac, x)\n    }, [])(xs)\n  }\n}",
      "metadata": {
        "trusted": true
      },
      "outputs": [
        {
          "execution_count": 96,
          "output_type": "execute_result",
          "data": {},
          "metadata": {}
        }
      ],
      "execution_count": 126
    },
    {
      "cell_type": "code",
      "source": "take(4)(range(10))",
      "metadata": {
        "trusted": true
      },
      "outputs": [
        {
          "execution_count": 97,
          "output_type": "execute_result",
          "data": {
            "text/plain": "[ 0, 1, 2, 3 ]"
          },
          "metadata": {}
        }
      ],
      "execution_count": 127
    },
    {
      "cell_type": "markdown",
      "source": "### Transducer\n\n终于见到我们的主角",
      "metadata": {}
    },
    {
      "cell_type": "markdown",
      "source": "先重新审视之前的 `map` 实现\n\n```ts\nfunction map(f, xs) {\n  const ret = []\n  for (let i = 0; i < xs.length; i++) {\n    ret.push(f(xs[i]))\n  }\n  return ret\n}\n```\n\n需要想办法把上述依赖于集合的逻辑剥离出去，将其抽象成一个`Reducer`。\n",
      "metadata": {}
    },
    {
      "cell_type": "code",
      "source": "function rmap(f) {\n  return reducer => { // 由Reducer决定如何迭代和收集\n    return (ac, x) => {\n      return reducer(ac, f(x))  // map的本质\n    }\n  }\n}",
      "metadata": {
        "trusted": true
      },
      "outputs": [
        {
          "execution_count": 100,
          "output_type": "execute_result",
          "data": {},
          "metadata": {}
        }
      ],
      "execution_count": 130
    },
    {
      "cell_type": "markdown",
      "source": "构造消失了、迭代消失了、元素的收集也消失了。 \n\n通过一个`reducer`， 我们的map只包含了它的职责中的逻辑。",
      "metadata": {}
    },
    {
      "cell_type": "markdown",
      "source": "再看看`filter`",
      "metadata": {}
    },
    {
      "cell_type": "code",
      "source": "function rfilter(f) {\n  return reducer => (ac, x) => {\n    return f(x) ? reducer(ac, x) : ac\n  }\n}",
      "metadata": {
        "trusted": true
      },
      "outputs": [
        {
          "execution_count": 101,
          "output_type": "execute_result",
          "data": {},
          "metadata": {}
        }
      ],
      "execution_count": 131
    },
    {
      "cell_type": "markdown",
      "source": "注意到 `rfilter` 以及上面的 `rmap` 它的返回值形式：\n\n` reducer => (acc, x) => ... `\n\n它其实是一个 `Transfomer`, 参数和返回值都是 `Reducer`， 它就是 `Transducer`。\n\n`Transformer` 是可以组合的。\n",
      "metadata": {}
    },
    {
      "cell_type": "code",
      "source": "function rtake(n) {\n  return reducer => {\n    let i = 0\n    return (ac, x) => {\n      if (i === n) {\n        return reduced(ac)\n      }\n      i++\n      return reducer(ac, x)\n    }\n  }\n}",
      "metadata": {
        "trusted": true
      },
      "outputs": [
        {
          "execution_count": 103,
          "output_type": "execute_result",
          "data": {},
          "metadata": {}
        }
      ],
      "execution_count": 134
    },
    {
      "cell_type": "markdown",
      "source": "### into",
      "metadata": {}
    },
    {
      "cell_type": "markdown",
      "source": "如何使用 `transducer` 呢？",
      "metadata": {}
    },
    {
      "cell_type": "code",
      "source": "compose",
      "metadata": {
        "trusted": true
      },
      "outputs": [
        {
          "execution_count": 104,
          "output_type": "execute_result",
          "data": {
            "text/plain": "[Function: compose]"
          },
          "metadata": {}
        }
      ],
      "execution_count": 135
    },
    {
      "cell_type": "code",
      "source": "var tf = compose(\n  rmap(x => x + 1),\n  rfilter(x => x % 2 === 1),\n  rtake(5)\n)\ntf",
      "metadata": {
        "trusted": true
      },
      "outputs": [
        {
          "execution_count": 107,
          "output_type": "execute_result",
          "data": {
            "text/plain": "[Function (anonymous)]"
          },
          "metadata": {}
        }
      ],
      "execution_count": 142
    },
    {
      "cell_type": "markdown",
      "source": "我们需要将 迭代和收集 使用reduer实现出来。",
      "metadata": {}
    },
    {
      "cell_type": "code",
      "source": "const collect = (ac, x) => {\n  ac.push(x)\n  return ac\n}\n\nconst reducer = tf(collect)\nreduce(reducer, [])(range(100))\n",
      "metadata": {
        "trusted": true
      },
      "outputs": [
        {
          "execution_count": 117,
          "output_type": "execute_result",
          "data": {
            "text/plain": "[ 1, 3, 5, 7, 9 ]"
          },
          "metadata": {}
        }
      ],
      "execution_count": 155
    },
    {
      "cell_type": "markdown",
      "source": "可以工作了，我们还注意到迭代是\"按需”的, 虽然集合元素有100个，但是只迭代了前面10个元素。",
      "metadata": {}
    },
    {
      "cell_type": "markdown",
      "source": "将上述逻辑封装到一个函数中。",
      "metadata": {}
    },
    {
      "cell_type": "code",
      "source": "const collect = (ac, x) => {\n  ac.push(x)\n  return ac\n}\n\nfunction into(init, tf) {\n  const reducer = tf(collect)\n  return reduce(reducer, init)\n}",
      "metadata": {
        "trusted": true
      },
      "outputs": [
        {
          "execution_count": 118,
          "output_type": "execute_result",
          "data": {},
          "metadata": {}
        }
      ],
      "execution_count": 157
    },
    {
      "cell_type": "code",
      "source": "into([], compose(\n  rmap(x => x + 1),\n  rfilter(x => x % 2 === 1),\n  rtake(8)\n))  (range(100))",
      "metadata": {
        "trusted": true
      },
      "outputs": [
        {
          "execution_count": 119,
          "output_type": "execute_result",
          "data": {
            "text/plain": "[ 1, 3, 5, 7, 9, 11, 13, 15 ]"
          },
          "metadata": {}
        }
      ],
      "execution_count": 159
    },
    {
      "cell_type": "markdown",
      "source": "写一个函数，用于判断是否为素数",
      "metadata": {}
    },
    {
      "cell_type": "markdown",
      "source": "## 流程",
      "metadata": {}
    },
    {
      "cell_type": "markdown",
      "source": "### fibs",
      "metadata": {}
    },
    {
      "cell_type": "markdown",
      "source": "假设我们有某种异步的数据集合，比如一个异步的无限斐波那契生成器。",
      "metadata": {}
    },
    {
      "cell_type": "code",
      "source": "function sleep(n) {\n  return new Promise(r => setTimeout(r, n))\n}\n\nasync function *fibs() {\n  let [a, b] = [0, 1]\n  while (true) {\n    await sleep(10)\n    yield a\n    ;[a, b] = [b, a + b]\n  }\n}",
      "metadata": {
        "trusted": true
      },
      "outputs": [
        {
          "execution_count": 140,
          "output_type": "execute_result",
          "data": {},
          "metadata": {}
        }
      ],
      "execution_count": 182
    },
    {
      "cell_type": "code",
      "source": "const s = fibs()\nasync function start() {\n  let i = 0\n  for await (const item of s) {\n    console.log(item)\n    i++\n    if (i > 10) {\n      break\n    }\n  }\n}\n\nstart()",
      "metadata": {
        "trusted": true
      },
      "outputs": [
        {
          "execution_count": 141,
          "output_type": "execute_result",
          "data": {
            "text/plain": "Promise [Promise] {}"
          },
          "metadata": {}
        },
        {
          "name": "stdout",
          "text": "0\n1\n1\n2\n3\n5\n8\n13\n21\n34\n55\n",
          "output_type": "stream"
        }
      ],
      "execution_count": 183
    },
    {
      "cell_type": "markdown",
      "source": "我们要实现支持以上数据结构的`into`",
      "metadata": {}
    },
    {
      "cell_type": "markdown",
      "source": "将数组版本的代码帖旁边作为参考：\n\n```ts\nconst collect = (ac, x) => {\n  ac.push(x)\n  return ac\n}\n\nfunction into(init, tf) {\n  const reducer = tf(collect)\n  return reduce(reducer, init)\n}\n```",
      "metadata": {}
    },
    {
      "cell_type": "code",
      "source": "const collect = (ac, x) => {\n  ac.push(x)\n  return ac\n}\n\nconst reduce = (reducer, init) => {\n  return async iter => {\n    let ac = init\n    for await (const item of iter) {\n      if (ac && ac['@@transducer/reduced']) {\n        return ac['@@transducer/value']\n      }\n      ac = reducer(ac, item)\n    }\n    return ac\n  }\n}\n\nfunction sinto(init, tf) {\n  const reducer = tf(collect)\n  return reduce(reducer, init)\n}",
      "metadata": {
        "trusted": true
      },
      "outputs": [
        {
          "execution_count": 154,
          "output_type": "execute_result",
          "data": {},
          "metadata": {}
        }
      ],
      "execution_count": 205
    },
    {
      "cell_type": "markdown",
      "source": "收集操作一样， 迭代操作不一样。",
      "metadata": {}
    },
    {
      "cell_type": "code",
      "source": "const task = sinto([], compose(\n  rmap(x => x + 1),\n  rfilter(x => x % 2 === 1),\n  rtake(8)\n))\n    \ntask(fibs()).then(res => {\n  console.log(res)\n})",
      "metadata": {
        "trusted": true
      },
      "outputs": [
        {
          "execution_count": 153,
          "output_type": "execute_result",
          "data": {
            "text/plain": "Promise [Promise] {}"
          },
          "metadata": {}
        },
        {
          "name": "stdout",
          "text": "1,3,9,35,145,611,2585,10947\n",
          "output_type": "stream"
        }
      ],
      "execution_count": 204
    },
    {
      "cell_type": "markdown",
      "source": "同样逻辑，应用于不同的数据结构。",
      "metadata": {}
    },
    {
      "cell_type": "markdown",
      "source": "## 参考\n\n- [Transducers are Coming](https://clojure.org/news/2014/08/06/transducers-are-coming)\n- [Transducers - Clojure Reference](https://clojure.org/reference/transducers)",
      "metadata": {}
    },
    {
      "cell_type": "code",
      "source": "",
      "metadata": {
        "trusted": true
      },
      "outputs": [],
      "execution_count": null
    }
  ]
}