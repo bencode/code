{
  "metadata": {
    "kernelspec": {
      "name": "clojure",
      "display_name": "Clojure",
      "language": "clojure"
    },
    "language_info": {
      "codemirror_mode": {
        "name": "clojure"
      },
      "file_extension": ".clj",
      "mimetype": "text/x-clojure",
      "name": "clojure",
      "version": "1.11",
      "pygments_lexer": "clojure"
    }
  },
  "nbformat_minor": 4,
  "nbformat": 4,
  "cells": [
    {
      "cell_type": "markdown",
      "source": "# Use Clojure in JupterLite",
      "metadata": {}
    },
    {
      "cell_type": "markdown",
      "source": "## 1. Basic Data Types and Operations",
      "metadata": {}
    },
    {
      "cell_type": "markdown",
      "source": "### Numbers",
      "metadata": {}
    },
    {
      "cell_type": "code",
      "source": "42          ; integer\n3.14        ; floating point",
      "metadata": {
        "trusted": true
      },
      "outputs": [
        {
          "execution_count": 6,
          "output_type": "execute_result",
          "data": {
            "text/plain": "3.14"
          },
          "metadata": {}
        }
      ],
      "execution_count": 6
    },
    {
      "cell_type": "code",
      "source": "22/7",
      "metadata": {
        "trusted": true
      },
      "outputs": [
        {
          "execution_count": 5,
          "output_type": "execute_result",
          "data": {
            "text/plain": "3.142857142857143"
          },
          "metadata": {}
        }
      ],
      "execution_count": 5
    },
    {
      "cell_type": "markdown",
      "source": "### Strings",
      "metadata": {}
    },
    {
      "cell_type": "code",
      "source": "\"Hello\"     ; string\nstr         ; string function\n(str \"Hello\" \" \" \"World\")  ; => \"Hello World\"",
      "metadata": {
        "trusted": true
      },
      "outputs": [
        {
          "execution_count": 8,
          "output_type": "execute_result",
          "data": {
            "text/plain": "Hello World"
          },
          "metadata": {}
        }
      ],
      "execution_count": 8
    },
    {
      "cell_type": "markdown",
      "source": "### Keywords",
      "metadata": {}
    },
    {
      "cell_type": "code",
      "source": ":name       ; keyword\n:user/name  ; namespaced keyword",
      "metadata": {
        "trusted": true
      },
      "outputs": [
        {
          "execution_count": 9,
          "output_type": "execute_result",
          "data": {
            "text/plain": ":user/name"
          },
          "metadata": {}
        }
      ],
      "execution_count": 9
    },
    {
      "cell_type": "markdown",
      "source": "### Symbols",
      "metadata": {}
    },
    {
      "cell_type": "code",
      "source": "(def x 42)  ; define variable\n(def greeting \"Hello\")",
      "metadata": {
        "trusted": true
      },
      "outputs": [
        {
          "execution_count": 11,
          "output_type": "execute_result",
          "data": {
            "text/plain": "#'user/greeting"
          },
          "metadata": {}
        }
      ],
      "execution_count": 11
    },
    {
      "cell_type": "markdown",
      "source": "### Basic Operations",
      "metadata": {}
    },
    {
      "cell_type": "code",
      "source": "(+ 1 2 3)   ; => 6\n(- 10 5)    ; => 5\n(* 4 3)     ; => 12\n(/ 10 2)    ; => 5",
      "metadata": {
        "trusted": true
      },
      "outputs": [
        {
          "execution_count": 12,
          "output_type": "execute_result",
          "data": {
            "text/plain": "5"
          },
          "metadata": {}
        }
      ],
      "execution_count": 12
    },
    {
      "cell_type": "markdown",
      "source": "## 2. Collection Types",
      "metadata": {}
    },
    {
      "cell_type": "markdown",
      "source": "### Lists",
      "metadata": {}
    },
    {
      "cell_type": "code",
      "source": "'(1 2 3)    ; quoted list\n(list 1 2 3); create list\n(first '(1 2 3))      ; => 1\n(rest '(1 2 3))       ; => (2 3)",
      "metadata": {
        "trusted": true
      },
      "outputs": [
        {
          "execution_count": 16,
          "output_type": "execute_result",
          "data": {
            "text/plain": "(2 3)"
          },
          "metadata": {}
        }
      ],
      "execution_count": 16
    },
    {
      "cell_type": "markdown",
      "source": "### Vectors",
      "metadata": {}
    },
    {
      "cell_type": "code",
      "source": "[1 2 3]     ; vector\n(vector 1 2 3)\n(get [1 2 3] 0)       ; => 1\n(nth [1 2 3] 1)       ; => 2",
      "metadata": {
        "trusted": true
      },
      "outputs": [
        {
          "execution_count": 17,
          "output_type": "execute_result",
          "data": {
            "text/plain": "2"
          },
          "metadata": {}
        }
      ],
      "execution_count": 17
    },
    {
      "cell_type": "markdown",
      "source": "### Maps",
      "metadata": {}
    },
    {
      "cell_type": "code",
      "source": "{:name \"John\" :age 30}\n(hash-map :name \"John\" :age 30)\n(get {:name \"John\" :age 30} :name)  ; => \"John\"\n(:name {:name \"John\" :age 30})      ; => \"John\"",
      "metadata": {
        "trusted": true
      },
      "outputs": [
        {
          "execution_count": 19,
          "output_type": "execute_result",
          "data": {
            "text/plain": "John"
          },
          "metadata": {}
        }
      ],
      "execution_count": 19
    },
    {
      "cell_type": "markdown",
      "source": "### Set",
      "metadata": {}
    },
    {
      "cell_type": "code",
      "source": "#{1 2 3}    ; set\n(hash-set 1 2 3)\n(contains? #{1 2 3} 1)  ; => true",
      "metadata": {
        "trusted": true
      },
      "outputs": [
        {
          "execution_count": 20,
          "output_type": "execute_result",
          "data": {
            "text/plain": "true"
          },
          "metadata": {}
        }
      ],
      "execution_count": 20
    },
    {
      "cell_type": "markdown",
      "source": "## 3. Function Definition and Usage",
      "metadata": {}
    },
    {
      "cell_type": "markdown",
      "source": "### Function Definition",
      "metadata": {}
    },
    {
      "cell_type": "code",
      "source": "(fn [x] (* x x))              ; anonymous function\n(def square (fn [x] (* x x))) ; named function\n(defn square [x] (* x x))     ; shorthand form\n\n(square 5)        ; => 25",
      "metadata": {
        "trusted": true
      },
      "outputs": [
        {
          "execution_count": 28,
          "output_type": "execute_result",
          "data": {
            "text/plain": "25"
          },
          "metadata": {}
        }
      ],
      "execution_count": 28
    },
    {
      "cell_type": "markdown",
      "source": "### Multiple Parameters",
      "metadata": {}
    },
    {
      "cell_type": "code",
      "source": "(defn greet\n  [name]\n  (str \"Hello, \" name \"!\"))\n\n(greet \"Alice\")   ; => \"Hello, Alice!\"",
      "metadata": {
        "trusted": true
      },
      "outputs": [
        {
          "execution_count": 30,
          "output_type": "execute_result",
          "data": {
            "text/plain": "Hello, Alice!"
          },
          "metadata": {}
        }
      ],
      "execution_count": 30
    },
    {
      "cell_type": "code",
      "source": "(defn add-numbers\n  [x y]\n  (+ x y))",
      "metadata": {
        "trusted": true
      },
      "outputs": [
        {
          "execution_count": 31,
          "output_type": "execute_result",
          "data": {
            "text/plain": "#'user/add-numbers"
          },
          "metadata": {}
        }
      ],
      "execution_count": 31
    },
    {
      "cell_type": "markdown",
      "source": "### Variable Arguments",
      "metadata": {}
    },
    {
      "cell_type": "code",
      "source": "(defn sum\n  [& numbers]\n  (apply + numbers))\n\n(sum 1 2 3 4)",
      "metadata": {
        "trusted": true
      },
      "outputs": [
        {
          "execution_count": 32,
          "output_type": "execute_result",
          "data": {
            "text/plain": "10"
          },
          "metadata": {}
        }
      ],
      "execution_count": 32
    },
    {
      "cell_type": "markdown",
      "source": "## 4. Control Flow:",
      "metadata": {}
    },
    {
      "cell_type": "markdown",
      "source": "### if expression",
      "metadata": {}
    },
    {
      "cell_type": "code",
      "source": ";; if expression\n(if (> 5 3)\n  \"5 is greater than 3\"\n  \"5 is not greater than 3\")",
      "metadata": {
        "trusted": true
      },
      "outputs": [
        {
          "execution_count": 34,
          "output_type": "execute_result",
          "data": {
            "text/plain": "5 is greater than 3"
          },
          "metadata": {}
        }
      ],
      "execution_count": 34
    },
    {
      "cell_type": "markdown",
      "source": "### when (only true branch)",
      "metadata": {}
    },
    {
      "cell_type": "code",
      "source": "(when (> 5 3)\n  (js/console.log \"5 is greater than 3\")\n  \"5 is greater\")",
      "metadata": {
        "trusted": true
      },
      "outputs": [
        {
          "execution_count": 35,
          "output_type": "execute_result",
          "data": {
            "text/plain": "5 is greater"
          },
          "metadata": {}
        }
      ],
      "execution_count": 35
    },
    {
      "cell_type": "markdown",
      "source": "### cond (multiple conditions)",
      "metadata": {}
    },
    {
      "cell_type": "code",
      "source": "(cond\n  (< x 0) \"negative\"\n  (> x 0) \"positive\"\n  :else \"zero\")",
      "metadata": {
        "trusted": true
      },
      "outputs": [
        {
          "execution_count": 36,
          "output_type": "execute_result",
          "data": {
            "text/plain": "positive"
          },
          "metadata": {}
        }
      ],
      "execution_count": 36
    },
    {
      "cell_type": "markdown",
      "source": "### case (pattern matching)",
      "metadata": {}
    },
    {
      "cell_type": "code",
      "source": "(case x\n  5 \"x is 5\"\n  10 \"x is 10\"\n  \"x is something else\")",
      "metadata": {
        "trusted": true
      },
      "outputs": [
        {
          "execution_count": 37,
          "output_type": "execute_result",
          "data": {
            "text/plain": "x is something else"
          },
          "metadata": {}
        }
      ],
      "execution_count": 37
    },
    {
      "cell_type": "markdown",
      "source": "## 5.Sequence Operations",
      "metadata": {}
    },
    {
      "cell_type": "markdown",
      "source": "### map",
      "metadata": {}
    },
    {
      "cell_type": "code",
      "source": "(map inc [1 2 3])          ; => (2 3 4)\n(map #(* % 2) [1 2 3])     ; => (2 4 6)",
      "metadata": {
        "trusted": true
      },
      "outputs": [
        {
          "execution_count": 39,
          "output_type": "execute_result",
          "data": {
            "text/plain": "(2 4 6)"
          },
          "metadata": {}
        }
      ],
      "execution_count": 39
    },
    {
      "cell_type": "markdown",
      "source": "### filter",
      "metadata": {}
    },
    {
      "cell_type": "code",
      "source": "(filter even? [1 2 3 4])   ; => (2 4)\n(filter #(> % 2) [1 2 3 4]); => (3 4)",
      "metadata": {
        "trusted": true
      },
      "outputs": [
        {
          "execution_count": 40,
          "output_type": "execute_result",
          "data": {
            "text/plain": "(3 4)"
          },
          "metadata": {}
        }
      ],
      "execution_count": 40
    },
    {
      "cell_type": "markdown",
      "source": "### reduce",
      "metadata": {}
    },
    {
      "cell_type": "code",
      "source": "(reduce + [1 2 3 4])       ; => 10\n(reduce str [\"a\" \"b\" \"c\"]) ; => \"abc\"",
      "metadata": {
        "trusted": true
      },
      "outputs": [
        {
          "execution_count": 41,
          "output_type": "execute_result",
          "data": {
            "text/plain": "abc"
          },
          "metadata": {}
        }
      ],
      "execution_count": 41
    },
    {
      "cell_type": "markdown",
      "source": "### composition",
      "metadata": {}
    },
    {
      "cell_type": "code",
      "source": "(def times2-plus10 (comp #(+ % 10) #(* % 2)))\n(times2-plus10 5)          ; => 20",
      "metadata": {
        "trusted": true
      },
      "outputs": [
        {
          "execution_count": 42,
          "output_type": "execute_result",
          "data": {
            "text/plain": "20"
          },
          "metadata": {}
        }
      ],
      "execution_count": 42
    },
    {
      "cell_type": "markdown",
      "source": "## 6. Destructuring",
      "metadata": {}
    },
    {
      "cell_type": "markdown",
      "source": "### Vector destructuring",
      "metadata": {}
    },
    {
      "cell_type": "code",
      "source": "(def points [[1 2] [3 4] [5 6]])\n(let [[x y] [1 2]]\n  (+ x y))  ; => 3",
      "metadata": {
        "trusted": true
      },
      "outputs": [
        {
          "execution_count": 44,
          "output_type": "execute_result",
          "data": {
            "text/plain": "3"
          },
          "metadata": {}
        }
      ],
      "execution_count": 44
    },
    {
      "cell_type": "markdown",
      "source": "### Map destructuring",
      "metadata": {}
    },
    {
      "cell_type": "code",
      "source": "(let [{name :name age :age} {:name \"John\" :age 30}]\n  (str name \" is \" age))  ; => \"John is 30\"",
      "metadata": {
        "trusted": true
      },
      "outputs": [
        {
          "execution_count": 45,
          "output_type": "execute_result",
          "data": {
            "text/plain": "John is 30"
          },
          "metadata": {}
        }
      ],
      "execution_count": 45
    },
    {
      "cell_type": "markdown",
      "source": "### Using :keys shorthand",
      "metadata": {}
    },
    {
      "cell_type": "code",
      "source": "(let [{:keys [name age]} {:name \"John\" :age 30}]\n  (str name \" is \" age))  ; => \"John is 30\"",
      "metadata": {
        "trusted": true
      },
      "outputs": [
        {
          "execution_count": 46,
          "output_type": "execute_result",
          "data": {
            "text/plain": "John is 30"
          },
          "metadata": {}
        }
      ],
      "execution_count": 46
    },
    {
      "cell_type": "markdown",
      "source": "### Nested destructuring",
      "metadata": {}
    },
    {
      "cell_type": "code",
      "source": "(let [{:keys [name address]} {:name \"John\" \n                             :address {:street \"123 Main St\" \n                                     :city \"Boston\"}}\n      {:keys [street city]} address]\n  [name street city])  ; => [\"John\" \"123 Main St\" \"Boston\"]",
      "metadata": {
        "trusted": true
      },
      "outputs": [
        {
          "execution_count": 47,
          "output_type": "execute_result",
          "data": {
            "text/plain": "[\"John\" \"123 Main St\" \"Boston\"]"
          },
          "metadata": {}
        }
      ],
      "execution_count": 47
    },
    {
      "cell_type": "markdown",
      "source": "## 7. Atoms and State Management",
      "metadata": {}
    },
    {
      "cell_type": "markdown",
      "source": "### Creating and using atoms",
      "metadata": {}
    },
    {
      "cell_type": "code",
      "source": "(def counter (atom 0))\n(deref counter)      ; => 0\n@counter             ; => 0 (shorthand for deref)",
      "metadata": {
        "trusted": true
      },
      "outputs": [
        {
          "execution_count": 49,
          "output_type": "execute_result",
          "data": {
            "text/plain": "0"
          },
          "metadata": {}
        }
      ],
      "execution_count": 49
    },
    {
      "cell_type": "markdown",
      "source": "### Updating atoms",
      "metadata": {}
    },
    {
      "cell_type": "code",
      "source": "(swap! counter inc)  ; => 1\n(swap! counter + 5)  ; => 6",
      "metadata": {
        "trusted": true
      },
      "outputs": [
        {
          "execution_count": 50,
          "output_type": "execute_result",
          "data": {
            "text/plain": "6"
          },
          "metadata": {}
        }
      ],
      "execution_count": 50
    },
    {
      "cell_type": "markdown",
      "source": "### Reset atom value",
      "metadata": {}
    },
    {
      "cell_type": "code",
      "source": "(reset! counter 0)   ; => 0",
      "metadata": {
        "trusted": true
      },
      "outputs": [
        {
          "execution_count": 51,
          "output_type": "execute_result",
          "data": {
            "text/plain": "0"
          },
          "metadata": {}
        }
      ],
      "execution_count": 51
    },
    {
      "cell_type": "markdown",
      "source": "### Watching for changes",
      "metadata": {}
    },
    {
      "cell_type": "code",
      "source": "(add-watch counter :watcher\n  (fn [key atom old-state new-state]\n    (js/console.log \"Counter changed from\" old-state \"to\" new-state)))",
      "metadata": {
        "trusted": true
      },
      "outputs": [
        {
          "execution_count": 52,
          "output_type": "execute_result",
          "data": {
            "text/plain": "[object Object]"
          },
          "metadata": {}
        }
      ],
      "execution_count": 52
    },
    {
      "cell_type": "code",
      "source": "(swap! counter + 5)  ; => 6",
      "metadata": {
        "trusted": true
      },
      "outputs": [
        {
          "execution_count": 53,
          "output_type": "execute_result",
          "data": {
            "text/plain": "5"
          },
          "metadata": {}
        }
      ],
      "execution_count": 53
    },
    {
      "cell_type": "markdown",
      "source": "## 8. Higher-order Functions",
      "metadata": {}
    },
    {
      "cell_type": "markdown",
      "source": "### Function that returns a function",
      "metadata": {}
    },
    {
      "cell_type": "code",
      "source": "(defn multiplier [x]\n  (fn [y] (* x y)))\n\n(def times-two (multiplier 2))\n(times-two 4)  ; => 8",
      "metadata": {
        "trusted": true
      },
      "outputs": [
        {
          "execution_count": 55,
          "output_type": "execute_result",
          "data": {
            "text/plain": "8"
          },
          "metadata": {}
        }
      ],
      "execution_count": 55
    },
    {
      "cell_type": "markdown",
      "source": "### Function composition with threading macros",
      "metadata": {}
    },
    {
      "cell_type": "code",
      "source": "(-> 5\n    (* 2)\n    (+ 3)\n    (/ 2))  ; => 6.5",
      "metadata": {
        "trusted": true
      },
      "outputs": [
        {
          "execution_count": 56,
          "output_type": "execute_result",
          "data": {
            "text/plain": "6.5"
          },
          "metadata": {}
        }
      ],
      "execution_count": 56
    },
    {
      "cell_type": "markdown",
      "source": "### Thread-last macro",
      "metadata": {}
    },
    {
      "cell_type": "code",
      "source": "(->> [1 2 3 4]\n     (map #(* % 2))\n     (filter even?)\n     (reduce +))  ; => 20",
      "metadata": {
        "trusted": true
      },
      "outputs": [
        {
          "execution_count": 57,
          "output_type": "execute_result",
          "data": {
            "text/plain": "20"
          },
          "metadata": {}
        }
      ],
      "execution_count": 57
    },
    {
      "cell_type": "markdown",
      "source": "### Partial application",
      "metadata": {}
    },
    {
      "cell_type": "code",
      "source": "(def add-five (partial + 5))\n(add-five 3)  ; => 8",
      "metadata": {
        "trusted": true
      },
      "outputs": [
        {
          "execution_count": 58,
          "output_type": "execute_result",
          "data": {
            "text/plain": "8"
          },
          "metadata": {}
        }
      ],
      "execution_count": 58
    },
    {
      "cell_type": "markdown",
      "source": "## 9. Working with JavaScript Interop",
      "metadata": {}
    },
    {
      "cell_type": "markdown",
      "source": "### Calling JavaScript methods",
      "metadata": {}
    },
    {
      "cell_type": "code",
      "source": "(js/console.log \"Hello from ClojureScript!\")\n(js/parseInt \"42\")\n(js/Math.random)",
      "metadata": {
        "trusted": true
      },
      "outputs": [
        {
          "execution_count": 60,
          "output_type": "execute_result",
          "data": {
            "text/plain": "0.03118632507468555"
          },
          "metadata": {}
        }
      ],
      "execution_count": 60
    },
    {
      "cell_type": "markdown",
      "source": "### Working with JavaScript objects",
      "metadata": {}
    },
    {
      "cell_type": "code",
      "source": "(def obj (js-obj \"name\" \"John\" \"age\" 30))\n(.-name obj)  ; => \"John\"\n(set! (.-name obj) \"Jane\")",
      "metadata": {
        "trusted": true
      },
      "outputs": [
        {
          "execution_count": 61,
          "output_type": "execute_result",
          "data": {
            "text/plain": "undefined"
          },
          "metadata": {}
        }
      ],
      "execution_count": 61
    },
    {
      "cell_type": "markdown",
      "source": "### Converting between Clojure and JavaScript",
      "metadata": {}
    },
    {
      "cell_type": "code",
      "source": "(clj->js {:name \"John\" :age 30})  ; => JavaScript object\n(js->clj #js {:name \"John\" :age 30}) ; => Clojure map",
      "metadata": {
        "trusted": true
      },
      "outputs": [
        {
          "execution_count": 62,
          "output_type": "execute_result",
          "data": {
            "text/plain": "{\"name\" \"John\", \"age\" 30}"
          },
          "metadata": {}
        }
      ],
      "execution_count": 62
    },
    {
      "cell_type": "markdown",
      "source": "### Using JavaScript array methods",
      "metadata": {}
    },
    {
      "cell_type": "code",
      "source": "(def arr #js [1 2 3])\n(.push arr 4)\n(.join arr \",\")  ; => \"1,2,3,4\"",
      "metadata": {
        "trusted": true
      },
      "outputs": [
        {
          "execution_count": 63,
          "output_type": "execute_result",
          "data": {
            "text/plain": "1,2,3,4"
          },
          "metadata": {}
        }
      ],
      "execution_count": 63
    },
    {
      "cell_type": "markdown",
      "source": "## 10. Regular Expressions and String Operations",
      "metadata": {}
    },
    {
      "cell_type": "markdown",
      "source": "### Regular expressions",
      "metadata": {}
    },
    {
      "cell_type": "code",
      "source": "(def email-regex #\"[a-z0-9._%+-]+@[a-z0-9.-]+\\.[a-z]{2,}\")\n(re-matches email-regex \"user@example.com\")  ; => \"user@example.com\"\n(re-find #\"\\d+\" \"abc123def\")  ; => \"123\"",
      "metadata": {
        "trusted": true
      },
      "outputs": [
        {
          "execution_count": 67,
          "output_type": "execute_result",
          "data": {
            "text/plain": "123"
          },
          "metadata": {}
        }
      ],
      "execution_count": 67
    },
    {
      "cell_type": "markdown",
      "source": "### String operations",
      "metadata": {}
    },
    {
      "cell_type": "code",
      "source": "(clojure.string/split \"a,b,c\" #\",\")  ; => [\"a\" \"b\" \"c\"]\n(clojure.string/join \", \" [1 2 3])   ; => \"1, 2, 3\"\n(clojure.string/replace \"hello world\" #\"o\" \"0\")  ; => \"hell0 w0rld\"\n(clojure.string/upper-case \"hello\")  ; => \"HELLO\"",
      "metadata": {
        "trusted": true
      },
      "outputs": [
        {
          "execution_count": 69,
          "output_type": "execute_result",
          "data": {
            "text/plain": "HELLO"
          },
          "metadata": {}
        }
      ],
      "execution_count": 69
    },
    {
      "cell_type": "markdown",
      "source": "## 11. Lazy Sequences and Range",
      "metadata": {}
    },
    {
      "cell_type": "markdown",
      "source": "### Creating sequences",
      "metadata": {}
    },
    {
      "cell_type": "code",
      "source": "(range 5)        ; => (0 1 2 3 4)\n(range 2 5)      ; => (2 3 4)\n(range 0 10 2)   ; => (0 2 4 6 8)",
      "metadata": {
        "trusted": true
      },
      "outputs": [
        {
          "execution_count": 71,
          "output_type": "execute_result",
          "data": {
            "text/plain": "(0 2 4 6 8)"
          },
          "metadata": {}
        }
      ],
      "execution_count": 71
    },
    {
      "cell_type": "markdown",
      "source": "### Sequence operations",
      "metadata": {}
    },
    {
      "cell_type": "code",
      "source": "(take 3 (range))      ; => (0 1 2)\n(drop 2 [1 2 3 4 5])  ; => (3 4 5)\n(take-while #(< % 4) (range))  ; => (0 1 2 3)\n(drop-while #(< % 4) (range 10))  ; => (4 5 6 7 8 9)",
      "metadata": {
        "trusted": true
      },
      "outputs": [
        {
          "execution_count": 72,
          "output_type": "execute_result",
          "data": {
            "text/plain": "(4 5 6 7 8 9)"
          },
          "metadata": {}
        }
      ],
      "execution_count": 72
    },
    {
      "cell_type": "markdown",
      "source": "## 12. Logic Operations and Set Operations",
      "metadata": {}
    },
    {
      "cell_type": "markdown",
      "source": "### Logic operations",
      "metadata": {}
    },
    {
      "cell_type": "code",
      "source": "(and true false)     ; => false\n(or false nil true)  ; => true\n(not true)           ; => false\n(if-not false :yes)  ; => :yes",
      "metadata": {
        "trusted": true
      },
      "outputs": [
        {
          "execution_count": 74,
          "output_type": "execute_result",
          "data": {
            "text/plain": ":yes"
          },
          "metadata": {}
        }
      ],
      "execution_count": 74
    },
    {
      "cell_type": "markdown",
      "source": "### Set operations",
      "metadata": {}
    },
    {
      "cell_type": "code",
      "source": "(def set1 #{1 2 3})\n(def set2 #{2 3 4})\n(clojure.set/union set1 set2)         ; => #{1 2 3 4}\n(clojure.set/intersection set1 set2)   ; => #{2 3}\n(clojure.set/difference set1 set2)     ; => #{1}",
      "metadata": {
        "trusted": true
      },
      "outputs": [
        {
          "execution_count": 76,
          "output_type": "execute_result",
          "data": {
            "text/plain": "#{1}"
          },
          "metadata": {}
        }
      ],
      "execution_count": 76
    },
    {
      "cell_type": "markdown",
      "source": "## 13. More Collection Operations",
      "metadata": {}
    },
    {
      "cell_type": "markdown",
      "source": "### Into - Adding elements to collections",
      "metadata": {}
    },
    {
      "cell_type": "code",
      "source": "(into [] '(1 2 3))        ; => [1 2 3]\n(into {} [[:a 1] [:b 2]]) ; => {:a 1 :b 2}",
      "metadata": {
        "trusted": true
      },
      "outputs": [
        {
          "execution_count": 79,
          "output_type": "execute_result",
          "data": {
            "text/plain": "{:a 1, :b 2}"
          },
          "metadata": {}
        }
      ],
      "execution_count": 79
    },
    {
      "cell_type": "markdown",
      "source": "### Updating nested structures",
      "metadata": {}
    },
    {
      "cell_type": "code",
      "source": "(update-in {:user {:age 30}} [:user :age] inc)  ; => {:user {:age 31}}\n(assoc-in {} [:user :name] \"John\")             ; => {:user {:name \"John\"}}",
      "metadata": {
        "trusted": true
      },
      "outputs": [
        {
          "execution_count": 80,
          "output_type": "execute_result",
          "data": {
            "text/plain": "{:user {:name \"John\"}}"
          },
          "metadata": {}
        }
      ],
      "execution_count": 80
    },
    {
      "cell_type": "markdown",
      "source": "### Sequence transformations",
      "metadata": {}
    },
    {
      "cell_type": "code",
      "source": "(partition 2 [1 2 3 4 5 6])     ; => ((1 2) (3 4) (5 6))\n(interleave [:a :b :c] [1 2 3]) ; => (:a 1 :b 2 :c 3)\n(interpose \",\" [\"a\" \"b\" \"c\"])   ; => (\"a\" \",\" \"b\" \",\" \"c\")",
      "metadata": {
        "trusted": true
      },
      "outputs": [
        {
          "execution_count": 81,
          "output_type": "execute_result",
          "data": {
            "text/plain": "(\"a\" \",\" \"b\" \",\" \"c\")"
          },
          "metadata": {}
        }
      ],
      "execution_count": 81
    },
    {
      "cell_type": "markdown",
      "source": "## 14. Conditionals and Pattern Matching",
      "metadata": {}
    },
    {
      "cell_type": "markdown",
      "source": "###  Some and every?",
      "metadata": {}
    },
    {
      "cell_type": "code",
      "source": "(some even? [1 2 3 4])     ; => true\n(every? odd? [1 3 5 7])    ; => true",
      "metadata": {
        "trusted": true
      },
      "outputs": [
        {
          "execution_count": 84,
          "output_type": "execute_result",
          "data": {
            "text/plain": "true"
          },
          "metadata": {}
        }
      ],
      "execution_count": 84
    },
    {
      "cell_type": "markdown",
      "source": "### Conditional execution",
      "metadata": {}
    },
    {
      "cell_type": "code",
      "source": "(when-let [x (first [1 2 3])]\n  (+ x 10))                ; => 11",
      "metadata": {
        "trusted": true
      },
      "outputs": [
        {
          "execution_count": 85,
          "output_type": "execute_result",
          "data": {
            "text/plain": "11"
          },
          "metadata": {}
        }
      ],
      "execution_count": 85
    },
    {
      "cell_type": "code",
      "source": "(if-let [x (first [])]\n  (+ x 10)\n  \"empty\")                 ; => \"empty\"",
      "metadata": {
        "trusted": true
      },
      "outputs": [
        {
          "execution_count": 86,
          "output_type": "execute_result",
          "data": {
            "text/plain": "empty"
          },
          "metadata": {}
        }
      ],
      "execution_count": 86
    },
    {
      "cell_type": "markdown",
      "source": "### Multiple value binding",
      "metadata": {}
    },
    {
      "cell_type": "code",
      "source": "(when-let [[x y] [1 2]]\n  (+ x y))                 ; => 3",
      "metadata": {
        "trusted": true
      },
      "outputs": [
        {
          "execution_count": 87,
          "output_type": "execute_result",
          "data": {
            "text/plain": "3"
          },
          "metadata": {}
        }
      ],
      "execution_count": 87
    },
    {
      "cell_type": "markdown",
      "source": "## 15.  Math and Number Operations",
      "metadata": {}
    },
    {
      "cell_type": "markdown",
      "source": "### Math operations",
      "metadata": {}
    },
    {
      "cell_type": "code",
      "source": "(max 1 2 3 4)              ; => 4\n(min 1 2 3 4)              ; => 1\n(Math/abs -5)              ; => 5\n(Math/round 3.7)           ; => 4",
      "metadata": {
        "trusted": true
      },
      "outputs": [
        {
          "execution_count": 89,
          "output_type": "execute_result",
          "data": {
            "text/plain": "4"
          },
          "metadata": {}
        }
      ],
      "execution_count": 89
    },
    {
      "cell_type": "markdown",
      "source": "### Number predicates",
      "metadata": {}
    },
    {
      "cell_type": "code",
      "source": "(pos? 5)                   ; => true\n(neg? -3)                  ; => true\n(zero? 0)                  ; => true\n(even? 4)                  ; => true\n(odd? 3)                   ; => true",
      "metadata": {
        "trusted": true
      },
      "outputs": [
        {
          "execution_count": 90,
          "output_type": "execute_result",
          "data": {
            "text/plain": "true"
          },
          "metadata": {}
        }
      ],
      "execution_count": 90
    },
    {
      "cell_type": "markdown",
      "source": "## 16. Working with Date and Time",
      "metadata": {}
    },
    {
      "cell_type": "markdown",
      "source": "### Creating dates",
      "metadata": {}
    },
    {
      "cell_type": "code",
      "source": "(js/Date.)                    ; Current date\n(js/Date. \"2024-01-01\")      ; Specific date\n(.getTime (js/Date.))       ; Timestamp",
      "metadata": {
        "trusted": true
      },
      "outputs": [
        {
          "execution_count": 97,
          "output_type": "execute_result",
          "data": {
            "text/plain": "1732439226051"
          },
          "metadata": {}
        }
      ],
      "execution_count": 97
    },
    {
      "cell_type": "markdown",
      "source": "### Date operations",
      "metadata": {}
    },
    {
      "cell_type": "code",
      "source": "(def date (js/Date.))\n(.toISOString date)                 ; ISO string format\n(.toLocaleDateString date)          ; Local date string\n(.getFullYear date)                 ; Get year\n(.getMonth date)                    ; Get month (0-11)",
      "metadata": {
        "trusted": true
      },
      "outputs": [
        {
          "execution_count": 98,
          "output_type": "execute_result",
          "data": {
            "text/plain": "10"
          },
          "metadata": {}
        }
      ],
      "execution_count": 98
    },
    {
      "cell_type": "markdown",
      "source": "### More date operations",
      "metadata": {}
    },
    {
      "cell_type": "code",
      "source": "(.getDate date)                     ; Get day of month\n(.getDay date)                      ; Get day of week (0-6)\n(.getHours date)                    ; Get hours\n(.getMinutes date)                  ; Get minutes\n(.getSeconds date)                  ; Get seconds",
      "metadata": {
        "trusted": true
      },
      "outputs": [
        {
          "execution_count": 99,
          "output_type": "execute_result",
          "data": {
            "text/plain": "49"
          },
          "metadata": {}
        }
      ],
      "execution_count": 99
    },
    {
      "cell_type": "markdown",
      "source": "### Date formatting",
      "metadata": {}
    },
    {
      "cell_type": "code",
      "source": "(.toDateString date)",
      "metadata": {
        "trusted": true
      },
      "outputs": [
        {
          "execution_count": 102,
          "output_type": "execute_result",
          "data": {
            "text/plain": "Sun Nov 24 2024"
          },
          "metadata": {}
        }
      ],
      "execution_count": 102
    },
    {
      "cell_type": "code",
      "source": "(.toTimeString date)",
      "metadata": {
        "trusted": true
      },
      "outputs": [
        {
          "execution_count": 101,
          "output_type": "execute_result",
          "data": {
            "text/plain": "17:07:49 GMT+0800 (China Standard Time)"
          },
          "metadata": {}
        }
      ],
      "execution_count": 101
    },
    {
      "cell_type": "markdown",
      "source": "## 17. JSON Operations",
      "metadata": {}
    },
    {
      "cell_type": "markdown",
      "source": "### Parse JSON string",
      "metadata": {}
    },
    {
      "cell_type": "code",
      "source": "(js/JSON.parse \"{\\\"name\\\": \\\"John\\\"}\")",
      "metadata": {
        "trusted": true
      },
      "outputs": [
        {
          "execution_count": 105,
          "output_type": "execute_result",
          "data": {
            "text/plain": "[object Object]"
          },
          "metadata": {}
        }
      ],
      "execution_count": 105
    },
    {
      "cell_type": "markdown",
      "source": "### Convert to JSON string",
      "metadata": {}
    },
    {
      "cell_type": "code",
      "source": "(js/JSON.stringify (clj->js {:name \"John\"}))",
      "metadata": {
        "trusted": true
      },
      "outputs": [
        {
          "execution_count": 106,
          "output_type": "execute_result",
          "data": {
            "text/plain": "{\"name\":\"John\"}"
          },
          "metadata": {}
        }
      ],
      "execution_count": 106
    },
    {
      "cell_type": "markdown",
      "source": "### Working with JSON data",
      "metadata": {}
    },
    {
      "cell_type": "code",
      "source": "(-> \"{\\\"name\\\": \\\"John\\\", \\\"age\\\": 30}\"\n    js/JSON.parse\n    js->clj\n    (get \"name\"))  ; => \"John\"",
      "metadata": {
        "trusted": true
      },
      "outputs": [
        {
          "execution_count": 107,
          "output_type": "execute_result",
          "data": {
            "text/plain": "John"
          },
          "metadata": {}
        }
      ],
      "execution_count": 107
    },
    {
      "cell_type": "markdown",
      "source": "## 18. Function Composition Patterns",
      "metadata": {}
    },
    {
      "cell_type": "markdown",
      "source": "### Juxt - multiple functions on same input",
      "metadata": {}
    },
    {
      "cell_type": "code",
      "source": "(def stats (juxt count first last))\n(stats [1 2 3 4 5])  ; => [5 1 5]",
      "metadata": {
        "trusted": true
      },
      "outputs": [
        {
          "execution_count": 109,
          "output_type": "execute_result",
          "data": {
            "text/plain": "[5 1 5]"
          },
          "metadata": {}
        }
      ],
      "execution_count": 109
    },
    {
      "cell_type": "markdown",
      "source": "### Complement - opposite of a predicate",
      "metadata": {}
    },
    {
      "cell_type": "code",
      "source": "(def not-empty? (complement empty?))\n(not-empty? [1 2 3])  ; => true",
      "metadata": {
        "trusted": true
      },
      "outputs": [
        {
          "execution_count": 110,
          "output_type": "execute_result",
          "data": {
            "text/plain": "true"
          },
          "metadata": {}
        }
      ],
      "execution_count": 110
    },
    {
      "cell_type": "markdown",
      "source": "### Fnil - provide default for nil",
      "metadata": {}
    },
    {
      "cell_type": "code",
      "source": "(def safe-inc (fnil inc 0))\n(safe-inc nil)  ; => 1\n(safe-inc 1)    ; => 2",
      "metadata": {
        "trusted": true
      },
      "outputs": [
        {
          "execution_count": 111,
          "output_type": "execute_result",
          "data": {
            "text/plain": "2"
          },
          "metadata": {}
        }
      ],
      "execution_count": 111
    },
    {
      "cell_type": "markdown",
      "source": "## 19. Error Handling",
      "metadata": {}
    },
    {
      "cell_type": "markdown",
      "source": "### Try-catch in ClojureScript",
      "metadata": {}
    },
    {
      "cell_type": "code",
      "source": "(try\n  (/ 1 0)\n  (catch js/Error e\n    (js/console.error \"Error:\" (.-message e)))\n  (finally\n    (js/console.log \"Cleanup\")))",
      "metadata": {
        "trusted": true
      },
      "outputs": [
        {
          "execution_count": 112,
          "output_type": "execute_result",
          "data": {
            "text/plain": "Infinity"
          },
          "metadata": {}
        }
      ],
      "execution_count": 112
    },
    {
      "cell_type": "markdown",
      "source": "### Custom error handling",
      "metadata": {}
    },
    {
      "cell_type": "code",
      "source": "(defn safe-divide [x y]\n  (try\n    (/ x y)\n    (catch js/Error _\n      :division-error)))",
      "metadata": {
        "trusted": true
      },
      "outputs": [
        {
          "execution_count": 113,
          "output_type": "execute_result",
          "data": {
            "text/plain": "#'user/safe-divide"
          },
          "metadata": {}
        }
      ],
      "execution_count": 113
    },
    {
      "cell_type": "markdown",
      "source": "## 20. Working with Sequences",
      "metadata": {}
    },
    {
      "cell_type": "markdown",
      "source": "### Infinite sequences",
      "metadata": {}
    },
    {
      "cell_type": "code",
      "source": "(def integers (iterate inc 0))\n(take 5 integers)  ; => (0 1 2 3 4)",
      "metadata": {
        "trusted": true
      },
      "outputs": [
        {
          "execution_count": 114,
          "output_type": "execute_result",
          "data": {
            "text/plain": "(0 1 2 3 4)"
          },
          "metadata": {}
        }
      ],
      "execution_count": 114
    },
    {
      "cell_type": "markdown",
      "source": "### Sequence transformations",
      "metadata": {}
    },
    {
      "cell_type": "code",
      "source": "(partition-by #(< % 3) [1 2 3 2 1 4 5])  ; => ((1 2) (3) (2 1) (4 5))\n(partition-all 2 [1 2 3 4 5])            ; => ((1 2) (3 4) (5))\n(frequencies [\"a\" \"b\" \"a\" \"c\"])          ; => {\"a\" 2, \"b\" 1, \"c\" 1}",
      "metadata": {
        "trusted": true
      },
      "outputs": [
        {
          "execution_count": 116,
          "output_type": "execute_result",
          "data": {
            "text/plain": "{\"a\" 2, \"b\" 1, \"c\" 1}"
          },
          "metadata": {}
        }
      ],
      "execution_count": 116
    },
    {
      "cell_type": "markdown",
      "source": "### Sequence combinations",
      "metadata": {}
    },
    {
      "cell_type": "code",
      "source": "(for [x [1 2]\n      y [3 4]]\n  [x y])",
      "metadata": {
        "trusted": true
      },
      "outputs": [
        {
          "execution_count": 117,
          "output_type": "execute_result",
          "data": {
            "text/plain": "([1 3] [1 4] [2 3] [2 4])"
          },
          "metadata": {}
        }
      ],
      "execution_count": 117
    },
    {
      "cell_type": "markdown",
      "source": "## 21. Memoization and Caching",
      "metadata": {}
    },
    {
      "cell_type": "markdown",
      "source": "### Basic memoization",
      "metadata": {}
    },
    {
      "cell_type": "code",
      "source": "(def memo-fn\n  (memoize (fn [x]\n             (js/console.log \"Computing for\" x)\n             (* x x))))",
      "metadata": {
        "trusted": true
      },
      "outputs": [
        {
          "execution_count": 119,
          "output_type": "execute_result",
          "data": {
            "text/plain": "#'user/memo-fn"
          },
          "metadata": {}
        }
      ],
      "execution_count": 119
    },
    {
      "cell_type": "code",
      "source": "(memo-fn 5)  ; Computes and caches",
      "metadata": {
        "trusted": true
      },
      "outputs": [
        {
          "execution_count": 122,
          "output_type": "execute_result",
          "data": {
            "text/plain": "25"
          },
          "metadata": {}
        }
      ],
      "execution_count": 122
    },
    {
      "cell_type": "code",
      "source": "(memo-fn 5)  ; Returns cached result",
      "metadata": {
        "trusted": true
      },
      "outputs": [
        {
          "execution_count": 123,
          "output_type": "execute_result",
          "data": {
            "text/plain": "25"
          },
          "metadata": {}
        }
      ],
      "execution_count": 123
    },
    {
      "cell_type": "markdown",
      "source": "## 22.  Working with Volatile!",
      "metadata": {}
    },
    {
      "cell_type": "markdown",
      "source": "### Using volatile! for local state",
      "metadata": {}
    },
    {
      "cell_type": "code",
      "source": "(def state (volatile! 0))\n(vreset! state 1)        ; Set value\n(vswap! state inc)       ; Update value\n@state                   ; Get value",
      "metadata": {
        "trusted": true
      },
      "outputs": [
        {
          "execution_count": 125,
          "output_type": "execute_result",
          "data": {
            "text/plain": "2"
          },
          "metadata": {}
        }
      ],
      "execution_count": 125
    },
    {
      "cell_type": "markdown",
      "source": "### Performance critical loops",
      "metadata": {}
    },
    {
      "cell_type": "code",
      "source": "(let [v (volatile! 0)]\n  (dotimes [_ 10]\n    (vswap! v + 2))\n  @v)",
      "metadata": {
        "trusted": true
      },
      "outputs": [
        {
          "execution_count": 126,
          "output_type": "execute_result",
          "data": {
            "text/plain": "20"
          },
          "metadata": {}
        }
      ],
      "execution_count": 126
    },
    {
      "cell_type": "markdown",
      "source": "## 23. Loop and Recur",
      "metadata": {}
    },
    {
      "cell_type": "code",
      "source": ";; Basic recursion\n(loop [x 10\n       acc []]\n  (if (zero? x)\n    acc\n    (recur (dec x) (conj acc x))))  ; => [10 9 8 7 6 5 4 3 2 1]\n\n;; Factorial with loop/recur\n(defn factorial [n]\n  (loop [n n\n         acc 1]\n    (if (= n 0)\n      acc\n      (recur (dec n) (* acc n)))))",
      "metadata": {
        "trusted": true
      },
      "outputs": [
        {
          "execution_count": 127,
          "output_type": "execute_result",
          "data": {
            "text/plain": "#'user/factorial"
          },
          "metadata": {}
        }
      ],
      "execution_count": 127
    },
    {
      "cell_type": "markdown",
      "source": "### Basic recursion",
      "metadata": {}
    },
    {
      "cell_type": "code",
      "source": "(loop [x 10\n       acc []]\n  (if (zero? x)\n    acc\n    (recur (dec x) (conj acc x))))  ; => [10 9 8 7 6 5 4 3 2 1]",
      "metadata": {
        "trusted": true
      },
      "outputs": [
        {
          "execution_count": 128,
          "output_type": "execute_result",
          "data": {
            "text/plain": "[10 9 8 7 6 5 4 3 2 1]"
          },
          "metadata": {}
        }
      ],
      "execution_count": 128
    },
    {
      "cell_type": "markdown",
      "source": "### Factorial with loop/recur",
      "metadata": {}
    },
    {
      "cell_type": "code",
      "source": "(defn factorial [n]\n  (loop [n n\n         acc 1]\n    (if (= n 0)\n      acc\n      (recur (dec n) (* acc n)))))",
      "metadata": {
        "trusted": true
      },
      "outputs": [
        {
          "execution_count": 130,
          "output_type": "execute_result",
          "data": {
            "text/plain": "#'user/factorial"
          },
          "metadata": {}
        }
      ],
      "execution_count": 130
    },
    {
      "cell_type": "code",
      "source": "(factorial 10)",
      "metadata": {
        "trusted": true
      },
      "outputs": [
        {
          "execution_count": 131,
          "output_type": "execute_result",
          "data": {
            "text/plain": "3628800"
          },
          "metadata": {}
        }
      ],
      "execution_count": 131
    },
    {
      "cell_type": "markdown",
      "source": "## 24.  Conditional Threading Macros",
      "metadata": {}
    },
    {
      "cell_type": "markdown",
      "source": "### some->",
      "metadata": {}
    },
    {
      "cell_type": "code",
      "source": ";; some-> (thread-first with nil short-circuiting)\n;; Returns nil if any step returns nil, otherwise threads value through\n\n(some-> {:a {:b {:c 1}}}\n        :a\n        :b\n        :c\n        inc)  ; => 2\n\n(some-> {:a nil}\n        :a\n        :b\n        inc)  ; => nil",
      "metadata": {
        "trusted": true
      },
      "outputs": [
        {
          "execution_count": 137,
          "output_type": "execute_result",
          "data": {
            "text/plain": "null"
          },
          "metadata": {}
        }
      ],
      "execution_count": 137
    },
    {
      "cell_type": "markdown",
      "source": "###  some->>",
      "metadata": {}
    },
    {
      "cell_type": "code",
      "source": ";; (thread-last with nil short-circuiting)\n;; Similar to some->, but inserts value as last argument\n(some->> [1 2 3 4]\n         (map inc)\n         (filter even?)\n         (reduce +))  ; => 10\n\n(some->> []\n         (map inc)\n         (filter even?)\n         first)  ; => nil",
      "metadata": {
        "trusted": true
      },
      "outputs": [
        {
          "execution_count": 136,
          "output_type": "execute_result",
          "data": {
            "text/plain": "null"
          },
          "metadata": {}
        }
      ],
      "execution_count": 136
    },
    {
      "cell_type": "markdown",
      "source": "### cond-> ",
      "metadata": {}
    },
    {
      "cell_type": "code",
      "source": ";; cond-> (conditional thread-first)\n;; Performs transformations only when the condition is true\n(cond-> 5\n        true inc                ; always applies\n        (> 5 3) (* 2)          ; applies when 5 > 3\n        false dec              ; never applies\n        (= 5 10) (* 3))       ; doesn't apply",
      "metadata": {
        "trusted": true
      },
      "outputs": [
        {
          "execution_count": 140,
          "output_type": "execute_result",
          "data": {
            "text/plain": "12"
          },
          "metadata": {}
        }
      ],
      "execution_count": 140
    },
    {
      "cell_type": "markdown",
      "source": "### cond->>",
      "metadata": {}
    },
    {
      "cell_type": "code",
      "source": ";; cond->> (conditional thread-last)\n;; Like cond->, but threads values as last argument\n(cond->> [1 2 3 4]\n         true (map inc)                    ; always applies\n         (> (count [1 2]) 1) (filter odd?) ; applies when condition is true\n         false (map str))                  ; never applies",
      "metadata": {
        "trusted": true
      },
      "outputs": [
        {
          "execution_count": 142,
          "output_type": "execute_result",
          "data": {
            "text/plain": "(3 5)"
          },
          "metadata": {}
        }
      ],
      "execution_count": 142
    },
    {
      "cell_type": "markdown",
      "source": "### Practical examples",
      "metadata": {}
    },
    {
      "cell_type": "code",
      "source": ";; Example 1: Processing user data\n(defn process-user [user]\n  (cond-> user\n          (:name user) (update :name clojure.string/trim)\n          (:age user) (update :age #(max 0 %))\n          (nil? (:active user)) (assoc :active true)))",
      "metadata": {
        "trusted": true
      },
      "outputs": [
        {
          "execution_count": 143,
          "output_type": "execute_result",
          "data": {
            "text/plain": "#'user/process-user"
          },
          "metadata": {}
        }
      ],
      "execution_count": 143
    },
    {
      "cell_type": "code",
      "source": ";; Example 2: API response processing\n(defn process-response [response]\n  (some-> response\n          :body\n          :data\n          :items\n          first\n          :id))",
      "metadata": {
        "trusted": true
      },
      "outputs": [
        {
          "execution_count": 144,
          "output_type": "execute_result",
          "data": {
            "text/plain": "#'user/process-response"
          },
          "metadata": {}
        }
      ],
      "execution_count": 144
    },
    {
      "cell_type": "code",
      "source": ";; Example 3: Number processing pipeline\n(defn process-number [n]\n  (cond->> n\n           (number? n) (+ 5)\n           (> n 10) (* 2)\n           (even? n) (/ 2)))",
      "metadata": {
        "trusted": true
      },
      "outputs": [
        {
          "execution_count": 145,
          "output_type": "execute_result",
          "data": {
            "text/plain": "#'user/process-number"
          },
          "metadata": {}
        }
      ],
      "execution_count": 145
    },
    {
      "cell_type": "code",
      "source": ";; Example 4: Collection processing\n(defn process-collection [coll]\n  (some->> coll\n           (remove nil?)\n           (map inc)\n           (filter even?)\n           not-empty))  ; returns nil if result is empty",
      "metadata": {
        "trusted": true
      },
      "outputs": [
        {
          "execution_count": 146,
          "output_type": "execute_result",
          "data": {
            "text/plain": "#'user/process-collection"
          },
          "metadata": {}
        }
      ],
      "execution_count": 146
    },
    {
      "cell_type": "code",
      "source": ";; Example 5: Complex data transformation\n(defn transform-data [data]\n  (cond-> data\n          (:numbers data) (update :numbers #(map inc %))\n          (:text data) (update :text clojure.string/upper-case)\n          (:valid? data) (assoc :processed true)\n          (:items data) (update :items #(filter some? %))))",
      "metadata": {
        "trusted": true
      },
      "outputs": [
        {
          "execution_count": 147,
          "output_type": "execute_result",
          "data": {
            "text/plain": "#'user/transform-data"
          },
          "metadata": {}
        }
      ],
      "execution_count": 147
    },
    {
      "cell_type": "code",
      "source": "",
      "metadata": {
        "trusted": true
      },
      "outputs": [],
      "execution_count": null
    }
  ]
}