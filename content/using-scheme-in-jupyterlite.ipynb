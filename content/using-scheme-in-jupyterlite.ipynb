{
  "metadata": {
    "kernelspec": {
      "name": "scheme",
      "display_name": "scheme",
      "language": "scheme"
    },
    "language_info": {
      "codemirror_mode": {
        "name": "scheme"
      },
      "file_extension": ".scm",
      "mimetype": "text/x-scheme",
      "name": "scheme",
      "version": "10.2.0",
      "pygments_lexer": "scheme"
    }
  },
  "nbformat_minor": 4,
  "nbformat": 4,
  "cells": [
    {
      "cell_type": "markdown",
      "source": "## 1. Basic Operations",
      "metadata": {}
    },
    {
      "cell_type": "code",
      "source": ";; Basic arithmetic operations\n(+ 1 2 3)      ; Addition\n(- 10 5)       ; Subtraction\n(* 2 3 4)      ; Multiplication\n(/ 10 2)       ; Division",
      "metadata": {
        "trusted": true
      },
      "outputs": [
        {
          "execution_count": 1,
          "output_type": "execute_result",
          "data": {
            "text/plain": "5"
          },
          "metadata": {}
        }
      ],
      "execution_count": 1
    },
    {
      "cell_type": "code",
      "source": ";; Comparison operations\n(< 1 2)        ; Less than\n(> 3 2)        ; Greater than\n(= 4 4)        ; Equal to\n(<= 2 2)       ; Less than or equal to\n(>= 5 5)       ; Greater than or equal to",
      "metadata": {
        "trusted": true
      },
      "outputs": [
        {
          "execution_count": 2,
          "output_type": "execute_result",
          "data": {
            "text/plain": "#t"
          },
          "metadata": {}
        }
      ],
      "execution_count": 2
    },
    {
      "cell_type": "code",
      "source": ";; Boolean operations\n(and #t #f)    ; Logical AND\n(or #t #f)     ; Logical OR\n(not #t)",
      "metadata": {
        "trusted": true
      },
      "outputs": [
        {
          "execution_count": 3,
          "output_type": "execute_result",
          "data": {
            "text/plain": ""
          },
          "metadata": {}
        }
      ],
      "execution_count": 3
    },
    {
      "cell_type": "markdown",
      "source": "## 2. Variables and Definitions",
      "metadata": {}
    },
    {
      "cell_type": "code",
      "source": ";; Define variables\n(define x 10)\n(define y (+ x 5))\n\n;; Use variables\n(* x y)",
      "metadata": {
        "trusted": true
      },
      "outputs": [
        {
          "execution_count": 4,
          "output_type": "execute_result",
          "data": {
            "text/plain": "150"
          },
          "metadata": {}
        }
      ],
      "execution_count": 4
    },
    {
      "cell_type": "markdown",
      "source": "## 3. Conditional Statements",
      "metadata": {}
    },
    {
      "cell_type": "code",
      "source": ";; Using if\n(if (> x y)\n    \"x is greater\"\n    \"y is greater\")\n",
      "metadata": {
        "trusted": true
      },
      "outputs": [
        {
          "execution_count": 5,
          "output_type": "execute_result",
          "data": {
            "text/plain": "\"y is greater\""
          },
          "metadata": {}
        }
      ],
      "execution_count": 5
    },
    {
      "cell_type": "code",
      "source": ";; Using cond\n(cond\n  [(> x y) \"x is greater\"]\n  [(< x y) \"y is greater\"]\n  [else \"x and y are equal\"])",
      "metadata": {
        "trusted": true
      },
      "outputs": [
        {
          "execution_count": 6,
          "output_type": "execute_result",
          "data": {
            "text/plain": "\"y is greater\""
          },
          "metadata": {}
        }
      ],
      "execution_count": 6
    },
    {
      "cell_type": "markdown",
      "source": "# 4. Functions",
      "metadata": {}
    },
    {
      "cell_type": "code",
      "source": ";; Define a simple function\n(define (square n)\n  (* n n))\n\n;; Call the function\n(square 4)\n\n",
      "metadata": {
        "trusted": true
      },
      "outputs": [
        {
          "execution_count": 7,
          "output_type": "execute_result",
          "data": {
            "text/plain": "16"
          },
          "metadata": {}
        }
      ],
      "execution_count": 7
    },
    {
      "cell_type": "code",
      "source": ";; Define a recursive function\n(define (factorial n)\n  (if (= n 0)\n      1\n      (* n (factorial (- n 1)))))\n\n;; Call the recursive function\n(factorial 5)",
      "metadata": {
        "trusted": true
      },
      "outputs": [
        {
          "execution_count": 8,
          "output_type": "execute_result",
          "data": {
            "text/plain": "120"
          },
          "metadata": {}
        }
      ],
      "execution_count": 8
    },
    {
      "cell_type": "markdown",
      "source": "# 5. List Operations\n\n",
      "metadata": {}
    },
    {
      "cell_type": "code",
      "source": ";; Create a list\n(define lst '(1 2 3 4 5))",
      "metadata": {
        "trusted": true
      },
      "outputs": [
        {
          "execution_count": 9,
          "output_type": "execute_result",
          "data": {
            "text/plain": "#<void>"
          },
          "metadata": {}
        }
      ],
      "execution_count": 9
    },
    {
      "cell_type": "code",
      "source": ";; Basic list operations\n(car lst)      ; Get the first element\n(cdr lst)      ; Get the rest of the elements\n(cons 0 lst)   ; Add an element to the head of the list\n(length lst)   ; Get the length of the list",
      "metadata": {
        "trusted": true
      },
      "outputs": [
        {
          "execution_count": 10,
          "output_type": "execute_result",
          "data": {
            "text/plain": "5"
          },
          "metadata": {}
        }
      ],
      "execution_count": 10
    },
    {
      "cell_type": "code",
      "source": ";; Mapping and filtering\n(map square lst)                  ; Map operation\n(filter (lambda (x) (> x 3)) lst) ; Filter operation",
      "metadata": {
        "trusted": true
      },
      "outputs": [
        {
          "execution_count": 11,
          "output_type": "execute_result",
          "data": {
            "text/plain": "(4 5)"
          },
          "metadata": {}
        }
      ],
      "execution_count": 11
    },
    {
      "cell_type": "markdown",
      "source": "# 6. Higher-Order Functions",
      "metadata": {}
    },
    {
      "cell_type": "code",
      "source": ";; Using a lambda expression\n(map (lambda (x) (* x 2)) lst)",
      "metadata": {
        "trusted": true
      },
      "outputs": [
        {
          "execution_count": 12,
          "output_type": "execute_result",
          "data": {
            "text/plain": "(2 4 6 8 10)"
          },
          "metadata": {}
        }
      ],
      "execution_count": 12
    },
    {
      "cell_type": "code",
      "source": ";; Custom higher-order function\n(define (apply-twice f x)\n  (f (f x)))\n\n;; Call the higher-order function\n(apply-twice square 2)",
      "metadata": {
        "trusted": true
      },
      "outputs": [
        {
          "execution_count": 13,
          "output_type": "execute_result",
          "data": {
            "text/plain": "16"
          },
          "metadata": {}
        }
      ],
      "execution_count": 13
    },
    {
      "cell_type": "code",
      "source": "(display \"Hello\")\n(newline)",
      "metadata": {
        "trusted": true
      },
      "outputs": [
        {
          "name": "stdout",
          "text": "Hello\n",
          "output_type": "stream"
        },
        {
          "execution_count": 14,
          "output_type": "execute_result",
          "data": {
            "text/plain": "#<void>"
          },
          "metadata": {}
        }
      ],
      "execution_count": 14
    },
    {
      "cell_type": "markdown",
      "source": "## 7. Input and Output",
      "metadata": {}
    },
    {
      "cell_type": "code",
      "source": ";; Output to the console\n(display \"Hello, Scheme!\")\n(newline)",
      "metadata": {
        "trusted": true
      },
      "outputs": [
        {
          "name": "stdout",
          "text": "Hello, Scheme!\n",
          "output_type": "stream"
        },
        {
          "execution_count": 15,
          "output_type": "execute_result",
          "data": {
            "text/plain": "#<void>"
          },
          "metadata": {}
        }
      ],
      "execution_count": 15
    },
    {
      "cell_type": "markdown",
      "source": "## 8. Loops",
      "metadata": {}
    },
    {
      "cell_type": "code",
      "source": ";; Simulate a loop using recursion\n(define (print-n-times n)\n  (if (> n 0)\n      (begin\n        (display \"Scheme\")\n        (newline)\n        (print-n-times (- n 1)))))\n\n(print-n-times 3)",
      "metadata": {
        "trusted": true
      },
      "outputs": [
        {
          "name": "stdout",
          "text": "Scheme\nScheme\nScheme\n",
          "output_type": "stream"
        },
        {
          "execution_count": 16,
          "output_type": "execute_result",
          "data": {
            "text/plain": "#<void>"
          },
          "metadata": {}
        }
      ],
      "execution_count": 16
    },
    {
      "cell_type": "markdown",
      "source": "## 10. String Operations",
      "metadata": {}
    },
    {
      "cell_type": "code",
      "source": ";; String concatenation\n(string-append \"Hello, \" \"World!\")\n\n;; String length\n(string-length \"Scheme\")\n\n;; Substring\n(substring \"Functional Programming\" 0 10)\n\n;; String comparison\n(string=? \"Scheme\" \"scheme\") ; Case-sensitive\n(string-ci=? \"Scheme\" \"scheme\") ; Case-insensitive",
      "metadata": {
        "trusted": true
      },
      "outputs": [
        {
          "execution_count": 17,
          "output_type": "execute_result",
          "data": {
            "text/plain": "#t"
          },
          "metadata": {}
        }
      ],
      "execution_count": 17
    },
    {
      "cell_type": "markdown",
      "source": "## 11. Symbol Manipulation",
      "metadata": {}
    },
    {
      "cell_type": "code",
      "source": ";; Create symbols\n(define sym 'hello)\n\n;; Compare symbols\n(eq? 'hello 'hello) ; Returns #t\n(eq? 'hello 'world) ; Returns #f\n\n;; Convert between strings and symbols\n(string->symbol \"scheme\")\n(symbol->string 'scheme)",
      "metadata": {
        "trusted": true
      },
      "outputs": [
        {
          "execution_count": 18,
          "output_type": "execute_result",
          "data": {
            "text/plain": "\"scheme\""
          },
          "metadata": {}
        }
      ],
      "execution_count": 18
    },
    {
      "cell_type": "markdown",
      "source": "## 12. Pair Operations",
      "metadata": {}
    },
    {
      "cell_type": "code",
      "source": ";; Create a pair\n(define p (cons 1 2))\n\n;; Access pair elements\n(car p) ; First element\n(cdr p) ; Second element\n\n;; Check if a pair\n(pair? p) ; Returns #t\n\n;; Nested pairs (representing lists)\n(define nested-pair (cons (cons 1 2) (cons 3 4)))\n(car (car nested-pair)) ; Access nested elements",
      "metadata": {
        "trusted": true
      },
      "outputs": [
        {
          "execution_count": 19,
          "output_type": "execute_result",
          "data": {
            "text/plain": "1"
          },
          "metadata": {}
        }
      ],
      "execution_count": 19
    },
    {
      "cell_type": "markdown",
      "source": "## 13. Vectors",
      "metadata": {}
    },
    {
      "cell_type": "code",
      "source": ";; Create a vector\n(define vec (vector 1 2 3 4 5))\n\n;; Access and modify vector elements\n(vector-ref vec 2) ; Get the third element\n(vector-set! vec 2 10) ; Modify the third element\n\n;; Vector length\n(vector-length vec)\n\n;; Convert between list and vector\n(list->vector '(1 2 3))\n(vector->list vec)",
      "metadata": {
        "trusted": true
      },
      "outputs": [
        {
          "execution_count": 20,
          "output_type": "execute_result",
          "data": {
            "text/plain": "(1 2 10 4 5)"
          },
          "metadata": {}
        }
      ],
      "execution_count": 20
    },
    {
      "cell_type": "markdown",
      "source": "## 14. Error Handling",
      "metadata": {}
    },
    {
      "cell_type": "code",
      "source": "; ??",
      "metadata": {
        "trusted": true
      },
      "outputs": [
        {
          "execution_count": 21,
          "output_type": "execute_result",
          "data": {
            "text/plain": ""
          },
          "metadata": {}
        }
      ],
      "execution_count": 21
    },
    {
      "cell_type": "markdown",
      "source": "## 15. Delayed Evaluation (Promises)",
      "metadata": {}
    },
    {
      "cell_type": "code",
      "source": ";; Create a promise\n(define promise (delay (* 2 3)))\n\n;; Force the promise to evaluate\n(force promise)\n\n;; Lazy computation using promises\n(define lazy-sum\n  (lambda (a b)\n    (delay (+ a b))))\n\n(force (lazy-sum 5 10)) ; Evaluates to 15",
      "metadata": {
        "trusted": true
      },
      "outputs": [
        {
          "execution_count": 22,
          "output_type": "execute_result",
          "data": {
            "text/plain": "15"
          },
          "metadata": {}
        }
      ],
      "execution_count": 22
    },
    {
      "cell_type": "markdown",
      "source": "## 16. Iteration Using do",
      "metadata": {}
    },
    {
      "cell_type": "code",
      "source": ";; Using do for iteration\n(do ((i 1 (+ i 1))) ; Initialize i to 1 and increment by 1\n    ((> i 5))       ; Stop when i > 5\n  (display i)       ; Body of the loop\n  (newline))",
      "metadata": {
        "trusted": true
      },
      "outputs": [
        {
          "name": "stdout",
          "text": "1\n2\n3\n4\n5\n",
          "output_type": "stream"
        },
        {
          "execution_count": 23,
          "output_type": "execute_result",
          "data": {
            "text/plain": "#<void>"
          },
          "metadata": {}
        }
      ],
      "execution_count": 23
    },
    {
      "cell_type": "markdown",
      "source": "## 17. Let Bindings",
      "metadata": {}
    },
    {
      "cell_type": "code",
      "source": ";; Simple let binding\n(let ((x 10)\n      (y 20))\n  (+ x y)) ; Returns 30\n\n;; Nested let bindings\n(let ((a 1))\n  (let ((b 2))\n    (+ a b))) ; Returns 3\n\n;; Named let for recursion\n(let loop ((n 5))\n  (if (> n 0)\n      (begin\n        (display n)\n        (newline)\n        (loop (- n 1)))))",
      "metadata": {
        "trusted": true
      },
      "outputs": [
        {
          "name": "stdout",
          "text": "5\n4\n3\n2\n1\n",
          "output_type": "stream"
        },
        {
          "execution_count": 24,
          "output_type": "execute_result",
          "data": {
            "text/plain": "#<void>"
          },
          "metadata": {}
        }
      ],
      "execution_count": 24
    },
    {
      "cell_type": "markdown",
      "source": "## 19. Macros",
      "metadata": {}
    },
    {
      "cell_type": "code",
      "source": ";; Simple macro\n(define-syntax when\n  (syntax-rules ()\n    ((when test body ...)\n     (if test (begin body ...)))))\n\n;; Use the macro\n(when (> 5 3)\n  (display \"5 is greater than 3\")\n  (newline))\n\n;; Defining a macro to simplify repeated tasks\n(define-syntax inc!\n  (syntax-rules ()\n    ((inc! var)\n     (set! var (+ var 1)))))\n\n;; Use the macro\n(define counter 0)\n(inc! counter)\n(display counter)",
      "metadata": {
        "trusted": true
      },
      "outputs": [
        {
          "name": "stdout",
          "text": "5 is greater than 3\n",
          "output_type": "stream"
        },
        {
          "execution_count": 25,
          "output_type": "execute_result",
          "data": {
            "text/plain": "#<void>"
          },
          "metadata": {}
        }
      ],
      "execution_count": 25
    },
    {
      "cell_type": "code",
      "source": "(display counter)",
      "metadata": {
        "trusted": true
      },
      "outputs": [
        {
          "execution_count": 26,
          "output_type": "execute_result",
          "data": {
            "text/plain": "#<void>"
          },
          "metadata": {}
        }
      ],
      "execution_count": 26
    },
    {
      "cell_type": "code",
      "source": "counter",
      "metadata": {
        "trusted": true
      },
      "outputs": [
        {
          "execution_count": 27,
          "output_type": "execute_result",
          "data": {
            "text/plain": "1"
          },
          "metadata": {}
        }
      ],
      "execution_count": 27
    },
    {
      "cell_type": "markdown",
      "source": "## 20. Advanced Recursive Patterns",
      "metadata": {}
    },
    {
      "cell_type": "code",
      "source": ";; Recursive sum of a list\n(define (sum lst)\n  (if (null? lst)\n      0\n      (+ (car lst) (sum (cdr lst)))))\n\n(sum '(1 2 3 4 5)) ; Returns 15\n\n;; Tail-recursive factorial\n(define (factorial-tail n acc)\n  (if (= n 0)\n      acc\n      (factorial-tail (- n 1) (* n acc))))\n\n(factorial-tail 5 1) ; Returns 120",
      "metadata": {
        "trusted": true
      },
      "outputs": [
        {
          "execution_count": 28,
          "output_type": "execute_result",
          "data": {
            "text/plain": "120"
          },
          "metadata": {}
        }
      ],
      "execution_count": 28
    },
    {
      "cell_type": "markdown",
      "source": "## 21. Continuations",
      "metadata": {}
    },
    {
      "cell_type": "code",
      "source": ";; Using call/cc (call-with-current-continuation)\n(define (example-continuation)\n  (call/cc\n    (lambda (cont)\n      (cont \"Exited early\")\n      \"This will not be executed\")))\n\n(example-continuation) ; Returns \"Exited early\"",
      "metadata": {
        "trusted": true
      },
      "outputs": [
        {
          "execution_count": 29,
          "output_type": "execute_result",
          "data": {
            "text/plain": "\"Exited early\""
          },
          "metadata": {}
        }
      ],
      "execution_count": 29
    },
    {
      "cell_type": "markdown",
      "source": "## 23. Multiple Return Values",
      "metadata": {}
    },
    {
      "cell_type": "code",
      "source": ";; Define a point structure\n(define (make-point x y)\n  (list x y))\n\n(define (point-x p) (car p))\n(define (point-y p) (cadr p))\n\n;; Use the point structure\n(define p (make-point 3 4))\n(+ (point-x p) (point-y p)) ; Returns 7",
      "metadata": {
        "trusted": true
      },
      "outputs": [
        {
          "execution_count": 30,
          "output_type": "execute_result",
          "data": {
            "text/plain": "7"
          },
          "metadata": {}
        }
      ],
      "execution_count": 30
    },
    {
      "cell_type": "markdown",
      "source": "## 26. Associative Lists (Alists)",
      "metadata": {}
    },
    {
      "cell_type": "code",
      "source": ";; Create an alist\n(define alist '((key1 . \"value1\") (key2 . \"value2\")))\n\n;; Lookup a key\n(define (lookup key alist)\n  (cond\n    [(null? alist) #f]\n    [(eq? (car (car alist)) key) (cdr (car alist))]\n    [else (lookup key (cdr alist))]))\n\n(lookup 'key1 alist)",
      "metadata": {
        "trusted": true
      },
      "outputs": [
        {
          "execution_count": 31,
          "output_type": "execute_result",
          "data": {
            "text/plain": "\"value1\""
          },
          "metadata": {}
        }
      ],
      "execution_count": 31
    },
    {
      "cell_type": "markdown",
      "source": "## 27. Memoization",
      "metadata": {}
    },
    {
      "cell_type": "code",
      "source": "(define (memoize f)\n  (let ((cache '())) ; Initialize an empty alist\n    (lambda (x)\n      (let ((entry (assoc x cache))) ; Check if x is in the cache\n        (if entry\n            (cdr entry) ; Return the cached value\n            (let ((result (f x)))\n              (set! cache (cons (cons x result) cache)) ; Add to cache\n              result))))))",
      "metadata": {
        "trusted": true
      },
      "outputs": [
        {
          "execution_count": 32,
          "output_type": "execute_result",
          "data": {
            "text/plain": "#<void>"
          },
          "metadata": {}
        }
      ],
      "execution_count": 32
    },
    {
      "cell_type": "code",
      "source": "(define (fib n)\n  (if (<= n 1)\n      n\n      (+ (fib (- n 1)) (fib (- n 2)))))\n\n(define memo-fib (memoize fib))\n\n(memo-fib 10) ",
      "metadata": {
        "trusted": true
      },
      "outputs": [
        {
          "execution_count": 33,
          "output_type": "execute_result",
          "data": {
            "text/plain": "55"
          },
          "metadata": {}
        }
      ],
      "execution_count": 33
    },
    {
      "cell_type": "code",
      "source": "",
      "metadata": {
        "trusted": true
      },
      "outputs": [],
      "execution_count": null
    }
  ]
}